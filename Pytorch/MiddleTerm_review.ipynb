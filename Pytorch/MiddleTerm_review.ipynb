{
 "cells": [
  {
   "cell_type": "code",
   "execution_count": 1,
   "id": "edb9a40b-1828-407a-9b6e-087c7a69eb4a",
   "metadata": {},
   "outputs": [
    {
     "name": "stdout",
     "output_type": "stream",
     "text": [
      "Collecting torch\n",
      "  Downloading torch-2.0.0-cp38-cp38-win_amd64.whl (172.3 MB)\n",
      "     ------------------------------------- 172.3/172.3 MB 13.1 MB/s eta 0:00:00\n",
      "Collecting torchvision\n",
      "  Downloading torchvision-0.15.1-cp38-cp38-win_amd64.whl (1.2 MB)\n",
      "     ---------------------------------------- 1.2/1.2 MB 25.2 MB/s eta 0:00:00\n",
      "Requirement already satisfied: networkx in c:\\users\\rch\\anaconda3\\lib\\site-packages (from torch) (2.8.4)\n",
      "Requirement already satisfied: sympy in c:\\users\\rch\\anaconda3\\lib\\site-packages (from torch) (1.11.1)\n",
      "Requirement already satisfied: filelock in c:\\users\\rch\\anaconda3\\lib\\site-packages (from torch) (3.6.0)\n",
      "Requirement already satisfied: typing-extensions in c:\\users\\rch\\anaconda3\\lib\\site-packages (from torch) (4.4.0)\n",
      "Requirement already satisfied: jinja2 in c:\\users\\rch\\anaconda3\\lib\\site-packages (from torch) (2.11.3)\n",
      "Requirement already satisfied: numpy in c:\\users\\rch\\anaconda3\\lib\\site-packages (from torchvision) (1.23.5)\n",
      "Requirement already satisfied: pillow!=8.3.*,>=5.3.0 in c:\\users\\rch\\anaconda3\\lib\\site-packages (from torchvision) (9.3.0)\n",
      "Requirement already satisfied: requests in c:\\users\\rch\\anaconda3\\lib\\site-packages (from torchvision) (2.28.1)\n",
      "Requirement already satisfied: MarkupSafe>=0.23 in c:\\users\\rch\\anaconda3\\lib\\site-packages (from jinja2->torch) (2.0.1)\n",
      "Requirement already satisfied: urllib3<1.27,>=1.21.1 in c:\\users\\rch\\anaconda3\\lib\\site-packages (from requests->torchvision) (1.26.13)\n",
      "Requirement already satisfied: charset-normalizer<3,>=2 in c:\\users\\rch\\anaconda3\\lib\\site-packages (from requests->torchvision) (2.0.4)\n",
      "Requirement already satisfied: certifi>=2017.4.17 in c:\\users\\rch\\anaconda3\\lib\\site-packages (from requests->torchvision) (2022.12.7)\n",
      "Requirement already satisfied: idna<4,>=2.5 in c:\\users\\rch\\anaconda3\\lib\\site-packages (from requests->torchvision) (3.3)\n",
      "Requirement already satisfied: mpmath>=0.19 in c:\\users\\rch\\anaconda3\\lib\\site-packages (from sympy->torch) (1.2.1)\n",
      "Installing collected packages: torch, torchvision\n",
      "Successfully installed torch-2.0.0 torchvision-0.15.1\n"
     ]
    }
   ],
   "source": [
    "!pip install torch torchvision\n",
    "import torch\n",
    "import torch.nn as nn\n",
    "import torch.optim as optim\n",
    "import torch.nn.init as init\n",
    "import torchvision.datasets as ds\n",
    "import torchvision.transforms as transforms\n",
    "from torch.utils.data import DataLoader\n",
    "import numpy as np\n",
    "import matplotlib.pyplot as plt"
   ]
  },
  {
   "cell_type": "code",
   "execution_count": null,
   "id": "335909fa-f675-4fac-9199-322edca8c7ac",
   "metadata": {},
   "outputs": [],
   "source": [
    "transform_train = transforms.Compose([\n",
    "        transforms.Resize(256),\n",
    "        transforms.RandomCrop(224),\n",
    "        transforms.RandomHorizontalFlip(),\n",
    "        transforms.ToTensor(),\n",
    "        transforms.Normalize((0.4914, 0.4822, 0.4465), (0.2470, 0.2435, 0.2616))])\n",
    "\n",
    "transform_test = transforms.Compose([\n",
    "        transforms.Resize(224),\n",
    "        transforms.ToTensor(),\n",
    "        transforms.Normalize((0.4914, 0.4822, 0.4465), (0.2470, 0.2435, 0.2616))])\n",
    "\n",
    "batch_size = 2\n",
    "\n",
    "cifar10_train =  ds.CIFAR10('../', train = True, transform = transform_train, target_transform = None, download = True)\n",
    "cifar10_test = ds.CIFAR10('../', train = False, transform = transform_test, target_transform = None, download = True)\n",
    "\n",
    "\n",
    "train_loader = DataLoader(cifar10_train, batch_size = batch_size, shuffle = True, num_workers = 2, drop_last = True)\n",
    "\n",
    "test_loader = DataLoader(cifar10_test, batch_size = batch_size, shuffle = False, num_workers = 2, drop_last = True)"
   ]
  },
  {
   "cell_type": "code",
   "execution_count": null,
   "id": "01412d3c-f69b-4840-ab86-87458a1dd672",
   "metadata": {},
   "outputs": [],
   "source": [
    "class CNN(nn.Module):\n",
    "    def __init__(self):\n",
    "        super(CNN,self).__init__()\n",
    "        self.layer = nn.Sequential(\n",
    "            # Conv1, MaxPool1, Conv2, MaxPool2, Conv3, MaxPool3 구현            \n",
    "        nn.Conv2d(in_channels = 3, out_channels = 96, kernel_size = 7, stride = 4, padding = 3), #[96, 56, 56]\n",
    "        nn.ReLU(),\n",
    "        nn.MaxPool2d(kernel_size = 3, stride = 2, padding = 1 ), #[96 * 28 * 28]\n",
    "\n",
    "        nn.Conv2d(in_channels = 96, out_channels = 256, kernel_size = 5, stride = 1, padding = 2),\n",
    "        nn.ReLU(),\n",
    "        nn.MaxPool2d(kernel_size = 3, stride = 2, padding = 1), # [256, 14, 14]\n",
    "\n",
    "        nn.Conv2d(in_channels = 256, out_channels = 384, kernel_size = 3, stride = 1, padding = 0),  ###여기서 kernel_size가 3인데, 스트라이드를 1 주면 데이터 손실.\n",
    "                                                                                                        # 패딩값이 0이기 때문에, [256,14,14] -> [384, 12, 12]로 됨.\n",
    "        nn.ReLU(),\n",
    "        nn.MaxPool2d(kernel_size = 7, stride = 1, padding = 0), #[384, 12, 12]\n",
    "\n",
    "\n",
    "\n",
    "        \n",
    "        )\n",
    "        self.fc_layer = nn.Sequential(                              \n",
    "            # Linear1, Linear2 구현\n",
    "            nn.Linear(384 * 12 * 12, 4096),\n",
    "            nn.ReLU(),\n",
    "\n",
    "            nn.Linear(4096, 10)\n",
    "\n",
    "        )       \n",
    "        \n",
    "    def forward(self,x):\n",
    "        out = self.layer(x)\n",
    "        out = out.view(batch_size,-1)\n",
    "        out = self.fc_layer(out)\n",
    "        return out"
   ]
  },
  {
   "cell_type": "code",
   "execution_count": null,
   "id": "97c98d9e-1fc1-48a8-aac0-87c8d3daf220",
   "metadata": {},
   "outputs": [],
   "source": [
    "learning_rate = 0.001\n",
    "device = torch.device(\"cuda:0\" if torch.cuda.is_available() else \"cpu\")\n",
    "model = CNN().to(device)\n",
    "loss_func = nn.CrossEntropyLoss()\n",
    "optimizer = optim.Adam(model.parameters(), lr = learning_rate)"
   ]
  },
  {
   "cell_type": "code",
   "execution_count": null,
   "id": "f04a2928-937e-4d3a-b8a0-8f22451929be",
   "metadata": {},
   "outputs": [],
   "source": [
    "num_epoch = 2\n",
    "for i in range(num_epoch):\n",
    "    for j,[image,label] in enumerate(train_loader):\n",
    "        x = image.to(device)\n",
    "        y_= label.to(device)\n",
    "        \n",
    "        optimizer.zero_grad()\n",
    "        output = model.forward(x)\n",
    "        loss = loss_func(output, y_)\n",
    "        loss.backward()\n",
    "        optimizer.step()\n",
    "        \n",
    "    print(loss)"
   ]
  },
  {
   "cell_type": "code",
   "execution_count": null,
   "id": "a45343f0-d826-4ec9-a44d-519b762e8fb0",
   "metadata": {},
   "outputs": [],
   "source": [
    "correct = 0\n",
    "total = 0\n",
    "\n",
    "with torch.no_grad():\n",
    "    for image, label in test_loader:\n",
    "        \n",
    "        x = image.to(device)\n",
    "        y_= label.to(device)\n",
    "\n",
    "        output = model.forward()\n",
    "        \n",
    "        _,output_index = torch.max(output,1)\n",
    "        \n",
    "        total += label.size(0)\n",
    "        \n",
    "        correct += (output_index == y_).sum.float()\n",
    "    \n",
    "    print(\"Accuracy of Test Data: {}%\".format(100*correct / total))"
   ]
  }
 ],
 "metadata": {
  "kernelspec": {
   "display_name": "Python 3 (ipykernel)",
   "language": "python",
   "name": "python3"
  },
  "language_info": {
   "codemirror_mode": {
    "name": "ipython",
    "version": 3
   },
   "file_extension": ".py",
   "mimetype": "text/x-python",
   "name": "python",
   "nbconvert_exporter": "python",
   "pygments_lexer": "ipython3",
   "version": "3.8.1"
  }
 },
 "nbformat": 4,
 "nbformat_minor": 5
}
