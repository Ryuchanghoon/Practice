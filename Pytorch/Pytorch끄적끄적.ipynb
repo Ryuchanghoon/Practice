{
  "nbformat": 4,
  "nbformat_minor": 0,
  "metadata": {
    "colab": {
      "provenance": []
    },
    "kernelspec": {
      "name": "python3",
      "display_name": "Python 3"
    },
    "language_info": {
      "name": "python"
    }
  },
  "cells": [
    {
      "cell_type": "code",
      "execution_count": null,
      "metadata": {
        "id": "CmXY6ZLHcApw"
      },
      "outputs": [],
      "source": [
        "import torch"
      ]
    },
    {
      "cell_type": "code",
      "source": [
        "x = torch.rand(2,3) #0~1사이 랜덤 값\n",
        "print(x)"
      ],
      "metadata": {
        "colab": {
          "base_uri": "https://localhost:8080/"
        },
        "id": "Eb4RfbFfcIca",
        "outputId": "91581149-a382-4e01-9a2d-3fa1992e898c"
      },
      "execution_count": null,
      "outputs": [
        {
          "output_type": "stream",
          "name": "stdout",
          "text": [
            "tensor([[0.0389, 0.3324, 0.9968],\n",
            "        [0.4638, 0.4997, 0.2810]])\n"
          ]
        }
      ]
    },
    {
      "cell_type": "code",
      "source": [
        "x = torch.randn(2,3) #샘플링 값 생성.\n",
        "print(x)"
      ],
      "metadata": {
        "colab": {
          "base_uri": "https://localhost:8080/"
        },
        "id": "IKFKrydycOOo",
        "outputId": "36b37abe-4ddb-44db-ad0d-d7f30b050047"
      },
      "execution_count": null,
      "outputs": [
        {
          "output_type": "stream",
          "name": "stdout",
          "text": [
            "tensor([[-0.2278, -2.1659, -0.0453],\n",
            "        [ 0.1250, -0.3838,  0.3174]])\n"
          ]
        }
      ]
    },
    {
      "cell_type": "code",
      "source": [
        "x = torch.randint(2, 5, size = (2,3)) # 2 ~ 5사이 값 생성.\n",
        "print(x)"
      ],
      "metadata": {
        "colab": {
          "base_uri": "https://localhost:8080/"
        },
        "id": "bYEE-aA3cQNQ",
        "outputId": "38d55d70-16fb-47ef-9af0-4a22a87b1f8b"
      },
      "execution_count": null,
      "outputs": [
        {
          "output_type": "stream",
          "name": "stdout",
          "text": [
            "tensor([[4, 4, 3],\n",
            "        [4, 3, 2]])\n"
          ]
        }
      ]
    },
    {
      "cell_type": "code",
      "source": [
        "x = torch.zeros(2,3)\n",
        "print(x)"
      ],
      "metadata": {
        "colab": {
          "base_uri": "https://localhost:8080/"
        },
        "id": "TgoEKsvGcRqp",
        "outputId": "d22abd6f-63e2-4f7d-a368-2bb1848998a2"
      },
      "execution_count": null,
      "outputs": [
        {
          "output_type": "stream",
          "name": "stdout",
          "text": [
            "tensor([[0., 0., 0.],\n",
            "        [0., 0., 0.]])\n"
          ]
        }
      ]
    },
    {
      "cell_type": "code",
      "source": [
        "ref = torch.rand(4,5)\n",
        "x = torch.zeros_like(ref) #이렇게 껴넣기도 가능\n",
        "print(x)"
      ],
      "metadata": {
        "colab": {
          "base_uri": "https://localhost:8080/"
        },
        "id": "sk1dXyZvcTZB",
        "outputId": "2cc1a405-0d61-439d-d6f3-53d9986027ea"
      },
      "execution_count": null,
      "outputs": [
        {
          "output_type": "stream",
          "name": "stdout",
          "text": [
            "tensor([[0., 0., 0., 0., 0.],\n",
            "        [0., 0., 0., 0., 0.],\n",
            "        [0., 0., 0., 0., 0.],\n",
            "        [0., 0., 0., 0., 0.]])\n"
          ]
        }
      ]
    },
    {
      "cell_type": "code",
      "source": [
        "x = torch.ones(2,3) # 1값으로 채워넣기 가능.\n",
        "print(x) "
      ],
      "metadata": {
        "colab": {
          "base_uri": "https://localhost:8080/"
        },
        "id": "Qr5NFK2bcVOZ",
        "outputId": "f7bc9eab-214d-4703-fc92-c57d19db5668"
      },
      "execution_count": null,
      "outputs": [
        {
          "output_type": "stream",
          "name": "stdout",
          "text": [
            "tensor([[1., 1., 1.],\n",
            "        [1., 1., 1.]])\n"
          ]
        }
      ]
    },
    {
      "cell_type": "code",
      "source": [
        "ref = torch.rand(4,5)\n",
        "x = torch.ones_like(ref)\n",
        "print(x)"
      ],
      "metadata": {
        "colab": {
          "base_uri": "https://localhost:8080/"
        },
        "id": "OReb5UAtcYFR",
        "outputId": "aa346f57-99e3-4622-e7ca-ebb7eed19a41"
      },
      "execution_count": null,
      "outputs": [
        {
          "output_type": "stream",
          "name": "stdout",
          "text": [
            "tensor([[1., 1., 1., 1., 1.],\n",
            "        [1., 1., 1., 1., 1.],\n",
            "        [1., 1., 1., 1., 1.],\n",
            "        [1., 1., 1., 1., 1.]])\n"
          ]
        }
      ]
    },
    {
      "cell_type": "code",
      "source": [
        "x = torch.rand(2,3)\n",
        "print(x.type())\n",
        "print(type(x))"
      ],
      "metadata": {
        "colab": {
          "base_uri": "https://localhost:8080/"
        },
        "id": "sNZujpkbcaYh",
        "outputId": "c634f7e9-9e16-42a6-e106-0cc4d3c831de"
      },
      "execution_count": null,
      "outputs": [
        {
          "output_type": "stream",
          "name": "stdout",
          "text": [
            "torch.FloatTensor\n",
            "<class 'torch.Tensor'>\n"
          ]
        }
      ]
    },
    {
      "cell_type": "code",
      "source": [
        "double_x = x.type(dtype = torch.DoubleTensor) # DoubleTensor형태로.\n",
        "print(double_x.type())"
      ],
      "metadata": {
        "colab": {
          "base_uri": "https://localhost:8080/"
        },
        "id": "eTc_VRsBcimo",
        "outputId": "96b4d2dd-8d9b-4295-f9dd-02615720462a"
      },
      "execution_count": null,
      "outputs": [
        {
          "output_type": "stream",
          "name": "stdout",
          "text": [
            "torch.DoubleTensor\n"
          ]
        }
      ]
    },
    {
      "cell_type": "code",
      "source": [
        "int_x = x.type_as(torch.IntTensor())\n",
        "print(int_x.type())"
      ],
      "metadata": {
        "colab": {
          "base_uri": "https://localhost:8080/"
        },
        "id": "TkQCoJogclBB",
        "outputId": "67497ca8-c233-446b-9483-1895da20c02a"
      },
      "execution_count": null,
      "outputs": [
        {
          "output_type": "stream",
          "name": "stdout",
          "text": [
            "torch.IntTensor\n"
          ]
        }
      ]
    },
    {
      "cell_type": "code",
      "source": [
        "import numpy as np\n",
        "\n",
        "x1 = np.ndarray(shape = (2,3), dtype = int, buffer = np.array([1,2,3,4,5,6]))\n",
        "print(x1)\n",
        "\n",
        "x2 = torch.from_numpy(x1) # numpy 배열을 torch텐서 변환 가능.\n",
        "\n",
        "print(x2)\n",
        "print(x2.type())"
      ],
      "metadata": {
        "colab": {
          "base_uri": "https://localhost:8080/"
        },
        "id": "TPu_Sc2Acn6w",
        "outputId": "fdab1719-0c87-42f5-ef28-c720e7afc799"
      },
      "execution_count": null,
      "outputs": [
        {
          "output_type": "stream",
          "name": "stdout",
          "text": [
            "[[1 2 3]\n",
            " [4 5 6]]\n",
            "tensor([[1, 2, 3],\n",
            "        [4, 5, 6]])\n",
            "torch.LongTensor\n"
          ]
        }
      ]
    },
    {
      "cell_type": "code",
      "source": [
        "x3 = x2.numpy()\n",
        "print(x3)"
      ],
      "metadata": {
        "colab": {
          "base_uri": "https://localhost:8080/"
        },
        "id": "F2vQXgh2cruw",
        "outputId": "ab00ae27-465d-49db-d526-d7d29463ccfc"
      },
      "execution_count": null,
      "outputs": [
        {
          "output_type": "stream",
          "name": "stdout",
          "text": [
            "[[1 2 3]\n",
            " [4 5 6]]\n"
          ]
        }
      ]
    },
    {
      "cell_type": "code",
      "source": [
        "x = torch.FloatTensor([[1,2,3], [4,5,6]])\n",
        "print(x)"
      ],
      "metadata": {
        "colab": {
          "base_uri": "https://localhost:8080/"
        },
        "id": "bVFCzBDccxIA",
        "outputId": "6d772ced-db50-4ff0-ac27-6d12b1f9e91b"
      },
      "execution_count": null,
      "outputs": [
        {
          "output_type": "stream",
          "name": "stdout",
          "text": [
            "tensor([[1., 2., 3.],\n",
            "        [4., 5., 6.]])\n"
          ]
        }
      ]
    },
    {
      "cell_type": "code",
      "source": [
        "cpu = torch.device('cpu')\n",
        "gpu = torch.device('cuda')\n",
        "\n",
        "if torch.cuda.is_available():\n",
        "    \n",
        "    x_gpu = x.to(gpu)\n",
        "    print(x_gpu)\n",
        "\n",
        "x_cpu = x_gpu.to(cpu) #GPU로 바꾸고 해야 가능.\n",
        "print(x_cpu)"
      ],
      "metadata": {
        "colab": {
          "base_uri": "https://localhost:8080/",
          "height": 228
        },
        "id": "LDINm7yGczHI",
        "outputId": "3e998e25-736f-4dd8-8e9b-439a6200b44a"
      },
      "execution_count": null,
      "outputs": [
        {
          "output_type": "error",
          "ename": "NameError",
          "evalue": "ignored",
          "traceback": [
            "\u001b[0;31m---------------------------------------------------------------------------\u001b[0m",
            "\u001b[0;31mNameError\u001b[0m                                 Traceback (most recent call last)",
            "\u001b[0;32m<ipython-input-16-a07120d5400d>\u001b[0m in \u001b[0;36m<module>\u001b[0;34m\u001b[0m\n\u001b[1;32m      7\u001b[0m     \u001b[0mprint\u001b[0m\u001b[0;34m(\u001b[0m\u001b[0mx_gpu\u001b[0m\u001b[0;34m)\u001b[0m\u001b[0;34m\u001b[0m\u001b[0;34m\u001b[0m\u001b[0m\n\u001b[1;32m      8\u001b[0m \u001b[0;34m\u001b[0m\u001b[0m\n\u001b[0;32m----> 9\u001b[0;31m \u001b[0mx_cpu\u001b[0m \u001b[0;34m=\u001b[0m \u001b[0mx_gpu\u001b[0m\u001b[0;34m.\u001b[0m\u001b[0mto\u001b[0m\u001b[0;34m(\u001b[0m\u001b[0mcpu\u001b[0m\u001b[0;34m)\u001b[0m\u001b[0;34m\u001b[0m\u001b[0;34m\u001b[0m\u001b[0m\n\u001b[0m\u001b[1;32m     10\u001b[0m \u001b[0mprint\u001b[0m\u001b[0;34m(\u001b[0m\u001b[0mx_cpu\u001b[0m\u001b[0;34m)\u001b[0m\u001b[0;34m\u001b[0m\u001b[0;34m\u001b[0m\u001b[0m\n",
            "\u001b[0;31mNameError\u001b[0m: name 'x_gpu' is not defined"
          ]
        }
      ]
    },
    {
      "cell_type": "code",
      "source": [
        "x = torch.FloatTensor(10, 12, 3, 3)\n",
        "print(x.size())\n",
        "print(x.size()[1:2])"
      ],
      "metadata": {
        "colab": {
          "base_uri": "https://localhost:8080/"
        },
        "id": "NFw6bctRdFfq",
        "outputId": "1291a74d-67cf-43dc-8316-5a124b24a29e"
      },
      "execution_count": null,
      "outputs": [
        {
          "output_type": "stream",
          "name": "stdout",
          "text": [
            "torch.Size([10, 12, 3, 3])\n",
            "torch.Size([12])\n"
          ]
        }
      ]
    },
    {
      "cell_type": "code",
      "source": [
        "x = torch.FloatTensor([10, 12, 3, 3])\n",
        "print(x.size())\n",
        "print(x.size()[0]) # 1값으로 받아와서 4."
      ],
      "metadata": {
        "colab": {
          "base_uri": "https://localhost:8080/"
        },
        "id": "hZyOV3ajdX9n",
        "outputId": "3731dd2b-602b-4d5d-ed7a-54eda4cec83c"
      },
      "execution_count": null,
      "outputs": [
        {
          "output_type": "stream",
          "name": "stdout",
          "text": [
            "torch.Size([4])\n",
            "4\n"
          ]
        }
      ]
    },
    {
      "cell_type": "code",
      "source": [
        "x = torch.randn(4,3)\n",
        "print(x)"
      ],
      "metadata": {
        "colab": {
          "base_uri": "https://localhost:8080/"
        },
        "id": "nazuoCbkdayo",
        "outputId": "b1670f2f-d773-47e5-9df6-d667a7e15185"
      },
      "execution_count": null,
      "outputs": [
        {
          "output_type": "stream",
          "name": "stdout",
          "text": [
            "tensor([[-0.0174, -0.6219, -1.4803],\n",
            "        [ 1.5816, -1.2787, -1.2728],\n",
            "        [-0.5718, -0.4154, -1.1340],\n",
            "        [-0.1074,  1.4945,  1.6843]])\n"
          ]
        }
      ]
    },
    {
      "cell_type": "code",
      "source": [
        "print(x[1:3, :]) # 1번, 2번 인덱스 전체"
      ],
      "metadata": {
        "colab": {
          "base_uri": "https://localhost:8080/"
        },
        "id": "HBToMPHndcvI",
        "outputId": "d0020c34-13b3-4bf4-dd62-7c07a81638e4"
      },
      "execution_count": null,
      "outputs": [
        {
          "output_type": "stream",
          "name": "stdout",
          "text": [
            "tensor([[ 1.5816, -1.2787, -1.2728],\n",
            "        [-0.5718, -0.4154, -1.1340]])\n"
          ]
        }
      ]
    },
    {
      "cell_type": "code",
      "source": [
        "print(x)\n",
        "\n",
        "print('\\n')\n",
        "\n",
        "selected = torch.index_select(x, dim = 1, index = torch.LongTensor([0,2])) #1,3번째 열. 출력\n",
        "print(selected)"
      ],
      "metadata": {
        "colab": {
          "base_uri": "https://localhost:8080/"
        },
        "id": "5fe9420QdfFo",
        "outputId": "2863cab6-44ba-4622-be9f-15d30a9a8b85"
      },
      "execution_count": null,
      "outputs": [
        {
          "output_type": "stream",
          "name": "stdout",
          "text": [
            "tensor([[-0.0174, -0.6219, -1.4803],\n",
            "        [ 1.5816, -1.2787, -1.2728],\n",
            "        [-0.5718, -0.4154, -1.1340],\n",
            "        [-0.1074,  1.4945,  1.6843]])\n",
            "\n",
            "\n",
            "tensor([[-0.0174, -1.4803],\n",
            "        [ 1.5816, -1.2728],\n",
            "        [-0.5718, -1.1340],\n",
            "        [-0.1074,  1.6843]])\n"
          ]
        }
      ]
    },
    {
      "cell_type": "code",
      "source": [
        "x = torch.randn(2,3)\n",
        "mask = torch.ByteTensor([[0,0,1], [0,1,0]])\n",
        "out = torch.masked_select(x, mask) # 1값에 자동으로 지정. mask 씌우기 생각.\n",
        "\n",
        "print(x)\n",
        "print(mask)\n",
        "print(out)"
      ],
      "metadata": {
        "colab": {
          "base_uri": "https://localhost:8080/"
        },
        "id": "K5KBpg65dhlC",
        "outputId": "805723ad-1e71-450d-d941-3b4f25527e6d"
      },
      "execution_count": null,
      "outputs": [
        {
          "output_type": "stream",
          "name": "stdout",
          "text": [
            "tensor([[-0.4139, -2.4438,  0.1346],\n",
            "        [-1.3912,  0.6148,  0.5530]])\n",
            "tensor([[0, 0, 1],\n",
            "        [0, 1, 0]], dtype=torch.uint8)\n",
            "tensor([0.1346, 0.6148])\n"
          ]
        },
        {
          "output_type": "stream",
          "name": "stderr",
          "text": [
            "<ipython-input-22-e6f357f2f8b2>:3: UserWarning: masked_select received a mask with dtype torch.uint8, this behavior is now deprecated,please use a mask with dtype torch.bool instead. (Triggered internally at ../aten/src/ATen/native/TensorAdvancedIndexing.cpp:1729.)\n",
            "  out = torch.masked_select(x, mask) # 1값에 자동으로 지정. mask 씌우기 생각.\n"
          ]
        }
      ]
    },
    {
      "cell_type": "code",
      "source": [
        "x = torch.FloatTensor([[1,2,3], [4,5,6]])\n",
        "y = torch.FloatTensor([[-1, -2, -3], [-4, -5, -6]])\n",
        "\n",
        "z1 = torch.cat([x,y], dim = 0) # 행 기준 합치기\n",
        "z2 = torch.cat([x,y], dim = 1) # 열 기준 합치기\n",
        "\n",
        "print(x)\n",
        "print(y)\n",
        "print(z1)\n",
        "print(z2)"
      ],
      "metadata": {
        "colab": {
          "base_uri": "https://localhost:8080/"
        },
        "id": "kquN9n8cdk74",
        "outputId": "76f121fd-ee2b-4661-82dd-64d9c69e6e67"
      },
      "execution_count": null,
      "outputs": [
        {
          "output_type": "stream",
          "name": "stdout",
          "text": [
            "tensor([[1., 2., 3.],\n",
            "        [4., 5., 6.]])\n",
            "tensor([[-1., -2., -3.],\n",
            "        [-4., -5., -6.]])\n",
            "tensor([[ 1.,  2.,  3.],\n",
            "        [ 4.,  5.,  6.],\n",
            "        [-1., -2., -3.],\n",
            "        [-4., -5., -6.]])\n",
            "tensor([[ 1.,  2.,  3., -1., -2., -3.],\n",
            "        [ 4.,  5.,  6., -4., -5., -6.]])\n"
          ]
        }
      ]
    },
    {
      "cell_type": "code",
      "source": [
        "x = torch.FloatTensor([[1,2,3], [4,5,6]]) #2 ,3배열\n",
        "x_stack = torch.stack([x, x, x, x], dim = 0) #차원 생성 4,2,3배열\n",
        "\n",
        "print(x_stack)\n",
        "print(x_stack.size())"
      ],
      "metadata": {
        "colab": {
          "base_uri": "https://localhost:8080/"
        },
        "id": "X8YKZjzHdnmI",
        "outputId": "8ef1ce57-b903-427a-d379-a08a8be8575d"
      },
      "execution_count": null,
      "outputs": [
        {
          "output_type": "stream",
          "name": "stdout",
          "text": [
            "tensor([[[1., 2., 3.],\n",
            "         [4., 5., 6.]],\n",
            "\n",
            "        [[1., 2., 3.],\n",
            "         [4., 5., 6.]],\n",
            "\n",
            "        [[1., 2., 3.],\n",
            "         [4., 5., 6.]],\n",
            "\n",
            "        [[1., 2., 3.],\n",
            "         [4., 5., 6.]]])\n",
            "torch.Size([4, 2, 3])\n"
          ]
        }
      ]
    },
    {
      "cell_type": "code",
      "source": [
        "x_1, x_2 = torch.chunk(z1, 2, dim = 0) #2개로 분열 # 행 기준 분열\n",
        "y_1, y_2, y_3 = torch.chunk(z1, 3, dim = 1) #3개로 분열 # 열 기준 분열\n",
        "\n",
        "print(z1)\n",
        "print('\\n')\n",
        "print(x_1)\n",
        "print(x_2)\n",
        "\n",
        "print('\\n')\n",
        "print(y_1)\n",
        "print(y_2)\n",
        "print(y_3)"
      ],
      "metadata": {
        "colab": {
          "base_uri": "https://localhost:8080/"
        },
        "id": "34VoiqVCdqao",
        "outputId": "46205460-b6b0-4f10-e08c-fdba3e18b8b0"
      },
      "execution_count": null,
      "outputs": [
        {
          "output_type": "stream",
          "name": "stdout",
          "text": [
            "tensor([[ 1.,  2.,  3.],\n",
            "        [ 4.,  5.,  6.],\n",
            "        [-1., -2., -3.],\n",
            "        [-4., -5., -6.]])\n",
            "\n",
            "\n",
            "tensor([[1., 2., 3.],\n",
            "        [4., 5., 6.]])\n",
            "tensor([[-1., -2., -3.],\n",
            "        [-4., -5., -6.]])\n",
            "\n",
            "\n",
            "tensor([[ 1.],\n",
            "        [ 4.],\n",
            "        [-1.],\n",
            "        [-4.]])\n",
            "tensor([[ 2.],\n",
            "        [ 5.],\n",
            "        [-2.],\n",
            "        [-5.]])\n",
            "tensor([[ 3.],\n",
            "        [ 6.],\n",
            "        [-3.],\n",
            "        [-6.]])\n"
          ]
        }
      ]
    },
    {
      "cell_type": "code",
      "source": [
        "#분해.\n",
        "\n",
        "x1, x2 = torch.split(z1, 2, dim = 0)\n",
        "y1 = torch.split(z1, 2, dim = 1) \n",
        "\n",
        "print(z1, x1, x2, sep = '\\n')\n",
        "\n",
        "print(\"this is y1:\")\n",
        "for i in y1:\n",
        "    print(i)"
      ],
      "metadata": {
        "colab": {
          "base_uri": "https://localhost:8080/"
        },
        "id": "JRtJSpAodufo",
        "outputId": "31634516-78ca-4743-fc42-34855b467894"
      },
      "execution_count": null,
      "outputs": [
        {
          "output_type": "stream",
          "name": "stdout",
          "text": [
            "tensor([[ 1.,  2.,  3.],\n",
            "        [ 4.,  5.,  6.],\n",
            "        [-1., -2., -3.],\n",
            "        [-4., -5., -6.]])\n",
            "tensor([[1., 2., 3.],\n",
            "        [4., 5., 6.]])\n",
            "tensor([[-1., -2., -3.],\n",
            "        [-4., -5., -6.]])\n",
            "this is y1:\n",
            "tensor([[ 1.,  2.],\n",
            "        [ 4.,  5.],\n",
            "        [-1., -2.],\n",
            "        [-4., -5.]])\n",
            "tensor([[ 3.],\n",
            "        [ 6.],\n",
            "        [-3.],\n",
            "        [-6.]])\n"
          ]
        }
      ]
    },
    {
      "cell_type": "code",
      "source": [
        "# 차원 압축. squeeze()\n",
        "\n",
        "x1 = torch.FloatTensor(10, 1, 3, 1, 4)\n",
        "x2 = torch.squeeze(x1) #압축.\n",
        "\n",
        "print(x1.size(), x2.size(), sep = '\\n')"
      ],
      "metadata": {
        "colab": {
          "base_uri": "https://localhost:8080/"
        },
        "id": "r5Co38nneCgw",
        "outputId": "69ee13bb-f6b4-4ceb-a40d-0f9e7138276a"
      },
      "execution_count": null,
      "outputs": [
        {
          "output_type": "stream",
          "name": "stdout",
          "text": [
            "torch.Size([10, 1, 3, 1, 4])\n",
            "torch.Size([10, 3, 4])\n"
          ]
        }
      ]
    },
    {
      "cell_type": "code",
      "source": [
        "import torch\n",
        "\n",
        "x1 = torch.FloatTensor(10, 3, 4)\n",
        "x2 = torch.unsqueeze(x1, dim = 0) #차원 하나 늘리기. 앞에 1 추가 된거 확인.\n",
        "#x3 = torch.unsqueeze(x1, dim = 1)\n",
        "\n",
        "print(x1.size())\n",
        "print(x2.size())\n",
        "#print(x3.size())"
      ],
      "metadata": {
        "colab": {
          "base_uri": "https://localhost:8080/"
        },
        "id": "XWQWWVZLeFwg",
        "outputId": "bca80666-2a5b-4c4d-93df-6eb3cdc2ad6e"
      },
      "execution_count": null,
      "outputs": [
        {
          "output_type": "stream",
          "name": "stdout",
          "text": [
            "torch.Size([10, 3, 4])\n",
            "torch.Size([1, 10, 3, 4])\n"
          ]
        }
      ]
    },
    {
      "cell_type": "code",
      "source": [
        "import torch.nn.init as init\n",
        "\n",
        "x1 = init.uniform_(torch.FloatTensor(3,4), a = 0, b = 9) #0~9사이값으로 3,4배열 생성\n",
        "\n",
        "x2 = init.normal_(torch.FloatTensor(3,4), std = 0.2) # 값 0.2로 3,4 배열 생성.\n",
        "\n",
        "x3 = init.constant_(torch.FloatTensor(3,4), 3.1415) #3.1415 3,4배열 생성.\n",
        "\n",
        "print(x1,x2,x3, sep = '\\n\\n')\n"
      ],
      "metadata": {
        "colab": {
          "base_uri": "https://localhost:8080/"
        },
        "id": "meMlO5YfeRmp",
        "outputId": "292e4fa2-36d1-45d2-ee97-e5178f5dfa38"
      },
      "execution_count": null,
      "outputs": [
        {
          "output_type": "stream",
          "name": "stdout",
          "text": [
            "tensor([[3.3703, 4.2554, 0.9378, 8.1855],\n",
            "        [8.5520, 5.9004, 3.0061, 2.8841],\n",
            "        [0.6861, 4.1525, 0.6266, 8.4618]])\n",
            "\n",
            "tensor([[-0.1080, -0.2389, -0.0444,  0.0381],\n",
            "        [-0.0397, -0.4064,  0.3551, -0.0239],\n",
            "        [-0.4740, -0.0746,  0.0825, -0.0185]])\n",
            "\n",
            "tensor([[3.1415, 3.1415, 3.1415, 3.1415],\n",
            "        [3.1415, 3.1415, 3.1415, 3.1415],\n",
            "        [3.1415, 3.1415, 3.1415, 3.1415]])\n"
          ]
        }
      ]
    },
    {
      "cell_type": "code",
      "source": [
        "x1 = torch.FloatTensor([[1,2,3], [4,5,6]])\n",
        "x2 = torch.FloatTensor([[1,2,3], [4,5,6]])\n",
        "\n",
        "add = torch.add(x1, x2)\n",
        "\n",
        "print(x1)\n",
        "print(x2)\n",
        "\n",
        "print(add)"
      ],
      "metadata": {
        "colab": {
          "base_uri": "https://localhost:8080/"
        },
        "id": "PO-vGdkVe4_4",
        "outputId": "214ae43e-9bc6-4cac-c76e-014fe838172f"
      },
      "execution_count": null,
      "outputs": [
        {
          "output_type": "stream",
          "name": "stdout",
          "text": [
            "tensor([[1., 2., 3.],\n",
            "        [4., 5., 6.]])\n",
            "tensor([[1., 2., 3.],\n",
            "        [4., 5., 6.]])\n",
            "tensor([[ 2.,  4.,  6.],\n",
            "        [ 8., 10., 12.]])\n"
          ]
        }
      ]
    },
    {
      "cell_type": "code",
      "source": [
        "x1 = torch.FloatTensor([[1,2,3],[4,5,6]])\n",
        "x2 = torch.add(x1, 10)\n",
        "\n",
        "print(x1)\n",
        "print(x2)\n",
        "print(x1 + 10)\n",
        "print(x2 - 10)"
      ],
      "metadata": {
        "colab": {
          "base_uri": "https://localhost:8080/"
        },
        "id": "pzzctx0De_m3",
        "outputId": "4e6de8cb-1f64-4f6d-8220-03c8c4ae6dcd"
      },
      "execution_count": null,
      "outputs": [
        {
          "output_type": "stream",
          "name": "stdout",
          "text": [
            "tensor([[1., 2., 3.],\n",
            "        [4., 5., 6.]])\n",
            "tensor([[11., 12., 13.],\n",
            "        [14., 15., 16.]])\n",
            "tensor([[11., 12., 13.],\n",
            "        [14., 15., 16.]])\n",
            "tensor([[1., 2., 3.],\n",
            "        [4., 5., 6.]])\n"
          ]
        }
      ]
    },
    {
      "cell_type": "code",
      "source": [
        "x1 = torch.FloatTensor([[1,2,3],[4,5,6]])\n",
        "x2 = torch.FloatTensor([[1,2,3], [4,5,6]])\n",
        "\n",
        "x3 = torch.mul(x1, x2)\n",
        "print(x3)"
      ],
      "metadata": {
        "colab": {
          "base_uri": "https://localhost:8080/"
        },
        "id": "7TGaBmSxfCBY",
        "outputId": "a8787552-7795-4fdf-f429-76b16f780ed2"
      },
      "execution_count": null,
      "outputs": [
        {
          "output_type": "stream",
          "name": "stdout",
          "text": [
            "tensor([[ 1.,  4.,  9.],\n",
            "        [16., 25., 36.]])\n"
          ]
        }
      ]
    },
    {
      "cell_type": "code",
      "source": [
        "x1 = torch.FloatTensor([[1,2,3],[4,5,6]])\n",
        "x2 = x1 * 10\n",
        "\n",
        "print(x2)"
      ],
      "metadata": {
        "colab": {
          "base_uri": "https://localhost:8080/"
        },
        "id": "7K1no1EFfEPI",
        "outputId": "35bbcb6f-c6f0-4dd5-ac15-fa66bbe2220c"
      },
      "execution_count": null,
      "outputs": [
        {
          "output_type": "stream",
          "name": "stdout",
          "text": [
            "tensor([[10., 20., 30.],\n",
            "        [40., 50., 60.]])\n"
          ]
        }
      ]
    },
    {
      "cell_type": "code",
      "source": [
        "x1 = torch.FloatTensor([[1,2,3],[4,5,6]])\n",
        "x2 = torch.FloatTensor([[1,2,3], [4,5,6]])\n",
        "\n",
        "x3 = torch.div(x1, x2)\n",
        "print(x3)"
      ],
      "metadata": {
        "colab": {
          "base_uri": "https://localhost:8080/"
        },
        "id": "kQyXi4HKfGO_",
        "outputId": "b35bcf72-f9f7-4969-d428-f67a372f5752"
      },
      "execution_count": null,
      "outputs": [
        {
          "output_type": "stream",
          "name": "stdout",
          "text": [
            "tensor([[1., 1., 1.],\n",
            "        [1., 1., 1.]])\n"
          ]
        }
      ]
    },
    {
      "cell_type": "code",
      "source": [
        "x1 = torch.FloatTensor([[1,2,3], [4,5,6]])\n",
        "print(x1 / 5)"
      ],
      "metadata": {
        "colab": {
          "base_uri": "https://localhost:8080/"
        },
        "id": "4MH6KgFcfIW_",
        "outputId": "f4acb6a5-a019-45bd-8bb5-d34b75644fd4"
      },
      "execution_count": null,
      "outputs": [
        {
          "output_type": "stream",
          "name": "stdout",
          "text": [
            "tensor([[0.2000, 0.4000, 0.6000],\n",
            "        [0.8000, 1.0000, 1.2000]])\n"
          ]
        }
      ]
    },
    {
      "cell_type": "code",
      "source": [
        "x1 = torch.FloatTensor(3,4)\n",
        "torch.pow(x1, 2)\n",
        "print(x1 ** 2)"
      ],
      "metadata": {
        "colab": {
          "base_uri": "https://localhost:8080/"
        },
        "id": "kxtpwKB8fK3Y",
        "outputId": "00827801-bf78-402c-a7b5-87fc11bc8269"
      },
      "execution_count": null,
      "outputs": [
        {
          "output_type": "stream",
          "name": "stdout",
          "text": [
            "tensor([[ 0.0000,  0.0000,  0.0000,  0.0000],\n",
            "        [73.1369, 34.8142,  9.0364,  8.3182],\n",
            "        [ 0.4707, 17.2429,  0.3926, 71.6028]])\n"
          ]
        }
      ]
    },
    {
      "cell_type": "code",
      "source": [
        "x1 = torch.FloatTensor(3,4)\n",
        "torch.exp(x1) #exponential 연산. 쓰레기 값. 알아서 배열 맞춰서 채워줌"
      ],
      "metadata": {
        "colab": {
          "base_uri": "https://localhost:8080/"
        },
        "id": "Y1W3uwjZfNBw",
        "outputId": "c0addace-58b5-4e6f-b1db-4f09306d62ad"
      },
      "execution_count": null,
      "outputs": [
        {
          "output_type": "execute_result",
          "data": {
            "text/plain": [
              "tensor([[1.0000, 1.0000, 1.0000, 1.0000],\n",
              "        [1.0000, 1.0000, 1.0000, 1.0000],\n",
              "        [1.0000, 1.0000, 1.0860, 1.0187]])"
            ]
          },
          "metadata": {},
          "execution_count": 37
        }
      ]
    },
    {
      "cell_type": "code",
      "source": [
        "x1 = torch.FloatTensor(3,4)\n",
        "torch.log(x1)"
      ],
      "metadata": {
        "colab": {
          "base_uri": "https://localhost:8080/"
        },
        "id": "kgUmPIGvfO6Q",
        "outputId": "8895a595-e6b2-4886-a66b-e505e57c356a"
      },
      "execution_count": null,
      "outputs": [
        {
          "output_type": "execute_result",
          "data": {
            "text/plain": [
              "tensor([[-76.6464,     -inf,     -inf,     -inf],\n",
              "        [  4.2923,   3.5500,   2.2013,   2.1184],\n",
              "        [ -0.7536,   2.8474,  -0.9350,   4.2711]])"
            ]
          },
          "metadata": {},
          "execution_count": 38
        }
      ]
    },
    {
      "cell_type": "code",
      "source": [
        "x1 = torch.FloatTensor(3,4)\n",
        "x2 = torch.FloatTensor(4,5)\n",
        "\n",
        "torch.mm(x1, x2) #행렬곱 계산"
      ],
      "metadata": {
        "colab": {
          "base_uri": "https://localhost:8080/"
        },
        "id": "pSTNjPpTfRm4",
        "outputId": "af5a62b5-c673-4780-ccd4-42bc091d5081"
      },
      "execution_count": null,
      "outputs": [
        {
          "output_type": "execute_result",
          "data": {
            "text/plain": [
              "tensor([[-1.3026e-39, -5.9417e+27,  5.7269e-34,  0.0000e+00,  4.5603e-35],\n",
              "        [-2.3346e-06, -5.9417e+27,  9.6228e-34,  2.9108e-34,  4.5603e-35],\n",
              "        [-2.3346e-06, -6.0527e+27,  1.0115e-33,  2.9108e-34,  4.9526e-35]])"
            ]
          },
          "metadata": {},
          "execution_count": 39
        }
      ]
    },
    {
      "cell_type": "code",
      "source": [
        "x1 = torch.FloatTensor(10, 3, 4)\n",
        "x2 = torch.FloatTensor(10, 4, 5)\n",
        "\n",
        "torch.bmm(x1, x2).size()"
      ],
      "metadata": {
        "colab": {
          "base_uri": "https://localhost:8080/"
        },
        "id": "Bxr71bqIfVFw",
        "outputId": "3a24ddaa-ea29-478a-a655-fe30451fa8f2"
      },
      "execution_count": null,
      "outputs": [
        {
          "output_type": "execute_result",
          "data": {
            "text/plain": [
              "torch.Size([10, 3, 5])"
            ]
          },
          "metadata": {},
          "execution_count": 40
        }
      ]
    },
    {
      "cell_type": "code",
      "source": [
        "x1 = torch.tensor([2,3])\n",
        "x2 = torch.tensor([2,1])\n",
        "# (2 x 2) + (3 x 1)\n",
        "torch.dot(x1,x2)"
      ],
      "metadata": {
        "colab": {
          "base_uri": "https://localhost:8080/"
        },
        "id": "MnpIxuCBffYw",
        "outputId": "c744d740-b6b2-4ae6-dc6b-e51727fb36a6"
      },
      "execution_count": null,
      "outputs": [
        {
          "output_type": "execute_result",
          "data": {
            "text/plain": [
              "tensor(7)"
            ]
          },
          "metadata": {},
          "execution_count": 41
        }
      ]
    },
    {
      "cell_type": "code",
      "source": [
        "x1 = torch.tensor([[1,2], [3,4]])\n",
        "print(x1)\n",
        "print(x1.t()) # 행과 열이 바뀜. .t()"
      ],
      "metadata": {
        "colab": {
          "base_uri": "https://localhost:8080/"
        },
        "id": "0zvFR5pwfhkw",
        "outputId": "005a7330-0cbf-4fd9-86f1-5422850cd22d"
      },
      "execution_count": null,
      "outputs": [
        {
          "output_type": "stream",
          "name": "stdout",
          "text": [
            "tensor([[1, 2],\n",
            "        [3, 4]])\n",
            "tensor([[1, 3],\n",
            "        [2, 4]])\n"
          ]
        }
      ]
    },
    {
      "cell_type": "code",
      "source": [
        "x1 = torch.FloatTensor(10,3,4)\n",
        "print(x1.size())\n",
        "\n",
        "print('\\n')\n",
        "\n",
        "print(torch.transpose(x1, 1, 2).size()) #2번째, 3번째 위치 바뀌기.\n",
        "print(x1.transpose(1,2).size()) #위와 동일 코드"
      ],
      "metadata": {
        "colab": {
          "base_uri": "https://localhost:8080/"
        },
        "id": "Dyy_XN-TfnNv",
        "outputId": "7805257d-fdc2-4958-836b-a31216a3ffa1"
      },
      "execution_count": null,
      "outputs": [
        {
          "output_type": "stream",
          "name": "stdout",
          "text": [
            "torch.Size([10, 3, 4])\n",
            "\n",
            "\n",
            "torch.Size([10, 4, 3])\n",
            "torch.Size([10, 4, 3])\n"
          ]
        }
      ]
    },
    {
      "cell_type": "code",
      "source": [
        "x = torch.tensor([1., 2., 3.], requires_grad = True) #기울기 계산 키고 해줘야. 가능. 'requires_grad = True'이거.\n",
        "y = torch.tensor([4., 5., 6.], requires_grad = True)\n",
        "\n",
        "print(x, x.requires_grad)\n",
        "z = x + y\n",
        "\n",
        "z.sum().backward()"
      ],
      "metadata": {
        "colab": {
          "base_uri": "https://localhost:8080/"
        },
        "id": "L4abkPYHf-u4",
        "outputId": "cd0f1794-8a0b-4c11-9077-6ed5da0b0774"
      },
      "execution_count": null,
      "outputs": [
        {
          "output_type": "stream",
          "name": "stdout",
          "text": [
            "tensor([1., 2., 3.], requires_grad=True) True\n"
          ]
        }
      ]
    },
    {
      "cell_type": "code",
      "source": [
        "print(x.requires_grad, y.requires_grad) #기울기 계산 켜줘서 True\n",
        "\n",
        "with torch.no_grad():\n",
        "    z = x + y\n",
        "    print(z.requires_grad) #기울기 있는데, 없냐로 물어봐서 False"
      ],
      "metadata": {
        "colab": {
          "base_uri": "https://localhost:8080/"
        },
        "id": "Prg6pO4jgYeO",
        "outputId": "5705ac7b-3933-4ac4-fdad-ad854ba26812"
      },
      "execution_count": null,
      "outputs": [
        {
          "output_type": "stream",
          "name": "stdout",
          "text": [
            "True True\n",
            "False\n"
          ]
        }
      ]
    },
    {
      "cell_type": "code",
      "source": [
        "cpu = torch.device('cpu')\n",
        "gpu = torch.device('cuda')\n",
        "\n",
        "x = torch.tensor([1,2,3], dtype = torch.float64, device = cpu, requires_grad = True)\n",
        "print(x.device)\n",
        "\n",
        "if torch.cuda.is_available():\n",
        "    x = x.to(gpu)\n",
        "    print(x.device)"
      ],
      "metadata": {
        "colab": {
          "base_uri": "https://localhost:8080/"
        },
        "id": "hVnLsPyMg6GG",
        "outputId": "d0c47d2c-1030-4cac-dab1-c819e695d7d3"
      },
      "execution_count": null,
      "outputs": [
        {
          "output_type": "stream",
          "name": "stdout",
          "text": [
            "cpu\n"
          ]
        }
      ]
    },
    {
      "cell_type": "markdown",
      "source": [
        "음... 텐서플로랑 달라서 매우 헷갈린다."
      ],
      "metadata": {
        "id": "ZtTdaUDRh6G6"
      }
    }
  ]
}