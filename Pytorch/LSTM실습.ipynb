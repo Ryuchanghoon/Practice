{
  "nbformat": 4,
  "nbformat_minor": 0,
  "metadata": {
    "colab": {
      "provenance": []
    },
    "kernelspec": {
      "name": "python3",
      "display_name": "Python 3"
    },
    "language_info": {
      "name": "python"
    }
  },
  "cells": [
    {
      "cell_type": "code",
      "execution_count": 1,
      "metadata": {
        "id": "fVkYqXX7vdGe"
      },
      "outputs": [],
      "source": [
        "# LSTM은 RNN에서 장기기억 담당 부분 추가한 것.\n",
        "# 기존 hidden state에서 cell state 부분 추가."
      ]
    },
    {
      "cell_type": "code",
      "source": [
        "import torch\n",
        "import torch.nn as nn\n",
        "import torch.optim as optim\n",
        "import numpy as np"
      ],
      "metadata": {
        "id": "esyLouObv_ZB"
      },
      "execution_count": 2,
      "outputs": []
    },
    {
      "cell_type": "code",
      "source": [
        "string = \"hello pytorch. how long can a rnn cell remember? show me your limit!\"\n",
        "chars = \"abcdefghijklmnopqrstuvwxyz ?!.,:;01\"\n",
        "\n",
        "char_list = [i for i in chars]\n",
        "char_len = len(char_list)\n",
        "print(len(string))\n",
        "print(char_len)"
      ],
      "metadata": {
        "colab": {
          "base_uri": "https://localhost:8080/"
        },
        "id": "s4Rr7poDwo3X",
        "outputId": "81d4d7d4-070b-4eb2-bf6f-61f3ba4c645e"
      },
      "execution_count": 11,
      "outputs": [
        {
          "output_type": "stream",
          "name": "stdout",
          "text": [
            "68\n",
            "35\n"
          ]
        }
      ]
    },
    {
      "cell_type": "code",
      "source": [
        "#one hot(문자, 0,1값으로)\n",
        "def string_to_onehot(string):\n",
        "    start = np.zeros(shape = char_len, dtype = int) \n",
        "    end = np.zeros(shape = char_len, dtype = int) \n",
        "\n",
        "    start[-2] = 1 #시작값 지정.\n",
        "    end[-1] = 1 #끝값 지정.\n",
        "\n",
        "    for i in string:\n",
        "        idx = char_list.index(i)\n",
        "        zero = np.zeros(shape = char_len, dtype = int)\n",
        "        zero[idx] = 1\n",
        "        start = np.vstack([start, zero])\n",
        "    output = np.vstack([start, end])\n",
        "    return output"
      ],
      "metadata": {
        "id": "iStxfhFWw0yP"
      },
      "execution_count": 12,
      "outputs": []
    },
    {
      "cell_type": "code",
      "source": [
        "# 0,1값 문자로.\n",
        "def onehot_to_word(onehot_1):\n",
        "    onehot = torch.Tensor.numpy(onehot_1)\n",
        "    return char_list[onehot.argmax()]"
      ],
      "metadata": {
        "id": "bwVNtrIL2aXA"
      },
      "execution_count": 13,
      "outputs": []
    },
    {
      "cell_type": "code",
      "source": [
        "batch_size = 1 #단어 하나씩 잘라서 사용하려고. 1로 따로 고정.\n",
        "seq_len = 1 #각 입력 독립적으로 처리. 2로 해주면 2개의 입력 한번에.\n",
        "\n",
        "num_layers = 3\n",
        "input_size = char_len #35개 문자.\n",
        "hidden_size = 35\n",
        "lr = 0.01\n",
        "num_epochs = 1000\n",
        "\n",
        "one_hot = torch.from_numpy(string_to_onehot(string)).type_as(torch.FloatTensor())\n",
        "\n",
        "print(one_hot.size()) #원래 문장 길이는 68. 아까 생성해준 start, end가 합쳐져서 70."
      ],
      "metadata": {
        "colab": {
          "base_uri": "https://localhost:8080/"
        },
        "id": "Xcj2PIif2uW3",
        "outputId": "54aff9a8-232a-46ca-83a1-339aa13170e3"
      },
      "execution_count": 15,
      "outputs": [
        {
          "output_type": "stream",
          "name": "stdout",
          "text": [
            "torch.Size([70, 35])\n"
          ]
        }
      ]
    },
    {
      "cell_type": "code",
      "source": [
        "class RNN(nn.Module):\n",
        "    def __init__(self, input_size, hidden_size, num_layers):\n",
        "        super(RNN, self).__init__()\n",
        "        self.input_size = input_size\n",
        "        self.hidden_size = hidden_size\n",
        "        self.num_layers = num_layers\n",
        "        self.lstm = nn.LSTM(input_size, hidden_size, num_layers) #파이토치 안에서 친절하게 LSTM함수 만들어놓음.\n",
        "\n",
        "    def forward(self, input_, hidden, cell):\n",
        "        output,(hidden,cell) = self.lstm(input_, (hidden, cell))\n",
        "        return output, hidden, cell\n",
        "\n",
        "    def init_hidden_cell(self):\n",
        "        hidden = torch.zeros(num_layers, batch_size, hidden_size) # hidden layer\n",
        "        cell = torch.zeros(num_layers, batch_size, hidden_size) # cell_layer. 이게 LSTM에 추가된거.\n",
        "        return hidden, cell\n",
        "\n",
        "rnn = RNN(input_size, hidden_size, num_layers)"
      ],
      "metadata": {
        "id": "dIYTjCdh5eM4"
      },
      "execution_count": 16,
      "outputs": []
    },
    {
      "cell_type": "code",
      "source": [
        "loss_func = nn.MSELoss()\n",
        "optimizer = torch.optim.Adam(rnn.parameters(), lr = lr)"
      ],
      "metadata": {
        "id": "5g88hZpW7s1o"
      },
      "execution_count": 17,
      "outputs": []
    },
    {
      "cell_type": "code",
      "source": [
        "j = 0\n",
        "input_data = one_hot[j:j+seq_len].view(seq_len, batch_size, input_size) #seq_len값은 아까 1로 받아준거.\n",
        "print(input_data.size())\n",
        "\n",
        "hidden, cell = rnn.init_hidden_cell()\n",
        "print(hidden.size(), cell.size())\n",
        "\n",
        "output, hidden, cell = rnn(input_data, hidden, cell)\n",
        "print(output.size(), hidden.size(), cell.size())"
      ],
      "metadata": {
        "colab": {
          "base_uri": "https://localhost:8080/"
        },
        "id": "xEI7nztQ74gn",
        "outputId": "aed7c841-90b7-48d1-a692-6bda24293078"
      },
      "execution_count": 18,
      "outputs": [
        {
          "output_type": "stream",
          "name": "stdout",
          "text": [
            "torch.Size([1, 1, 35])\n",
            "torch.Size([3, 1, 35]) torch.Size([3, 1, 35])\n",
            "torch.Size([1, 1, 35]) torch.Size([3, 1, 35]) torch.Size([3, 1, 35])\n"
          ]
        }
      ]
    },
    {
      "cell_type": "code",
      "source": [
        "unroll_len = one_hot.size()[0]//seq_len -1 #맨 마지막 글자 뺸 개수 만큼.\n",
        "for i in range(num_epochs):\n",
        "    hidden,cell = rnn.init_hidden_cell()\n",
        "    \n",
        "    loss = 0\n",
        "    for j in range(unroll_len): #총 69번.\n",
        "        input_data = one_hot[j:j+seq_len].view(seq_len, batch_size, input_size) #pytorch란 문자면, p 그래서 그냥 j\n",
        "        label = one_hot[j+1:j+seq_len+1].view(seq_len, batch_size, input_size) # 그 다음 y인데, 그래서 j+1(한칸 더 간거.)\n",
        "        \n",
        "        optimizer.zero_grad()\n",
        "        \n",
        "        output, hidden, cell = rnn(input_data,hidden,cell)\n",
        "        loss += loss_func(output.view(1,-1), label.view(1,-1))\n",
        "        \n",
        "    loss.backward()\n",
        "    optimizer.step()\n",
        "\n",
        "    if i%100 ==0:\n",
        "        print(loss)"
      ],
      "metadata": {
        "colab": {
          "base_uri": "https://localhost:8080/"
        },
        "id": "PuqDKrEI8nVx",
        "outputId": "7570d020-6c67-4a09-fd58-1bbc6c469dd4"
      },
      "execution_count": 19,
      "outputs": [
        {
          "output_type": "stream",
          "name": "stdout",
          "text": [
            "tensor(2.2671, grad_fn=<AddBackward0>)\n",
            "tensor(0.0555, grad_fn=<AddBackward0>)\n",
            "tensor(0.0074, grad_fn=<AddBackward0>)\n",
            "tensor(0.0051, grad_fn=<AddBackward0>)\n",
            "tensor(0.0044, grad_fn=<AddBackward0>)\n",
            "tensor(0.0040, grad_fn=<AddBackward0>)\n",
            "tensor(0.0038, grad_fn=<AddBackward0>)\n",
            "tensor(0.0037, grad_fn=<AddBackward0>)\n",
            "tensor(0.0035, grad_fn=<AddBackward0>)\n",
            "tensor(0.0034, grad_fn=<AddBackward0>)\n"
          ]
        }
      ]
    },
    {
      "cell_type": "code",
      "source": [
        "hidden,cell = rnn.init_hidden_cell()\n",
        "\n",
        "for j in range(unroll_len-1):\n",
        "    input_data = one_hot[j:j+1].view(1,batch_size,hidden_size) \n",
        "    label = one_hot[j+1:j+1+1].view(1,batch_size,hidden_size) \n",
        "    \n",
        "    output, hidden, cell = rnn(input_data,hidden,cell)\n",
        "    print(onehot_to_word(output.data),end=\"\") \n",
        "\n",
        "    #밑에 출력결과 보면, 같은 띄어쓰기인데, 예측값이 달라지는 것은, 기억력이 좋다는 것.(LSTM 좋다.)"
      ],
      "metadata": {
        "colab": {
          "base_uri": "https://localhost:8080/"
        },
        "id": "yWKfmfcvCSY_",
        "outputId": "045e993f-1ba7-463e-a735-2abc4f2164c8"
      },
      "execution_count": 20,
      "outputs": [
        {
          "output_type": "stream",
          "name": "stdout",
          "text": [
            "hello pytorch. how long can a rnn cell remember? show me your limit!"
          ]
        }
      ]
    },
    {
      "cell_type": "code",
      "source": [],
      "metadata": {
        "id": "yDrkpyMiDcKX"
      },
      "execution_count": null,
      "outputs": []
    }
  ]
}