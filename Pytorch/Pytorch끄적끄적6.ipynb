{
  "nbformat": 4,
  "nbformat_minor": 0,
  "metadata": {
    "colab": {
      "provenance": []
    },
    "kernelspec": {
      "name": "python3",
      "display_name": "Python 3"
    },
    "language_info": {
      "name": "python"
    },
    "accelerator": "GPU",
    "gpuClass": "standard"
  },
  "cells": [
    {
      "cell_type": "code",
      "execution_count": null,
      "metadata": {
        "colab": {
          "base_uri": "https://localhost:8080/"
        },
        "id": "FEwdKuvtIC6G",
        "outputId": "10a51dc7-38c0-44e6-f1cc-a5eb743f84a2"
      },
      "outputs": [
        {
          "output_type": "stream",
          "name": "stdout",
          "text": [
            "2.0.0+cu118\n"
          ]
        }
      ],
      "source": [
        "import torch\n",
        "import torch.nn as nn\n",
        "import torch.optim as optim\n",
        "import torch.nn.init as init\n",
        "\n",
        "import torchvision.datasets as dset\n",
        "import torchvision.transforms as transforms\n",
        "\n",
        "from torch.utils.data import DataLoader\n",
        "\n",
        "import numpy as np\n",
        "import matplotlib.pyplot as plt\n",
        "print(torch.__version__)"
      ]
    },
    {
      "cell_type": "code",
      "source": [
        "batch_size = 256\n",
        "learning_rate = 0.0002\n",
        "num_epoch = 10"
      ],
      "metadata": {
        "id": "R4Ratay-IjB7"
      },
      "execution_count": null,
      "outputs": []
    },
    {
      "cell_type": "code",
      "source": [
        "mnist_train = dset.MNIST(root = '../', train = True, transform = transforms.ToTensor(), target_transform = None, download = True) #mnist 학습 셋\n",
        "mnist_test = dset.MNIST(root = '../', train = False, transform = transforms.ToTensor(), target_transform = None, download = True) # mnist 테스트 셋"
      ],
      "metadata": {
        "colab": {
          "base_uri": "https://localhost:8080/"
        },
        "id": "iRsJoZB1JFqM",
        "outputId": "83ea356c-3124-400e-e9b1-629609a9890a"
      },
      "execution_count": null,
      "outputs": [
        {
          "output_type": "stream",
          "name": "stdout",
          "text": [
            "Downloading http://yann.lecun.com/exdb/mnist/train-images-idx3-ubyte.gz\n",
            "Downloading http://yann.lecun.com/exdb/mnist/train-images-idx3-ubyte.gz to ../MNIST/raw/train-images-idx3-ubyte.gz\n"
          ]
        },
        {
          "output_type": "stream",
          "name": "stderr",
          "text": [
            "100%|██████████| 9912422/9912422 [00:00<00:00, 93969575.95it/s]\n"
          ]
        },
        {
          "output_type": "stream",
          "name": "stdout",
          "text": [
            "Extracting ../MNIST/raw/train-images-idx3-ubyte.gz to ../MNIST/raw\n",
            "\n",
            "Downloading http://yann.lecun.com/exdb/mnist/train-labels-idx1-ubyte.gz\n",
            "Downloading http://yann.lecun.com/exdb/mnist/train-labels-idx1-ubyte.gz to ../MNIST/raw/train-labels-idx1-ubyte.gz\n"
          ]
        },
        {
          "output_type": "stream",
          "name": "stderr",
          "text": [
            "100%|██████████| 28881/28881 [00:00<00:00, 124882158.58it/s]\n"
          ]
        },
        {
          "output_type": "stream",
          "name": "stdout",
          "text": [
            "Extracting ../MNIST/raw/train-labels-idx1-ubyte.gz to ../MNIST/raw\n",
            "\n",
            "Downloading http://yann.lecun.com/exdb/mnist/t10k-images-idx3-ubyte.gz\n",
            "Downloading http://yann.lecun.com/exdb/mnist/t10k-images-idx3-ubyte.gz to ../MNIST/raw/t10k-images-idx3-ubyte.gz\n"
          ]
        },
        {
          "output_type": "stream",
          "name": "stderr",
          "text": [
            "100%|██████████| 1648877/1648877 [00:00<00:00, 27219667.25it/s]\n"
          ]
        },
        {
          "output_type": "stream",
          "name": "stdout",
          "text": [
            "Extracting ../MNIST/raw/t10k-images-idx3-ubyte.gz to ../MNIST/raw\n",
            "\n",
            "Downloading http://yann.lecun.com/exdb/mnist/t10k-labels-idx1-ubyte.gz\n",
            "Downloading http://yann.lecun.com/exdb/mnist/t10k-labels-idx1-ubyte.gz to ../MNIST/raw/t10k-labels-idx1-ubyte.gz\n"
          ]
        },
        {
          "output_type": "stream",
          "name": "stderr",
          "text": [
            "100%|██████████| 4542/4542 [00:00<00:00, 2054186.84it/s]\n"
          ]
        },
        {
          "output_type": "stream",
          "name": "stdout",
          "text": [
            "Extracting ../MNIST/raw/t10k-labels-idx1-ubyte.gz to ../MNIST/raw\n",
            "\n"
          ]
        }
      ]
    },
    {
      "cell_type": "code",
      "source": [
        "print(mnist_train.__getitem__(0)[0].size(), mnist_train.__len__())\n",
        "print(mnist_test.__getitem__(0)[0].size(), mnist_test.__len__())\n",
        "\n",
        "print(len(mnist_train), len(mnist_test))\n",
        "\n",
        "# getitem써도 되고, 인덱싱 써도 되는데, 이번에는 getitem 써봄"
      ],
      "metadata": {
        "colab": {
          "base_uri": "https://localhost:8080/"
        },
        "id": "VFeyaqUHJhnE",
        "outputId": "23b0890d-23b8-43c1-c462-8b63e3c3b0d2"
      },
      "execution_count": null,
      "outputs": [
        {
          "output_type": "stream",
          "name": "stdout",
          "text": [
            "torch.Size([1, 28, 28]) 60000\n",
            "torch.Size([1, 28, 28]) 10000\n",
            "60000 10000\n"
          ]
        }
      ]
    },
    {
      "cell_type": "code",
      "source": [
        "train_loader = DataLoader(mnist_train, batch_size = batch_size, shuffle = True, num_workers = 2, drop_last = True) #num_workers = 2(사용할 프로세스 개수.), drop_last(마지막 남는 데이터 처리)\n",
        "test_loader = DataLoader(mnist_test, batch_size = batch_size, shuffle = False, num_workers = 2, drop_last = True) #num_workers = 2(사용할 프로세스 개수.), drop_last(마지막 남는 데이터 처리)"
      ],
      "metadata": {
        "id": "Ak1bBKDXKLuj"
      },
      "execution_count": null,
      "outputs": []
    },
    {
      "cell_type": "code",
      "source": [
        "class CNN(nn.Module):\n",
        "    def __init__(self):\n",
        "        super(CNN, self).__init__()\n",
        "        self.layer = nn.Sequential(\n",
        "            nn.Conv2d(in_channels = 1, out_channels = 16, kernel_size = 5), #[1, 28, 28] -> [16, 24, 24](5x5 커널 지나서) , 필터개수1개(흑백) 에서 16개로 늘어나도록.\n",
        "            nn.ReLU(), #\n",
        "            nn.Conv2d(in_channels = 16, out_channels = 32, kernel_size = 5), # -> [32,20,20]\n",
        "            nn.ReLU(),\n",
        "            nn.MaxPool2d(kernel_size = 2, stride = 2), # ->[32,10,10]\n",
        "            nn.Conv2d(in_channels = 32, out_channels = 64, kernel_size = 5), # -> [64, 6, 6]\n",
        "            nn.ReLU(),\n",
        "            nn.MaxPool2d(kernel_size = 2, stride = 2) #[64, 6, 6] -> [64, 3, 3]\n",
        "        )\n",
        "\n",
        "        self.fc_layer = nn.Sequential(\n",
        "            nn.Linear(64 * 3 * 3, 100), #[64*3*3. 100]\n",
        "            nn.ReLU(),\n",
        "            nn.Linear(100, 10) # -> [100,10]\n",
        "        )\n",
        "\n",
        "    def forward(self, x):\n",
        "        out = self.layer(x) # [batch_size, 64, 3, 3]\n",
        "        out = out.view(batch_size, -1)  # [batch_size, 64*3*3]\n",
        "\n",
        "        out = self.fc_layer(out)\n",
        "        return out"
      ],
      "metadata": {
        "id": "t3S8xeftL4SE"
      },
      "execution_count": null,
      "outputs": []
    },
    {
      "cell_type": "code",
      "source": [
        "device = torch.device(\"cuda:0\" if torch.cuda.is_available() else \"cpu\")\n",
        "print(device)\n",
        "\n",
        "\n",
        "model = CNN().to(device)\n",
        "\n",
        "loss_func = nn.CrossEntropyLoss()\n",
        "\n",
        "optimizer = torch.optim.Adam(model.parameters(), lr=learning_rate)"
      ],
      "metadata": {
        "colab": {
          "base_uri": "https://localhost:8080/"
        },
        "id": "d0s2pSK9M36s",
        "outputId": "df5731c2-70c0-4403-c168-b8e2b7619288"
      },
      "execution_count": null,
      "outputs": [
        {
          "output_type": "stream",
          "name": "stdout",
          "text": [
            "cuda:0\n"
          ]
        }
      ]
    },
    {
      "cell_type": "code",
      "source": [
        "## 학습.\n",
        "\n",
        "loss_arr = []\n",
        "\n",
        "for i in range(num_epoch):\n",
        "    for j, [image, label] in enumerate(train_loader):\n",
        "        x = image.to(device)\n",
        "        y_ = label.to(device)\n",
        "\n",
        "        optimizer.zero_grad()\n",
        "        output = model.forward(x)\n",
        "        loss = loss_func(output, y_)\n",
        "        loss.backward()\n",
        "        optimizer.step()\n",
        "\n",
        "        if j % 1000 == 0:\n",
        "            print(loss)\n",
        "            loss_arr.append(loss.cpu().detach().numpy())"
      ],
      "metadata": {
        "colab": {
          "base_uri": "https://localhost:8080/"
        },
        "id": "6yeXKxfMRZ2c",
        "outputId": "8618a8e3-376e-4fd3-c137-9be36ac2d1fe"
      },
      "execution_count": null,
      "outputs": [
        {
          "output_type": "stream",
          "name": "stdout",
          "text": [
            "tensor(2.3004, device='cuda:0', grad_fn=<NllLossBackward0>)\n",
            "tensor(0.3828, device='cuda:0', grad_fn=<NllLossBackward0>)\n",
            "tensor(0.2687, device='cuda:0', grad_fn=<NllLossBackward0>)\n",
            "tensor(0.0748, device='cuda:0', grad_fn=<NllLossBackward0>)\n",
            "tensor(0.0613, device='cuda:0', grad_fn=<NllLossBackward0>)\n",
            "tensor(0.0390, device='cuda:0', grad_fn=<NllLossBackward0>)\n",
            "tensor(0.0470, device='cuda:0', grad_fn=<NllLossBackward0>)\n",
            "tensor(0.0245, device='cuda:0', grad_fn=<NllLossBackward0>)\n",
            "tensor(0.0210, device='cuda:0', grad_fn=<NllLossBackward0>)\n",
            "tensor(0.0425, device='cuda:0', grad_fn=<NllLossBackward0>)\n"
          ]
        }
      ]
    },
    {
      "cell_type": "code",
      "source": [
        "plt.plot(loss_arr)\n",
        "plt.show()"
      ],
      "metadata": {
        "colab": {
          "base_uri": "https://localhost:8080/",
          "height": 430
        },
        "id": "_h_STMYUTd2N",
        "outputId": "b3307a21-a9cc-4c32-b9fc-9ff737942a60"
      },
      "execution_count": null,
      "outputs": [
        {
          "output_type": "display_data",
          "data": {
            "text/plain": [
              "<Figure size 640x480 with 1 Axes>"
            ],
            "image/png": "[encoded data removed]"
          },
          "metadata": {}
        }
      ]
    },
    {
      "cell_type": "code",
      "source": [
        "correct = 0\n",
        "total = 0\n",
        "\n",
        "# 인퍼런스 모드 위해 no_grad\n",
        "with torch.no_grad():\n",
        "    for image,label in test_loader:\n",
        "        \n",
        "        x = image.to(device)\n",
        "        y_= label.to(device)\n",
        "        output = model.forward(x)\n",
        "        \n",
        "        _,output_index = torch.max(output,1) # 최대값, 최대값 인덱스 뽑기.\n",
        "        \n",
        "        total += label.size(0)\n",
        "        \n",
        "        correct += (output_index == y_).sum().float() #아까 최대값 뽑아준거랑 라벨 일치하는거 correct에 하나씩 차곡차곡.\n",
        "    \n",
        "    print(\"Accuracy of Test Data: {}%\".format(100*correct/total))"
      ],
      "metadata": {
        "colab": {
          "base_uri": "https://localhost:8080/"
        },
        "id": "nwo6L5beTqpE",
        "outputId": "f9958d24-5a62-4368-e568-e6ddc862505c"
      },
      "execution_count": null,
      "outputs": [
        {
          "output_type": "stream",
          "name": "stdout",
          "text": [
            "Accuracy of Test Data: 98.8581771850586%\n"
          ]
        }
      ]
    },
    {
      "cell_type": "code",
      "source": [],
      "metadata": {
        "id": "_TNIc54aUNZ0"
      },
      "execution_count": null,
      "outputs": []
    }
  ]
}