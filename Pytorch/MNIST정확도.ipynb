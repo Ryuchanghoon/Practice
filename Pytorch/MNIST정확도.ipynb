{
  "nbformat": 4,
  "nbformat_minor": 0,
  "metadata": {
    "colab": {
      "provenance": []
    },
    "kernelspec": {
      "name": "python3",
      "display_name": "Python 3"
    },
    "language_info": {
      "name": "python"
    },
    "accelerator": "GPU",
    "gpuClass": "standard"
  },
  "cells": [
    {
      "cell_type": "code",
      "execution_count": 1,
      "metadata": {
        "id": "17ZPNxvJBmNU"
      },
      "outputs": [],
      "source": [
        "import torch\n",
        "import torch.nn as nn\n",
        "import torch.optim as optim\n",
        "import torch.nn.init as init\n",
        "import torchvision.datasets as ds\n",
        "import torchvision.transforms as transforms\n",
        "from torch.utils.data import DataLoader\n",
        "import numpy as np\n",
        "import matplotlib.pyplot as plt"
      ]
    },
    {
      "cell_type": "code",
      "source": [
        "mnist_train = ds.MNIST(root = '../', train = True, transform = transforms.ToTensor(), target_transform = None, download = True)\n",
        "mnist_test = ds.MNIST(root = '../', train = False, transform = transforms.ToTensor(), target_transform = None, download = True)"
      ],
      "metadata": {
        "colab": {
          "base_uri": "https://localhost:8080/"
        },
        "id": "V5rwI-I-CMF6",
        "outputId": "a42de787-d992-4733-b162-f32c3642e15f"
      },
      "execution_count": 3,
      "outputs": [
        {
          "output_type": "stream",
          "name": "stdout",
          "text": [
            "Downloading http://yann.lecun.com/exdb/mnist/train-images-idx3-ubyte.gz\n",
            "Downloading http://yann.lecun.com/exdb/mnist/train-images-idx3-ubyte.gz to ../MNIST/raw/train-images-idx3-ubyte.gz\n"
          ]
        },
        {
          "output_type": "stream",
          "name": "stderr",
          "text": [
            "100%|██████████| 9912422/9912422 [00:00<00:00, 135968758.77it/s]\n"
          ]
        },
        {
          "output_type": "stream",
          "name": "stdout",
          "text": [
            "Extracting ../MNIST/raw/train-images-idx3-ubyte.gz to ../MNIST/raw\n",
            "\n",
            "Downloading http://yann.lecun.com/exdb/mnist/train-labels-idx1-ubyte.gz\n",
            "Downloading http://yann.lecun.com/exdb/mnist/train-labels-idx1-ubyte.gz to ../MNIST/raw/train-labels-idx1-ubyte.gz\n"
          ]
        },
        {
          "output_type": "stream",
          "name": "stderr",
          "text": [
            "100%|██████████| 28881/28881 [00:00<00:00, 36685552.34it/s]\n"
          ]
        },
        {
          "output_type": "stream",
          "name": "stdout",
          "text": [
            "Extracting ../MNIST/raw/train-labels-idx1-ubyte.gz to ../MNIST/raw\n",
            "\n",
            "Downloading http://yann.lecun.com/exdb/mnist/t10k-images-idx3-ubyte.gz\n",
            "Downloading http://yann.lecun.com/exdb/mnist/t10k-images-idx3-ubyte.gz to ../MNIST/raw/t10k-images-idx3-ubyte.gz\n"
          ]
        },
        {
          "output_type": "stream",
          "name": "stderr",
          "text": [
            "100%|██████████| 1648877/1648877 [00:00<00:00, 27965141.67it/s]\n"
          ]
        },
        {
          "output_type": "stream",
          "name": "stdout",
          "text": [
            "Extracting ../MNIST/raw/t10k-images-idx3-ubyte.gz to ../MNIST/raw\n",
            "\n",
            "Downloading http://yann.lecun.com/exdb/mnist/t10k-labels-idx1-ubyte.gz\n",
            "Downloading http://yann.lecun.com/exdb/mnist/t10k-labels-idx1-ubyte.gz to ../MNIST/raw/t10k-labels-idx1-ubyte.gz\n"
          ]
        },
        {
          "output_type": "stream",
          "name": "stderr",
          "text": [
            "100%|██████████| 4542/4542 [00:00<00:00, 21722381.72it/s]\n"
          ]
        },
        {
          "output_type": "stream",
          "name": "stdout",
          "text": [
            "Extracting ../MNIST/raw/t10k-labels-idx1-ubyte.gz to ../MNIST/raw\n",
            "\n"
          ]
        }
      ]
    },
    {
      "cell_type": "code",
      "source": [
        "batch_size = 256\n",
        "learning_rate = 0.0002\n",
        "num_epoch = 10"
      ],
      "metadata": {
        "id": "kyc0MimSCwCl"
      },
      "execution_count": 4,
      "outputs": []
    },
    {
      "cell_type": "code",
      "source": [
        "train_loader = DataLoader(mnist_train, batch_size = batch_size, shuffle = True, num_workers = 2, drop_last = True)\n",
        "test_loader = DataLoader(mnist_train, batch_size = batch_size, shuffle = False, num_workers = 2, drop_last = True)"
      ],
      "metadata": {
        "id": "J9zRwNgDC8fk"
      },
      "execution_count": 8,
      "outputs": []
    },
    {
      "cell_type": "code",
      "source": [
        "class CNN(nn.Module):\n",
        "    def __init__(self):\n",
        "        super(CNN,self).__init__()\n",
        "        self.layer = nn.Sequential(\n",
        "            nn.Conv2d(in_channels=1,out_channels=32,kernel_size = 3),             # [batch_size,1,28,28] -> [batch_size,32,26,26]\n",
        "            nn.LeakyReLU(),                                                         \n",
        "            nn.Conv2d(in_channels= 32,out_channels=64,kernel_size = 3),            # [batch_size,32,26,26] -> [batch_size,64,24,24]\n",
        "            nn.LeakyReLU(),\n",
        "\n",
        "            nn.Conv2d(in_channels= 64,out_channels=128,kernel_size = 3),            # [batch_size,64,24,24] -> [batch_size,128,22,22]\n",
        "            nn.LeakyReLU(),\n",
        "            \n",
        "            nn.MaxPool2d(kernel_size=2, stride=2),                               # [batch_size,128,22,22] -> [batch_size,128,11,11]\n",
        "            nn.Conv2d(in_channels=128, out_channels= 32, kernel_size=2),          # [batch_size, 128,11,11] -> [batch_size,32,10,10]\n",
        "            nn.LeakyReLU(),\n",
        "            nn.MaxPool2d(kernel_size=2,stride=2)                                # [batch_size,32,10,10] -> [batch_size,32,5,5]\n",
        "        )\n",
        "\n",
        "        # FC layer\n",
        "        self.fc_layer = nn.Sequential(                                          \n",
        "            nn.Linear(32 * 5 * 5, 200),                                         # [batch_size, 32*5*5] -> [batch_size,200]\n",
        "            nn.LeakyReLU(),\n",
        "            nn.Linear(200,20)                                                   # [batch_size, 200] -> [batch_size, 20]\n",
        "        )       \n",
        "        \n",
        "\n",
        "        \n",
        "    def forward(self,x):\n",
        "        out = self.layer(x)                                                 \n",
        "        out = out.view(batch_size,-1)                                          \n",
        "                \n",
        "                                                                        \n",
        "        out = self.fc_layer(out)\n",
        "        return out"
      ],
      "metadata": {
        "id": "A_ATKUKsDOG9"
      },
      "execution_count": 9,
      "outputs": []
    },
    {
      "cell_type": "code",
      "source": [
        "device = torch.device('cuda:0' if torch.cuda.is_available() else 'cpu')\n",
        "print(device)\n",
        "\n",
        "model = CNN().to(device)\n",
        "\n",
        "loss_func = nn.CrossEntropyLoss()\n",
        "\n",
        "optimizer = torch.optim.Adam(model.parameters(), lr = learning_rate)"
      ],
      "metadata": {
        "colab": {
          "base_uri": "https://localhost:8080/"
        },
        "id": "kb6YrSSRD--v",
        "outputId": "5889adcb-6e9a-4222-a499-87196865f73d"
      },
      "execution_count": 10,
      "outputs": [
        {
          "output_type": "stream",
          "name": "stdout",
          "text": [
            "cuda:0\n"
          ]
        }
      ]
    },
    {
      "cell_type": "code",
      "source": [
        "loss_arr = []\n",
        "\n",
        "for i in range(num_epoch):\n",
        "    for j, [image, label] in enumerate(train_loader):\n",
        "        x = image.to(device)\n",
        "        y_ = label.to(device)\n",
        "\n",
        "        optimizer.zero_grad()\n",
        "        output = model.forward(x)\n",
        "        loss = loss_func(output, y_)\n",
        "        loss.backward()\n",
        "        optimizer.step()\n",
        "\n",
        "        if j % 1000 == 0:\n",
        "            print(loss)\n",
        "            loss_arr.append(loss.cpu().detach().numpy())"
      ],
      "metadata": {
        "colab": {
          "base_uri": "https://localhost:8080/"
        },
        "id": "nZCjDjHNEUcW",
        "outputId": "62fd79b6-2a8c-47a9-f249-bd2003f705cb"
      },
      "execution_count": 11,
      "outputs": [
        {
          "output_type": "stream",
          "name": "stdout",
          "text": [
            "tensor(3.0012, device='cuda:0', grad_fn=<NllLossBackward0>)\n",
            "tensor(0.3485, device='cuda:0', grad_fn=<NllLossBackward0>)\n",
            "tensor(0.1868, device='cuda:0', grad_fn=<NllLossBackward0>)\n",
            "tensor(0.0931, device='cuda:0', grad_fn=<NllLossBackward0>)\n",
            "tensor(0.0438, device='cuda:0', grad_fn=<NllLossBackward0>)\n",
            "tensor(0.1077, device='cuda:0', grad_fn=<NllLossBackward0>)\n",
            "tensor(0.0238, device='cuda:0', grad_fn=<NllLossBackward0>)\n",
            "tensor(0.0979, device='cuda:0', grad_fn=<NllLossBackward0>)\n",
            "tensor(0.0423, device='cuda:0', grad_fn=<NllLossBackward0>)\n",
            "tensor(0.0224, device='cuda:0', grad_fn=<NllLossBackward0>)\n"
          ]
        }
      ]
    },
    {
      "cell_type": "code",
      "source": [
        "plt.plot(loss_arr)\n",
        "plt.show()"
      ],
      "metadata": {
        "colab": {
          "base_uri": "https://localhost:8080/",
          "height": 430
        },
        "id": "5tnRVol6FNpH",
        "outputId": "8638aba4-db65-46bb-d754-f7136b992b1f"
      },
      "execution_count": 12,
      "outputs": [
        {
          "output_type": "display_data",
          "data": {
            "text/plain": [
              "<Figure size 640x480 with 1 Axes>"
            ],
            "image/png": "[encoded data removed]"
          },
          "metadata": {}
        }
      ]
    },
    {
      "cell_type": "code",
      "source": [
        "correct = 0\n",
        "total = 0\n",
        "\n",
        "with torch.no_grad():\n",
        "    for image, label in test_loader:\n",
        "        \n",
        "        x = image.to(device)\n",
        "        y_ = label.to(device)\n",
        "\n",
        "        output = model.forward(x)\n",
        "\n",
        "        _, output_index = torch.max(output, 1)\n",
        "\n",
        "        total += label.size(0)\n",
        "\n",
        "        correct += (output_index == y_).sum().float()\n",
        "\n",
        "    print(\"정확도: {}\".format(100* correct / total))"
      ],
      "metadata": {
        "colab": {
          "base_uri": "https://localhost:8080/"
        },
        "id": "K9b-yXJbFQRJ",
        "outputId": "94cd7784-b9b1-4938-abd4-a288ee734683"
      },
      "execution_count": 13,
      "outputs": [
        {
          "output_type": "stream",
          "name": "stdout",
          "text": [
            "정확도: 99.14029693603516\n"
          ]
        }
      ]
    },
    {
      "cell_type": "code",
      "source": [],
      "metadata": {
        "id": "WeOkYcf_Fzvl"
      },
      "execution_count": null,
      "outputs": []
    }
  ]
}