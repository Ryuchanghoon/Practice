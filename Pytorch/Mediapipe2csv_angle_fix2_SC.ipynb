{
  "nbformat": 4,
  "nbformat_minor": 0,
  "metadata": {
    "colab": {
      "provenance": []
    },
    "kernelspec": {
      "name": "python3",
      "display_name": "Python 3"
    },
    "language_info": {
      "name": "python"
    }
  },
  "cells": [
    {
      "cell_type": "code",
      "execution_count": 1,
      "metadata": {
        "colab": {
          "base_uri": "https://localhost:8080/"
        },
        "id": "J5YTTFl0OrI9",
        "outputId": "10063513-74d0-4a5d-9a02-6c6c281d1025"
      },
      "outputs": [
        {
          "output_type": "stream",
          "name": "stdout",
          "text": [
            "Collecting mediapipe\n",
            "  Downloading mediapipe-0.10.8-cp310-cp310-manylinux_2_17_x86_64.manylinux2014_x86_64.whl (34.5 MB)\n",
            "\u001b[2K     \u001b[90m━━━━━━━━━━━━━━━━━━━━━━━━━━━━━━━━━━━━━━━━\u001b[0m \u001b[32m34.5/34.5 MB\u001b[0m \u001b[31m1.6 MB/s\u001b[0m eta \u001b[36m0:00:00\u001b[0m\n",
            "\u001b[?25hRequirement already satisfied: opencv-python in /usr/local/lib/python3.10/dist-packages (4.8.0.76)\n",
            "Requirement already satisfied: absl-py in /usr/local/lib/python3.10/dist-packages (from mediapipe) (1.4.0)\n",
            "Requirement already satisfied: attrs>=19.1.0 in /usr/local/lib/python3.10/dist-packages (from mediapipe) (23.1.0)\n",
            "Requirement already satisfied: flatbuffers>=2.0 in /usr/local/lib/python3.10/dist-packages (from mediapipe) (23.5.26)\n",
            "Requirement already satisfied: matplotlib in /usr/local/lib/python3.10/dist-packages (from mediapipe) (3.7.1)\n",
            "Requirement already satisfied: numpy in /usr/local/lib/python3.10/dist-packages (from mediapipe) (1.23.5)\n",
            "Requirement already satisfied: opencv-contrib-python in /usr/local/lib/python3.10/dist-packages (from mediapipe) (4.8.0.76)\n",
            "Requirement already satisfied: protobuf<4,>=3.11 in /usr/local/lib/python3.10/dist-packages (from mediapipe) (3.20.3)\n",
            "Collecting sounddevice>=0.4.4 (from mediapipe)\n",
            "  Downloading sounddevice-0.4.6-py3-none-any.whl (31 kB)\n",
            "Requirement already satisfied: CFFI>=1.0 in /usr/local/lib/python3.10/dist-packages (from sounddevice>=0.4.4->mediapipe) (1.16.0)\n",
            "Requirement already satisfied: contourpy>=1.0.1 in /usr/local/lib/python3.10/dist-packages (from matplotlib->mediapipe) (1.2.0)\n",
            "Requirement already satisfied: cycler>=0.10 in /usr/local/lib/python3.10/dist-packages (from matplotlib->mediapipe) (0.12.1)\n",
            "Requirement already satisfied: fonttools>=4.22.0 in /usr/local/lib/python3.10/dist-packages (from matplotlib->mediapipe) (4.45.1)\n",
            "Requirement already satisfied: kiwisolver>=1.0.1 in /usr/local/lib/python3.10/dist-packages (from matplotlib->mediapipe) (1.4.5)\n",
            "Requirement already satisfied: packaging>=20.0 in /usr/local/lib/python3.10/dist-packages (from matplotlib->mediapipe) (23.2)\n",
            "Requirement already satisfied: pillow>=6.2.0 in /usr/local/lib/python3.10/dist-packages (from matplotlib->mediapipe) (9.4.0)\n",
            "Requirement already satisfied: pyparsing>=2.3.1 in /usr/local/lib/python3.10/dist-packages (from matplotlib->mediapipe) (3.1.1)\n",
            "Requirement already satisfied: python-dateutil>=2.7 in /usr/local/lib/python3.10/dist-packages (from matplotlib->mediapipe) (2.8.2)\n",
            "Requirement already satisfied: pycparser in /usr/local/lib/python3.10/dist-packages (from CFFI>=1.0->sounddevice>=0.4.4->mediapipe) (2.21)\n",
            "Requirement already satisfied: six>=1.5 in /usr/local/lib/python3.10/dist-packages (from python-dateutil>=2.7->matplotlib->mediapipe) (1.16.0)\n",
            "Installing collected packages: sounddevice, mediapipe\n",
            "Successfully installed mediapipe-0.10.8 sounddevice-0.4.6\n"
          ]
        }
      ],
      "source": [
        "!pip install mediapipe opencv-python"
      ]
    },
    {
      "cell_type": "code",
      "source": [
        "import cv2\n",
        "import mediapipe as mp\n",
        "import csv\n",
        "import numpy as np"
      ],
      "metadata": {
        "id": "BV-DKds0Ot2D"
      },
      "execution_count": 8,
      "outputs": []
    },
    {
      "cell_type": "code",
      "source": [
        "mp_pose = mp.solutions.pose\n",
        "pose = mp_pose.Pose()"
      ],
      "metadata": {
        "id": "txIrg4aOOu9D"
      },
      "execution_count": 9,
      "outputs": []
    },
    {
      "cell_type": "code",
      "source": [
        "def process_video(video_path, output_path):\n",
        "    cap = cv2.VideoCapture(video_path)\n",
        "    if not cap.isOpened():\n",
        "        print(\"Error: Cannot open video.\")\n",
        "        return\n",
        "\n",
        "    rows = []\n",
        "    while cap.isOpened():\n",
        "        ret, frame = cap.read()\n",
        "        if not ret:\n",
        "            break\n",
        "\n",
        "        image_rgb = cv2.cvtColor(frame, cv2.COLOR_BGR2RGB)\n",
        "        results = pose.process(image_rgb)\n",
        "\n",
        "        if results.pose_landmarks:\n",
        "            coordinates = extract_coordinates(results)\n",
        "            right_hip_ankle_angle = calculate_angle(coordinates['right_shoulder'], coordinates['right_hip'], coordinates['right_ankle'])\n",
        "            left_hip_ankle_angle = calculate_angle(coordinates['left_shoulder'], coordinates['left_hip'], coordinates['left_ankle'])\n",
        "\n",
        "            coordinates['right_hip_ankle_angle'] = right_hip_ankle_angle\n",
        "            coordinates['left_hip_ankle_angle'] = left_hip_ankle_angle\n",
        "\n",
        "            rows.append(coordinates)\n",
        "\n",
        "    cap.release()\n",
        "\n",
        "    save_to_csv(output_path, rows)"
      ],
      "metadata": {
        "id": "G_VZxeDHOwqi"
      },
      "execution_count": 10,
      "outputs": []
    },
    {
      "cell_type": "code",
      "source": [
        "def extract_coordinates(results):\n",
        "    landmarks = results.pose_landmarks.landmark\n",
        "\n",
        "    # 척추 중심 좌표 값.\n",
        "    center_spine_x = (landmarks[mp_pose.PoseLandmark.RIGHT_HIP.value].x + landmarks[mp_pose.PoseLandmark.RIGHT_SHOULDER.value].x) / 2\n",
        "    center_spine_y = (landmarks[mp_pose.PoseLandmark.LEFT_HIP.value].y + landmarks[mp_pose.PoseLandmark.LEFT_SHOULDER.value].y) / 2\n",
        "\n",
        "\n",
        "\n",
        "    coordinates = {\n",
        "        \"right_hip\": (landmarks[mp_pose.PoseLandmark.RIGHT_HIP.value].x, landmarks[mp_pose.PoseLandmark.RIGHT_HIP.value].y),\n",
        "        \"left_hip\": (landmarks[mp_pose.PoseLandmark.LEFT_HIP.value].x, landmarks[mp_pose.PoseLandmark.LEFT_HIP.value].y),\n",
        "        \"right_ankle\": (landmarks[mp_pose.PoseLandmark.RIGHT_ANKLE.value].x, landmarks[mp_pose.PoseLandmark.RIGHT_ANKLE.value].y),\n",
        "        \"left_ankle\": (landmarks[mp_pose.PoseLandmark.LEFT_ANKLE.value].x, landmarks[mp_pose.PoseLandmark.LEFT_ANKLE.value].y),\n",
        "        \"left_shoulder\": (landmarks[mp_pose.PoseLandmark.LEFT_SHOULDER.value].x, landmarks[mp_pose.PoseLandmark.LEFT_SHOULDER.value].y),\n",
        "        \"right_shoulder\": (landmarks[mp_pose.PoseLandmark.RIGHT_SHOULDER.value].x, landmarks[mp_pose.PoseLandmark.RIGHT_SHOULDER.value].y),\n",
        "        \"center_spine\": (center_spine_x, center_spine_y)\n",
        "    }\n",
        "\n",
        "    return coordinates"
      ],
      "metadata": {
        "id": "Ggn79dINOyAz"
      },
      "execution_count": 11,
      "outputs": []
    },
    {
      "cell_type": "code",
      "source": [
        "def calculate_angle(a, b, c):\n",
        "    a = np.array(a)  # 첫 번째 점\n",
        "    b = np.array(b)  # 중간 점 (각도 점)\n",
        "    c = np.array(c)  # 세 번째 점\n",
        "\n",
        "    radians = np.arctan2(c[1]-b[1], c[0]-b[0]) - np.arctan2(a[1]-b[1], a[0]-b[0])\n",
        "    angle = np.abs(radians*180.0/np.pi)\n",
        "\n",
        "    if angle > 180.0:\n",
        "        angle = 360-angle\n",
        "\n",
        "    return angle"
      ],
      "metadata": {
        "id": "wKQlktGhOzcz"
      },
      "execution_count": 12,
      "outputs": []
    },
    {
      "cell_type": "code",
      "source": [
        "def save_to_csv(output_path, rows):\n",
        "    with open(output_path, 'w', newline='') as file:\n",
        "        writer = csv.writer(file)\n",
        "        writer.writerow([\"left_shoulder_x\", \"left_shoulder_y\", #\n",
        "                         \"right_shoulder_x\", \"right_shoulder_y\", #\n",
        "                         \"right_hip_ankle_angle\", \"left_hip_ankle_angle\",\n",
        "                         \"center_spine_x\", \"center_spine_y\"\n",
        "                         ])\n",
        "\n",
        "        for row in rows:\n",
        "            writer.writerow([row[\"left_shoulder\"][0], row[\"left_shoulder\"][1],\n",
        "                             row[\"right_shoulder\"][0], row[\"right_shoulder\"][1],\n",
        "                             row[\"right_hip_ankle_angle\"], row[\"left_hip_ankle_angle\"],\n",
        "                             row[\"center_spine\"][0], row[\"center_spine\"][1]\n",
        "\n",
        "                             ])"
      ],
      "metadata": {
        "id": "vVEOm9EdO1BE"
      },
      "execution_count": 14,
      "outputs": []
    },
    {
      "cell_type": "code",
      "source": [
        "if __name__ == \"__main__\":\n",
        "    video_path = \"/content/drive/MyDrive/GDSC_AI/Solution Challenge/answer_vid.mp4\"\n",
        "    output_path = \"SC_fix_sample.csv\"\n",
        "    process_video(video_path, output_path)"
      ],
      "metadata": {
        "id": "bdpUQUH8O3Hd"
      },
      "execution_count": 16,
      "outputs": []
    },
    {
      "cell_type": "markdown",
      "source": [
        "coordinate 추출 시간 절약 위한 코드 수정.</br></br>\n",
        "\n",
        "작아진 데이터 확보량 때문에 척추 중간 pose 코드 추가.\n",
        "\n",
        "</br>\n",
        "</br>\n",
        "\n",
        "측면 영상 기준이기 때문에, hip의 x,y 좌표값 사용은 부적합.\n",
        "</br>\n",
        "어깨, hip 사이 대략적 중간지점 x,y 좌표값 활용."
      ],
      "metadata": {
        "id": "I78kj3dmn4Bw"
      }
    }
  ]
}