{
  "nbformat": 4,
  "nbformat_minor": 0,
  "metadata": {
    "colab": {
      "provenance": []
    },
    "kernelspec": {
      "name": "python3",
      "display_name": "Python 3"
    },
    "language_info": {
      "name": "python"
    }
  },
  "cells": [
    {
      "cell_type": "code",
      "execution_count": null,
      "metadata": {
        "colab": {
          "base_uri": "https://localhost:8080/"
        },
        "id": "p1aUVoYWK7rs",
        "outputId": "475ba7eb-80a3-49bf-dcdd-0deb93507ec5"
      },
      "outputs": [
        {
          "output_type": "stream",
          "name": "stdout",
          "text": [
            "Collecting mediapipe\n",
            "  Downloading mediapipe-0.10.8-cp310-cp310-manylinux_2_17_x86_64.manylinux2014_x86_64.whl (34.5 MB)\n",
            "\u001b[2K     \u001b[90m━━━━━━━━━━━━━━━━━━━━━━━━━━━━━━━━━━━━━━━━\u001b[0m \u001b[32m34.5/34.5 MB\u001b[0m \u001b[31m44.4 MB/s\u001b[0m eta \u001b[36m0:00:00\u001b[0m\n",
            "\u001b[?25hRequirement already satisfied: opencv-python in /usr/local/lib/python3.10/dist-packages (4.8.0.76)\n",
            "Requirement already satisfied: absl-py in /usr/local/lib/python3.10/dist-packages (from mediapipe) (1.4.0)\n",
            "Requirement already satisfied: attrs>=19.1.0 in /usr/local/lib/python3.10/dist-packages (from mediapipe) (23.1.0)\n",
            "Requirement already satisfied: flatbuffers>=2.0 in /usr/local/lib/python3.10/dist-packages (from mediapipe) (23.5.26)\n",
            "Requirement already satisfied: matplotlib in /usr/local/lib/python3.10/dist-packages (from mediapipe) (3.7.1)\n",
            "Requirement already satisfied: numpy in /usr/local/lib/python3.10/dist-packages (from mediapipe) (1.23.5)\n",
            "Requirement already satisfied: opencv-contrib-python in /usr/local/lib/python3.10/dist-packages (from mediapipe) (4.8.0.76)\n",
            "Requirement already satisfied: protobuf<4,>=3.11 in /usr/local/lib/python3.10/dist-packages (from mediapipe) (3.20.3)\n",
            "Collecting sounddevice>=0.4.4 (from mediapipe)\n",
            "  Downloading sounddevice-0.4.6-py3-none-any.whl (31 kB)\n",
            "Requirement already satisfied: CFFI>=1.0 in /usr/local/lib/python3.10/dist-packages (from sounddevice>=0.4.4->mediapipe) (1.16.0)\n",
            "Requirement already satisfied: contourpy>=1.0.1 in /usr/local/lib/python3.10/dist-packages (from matplotlib->mediapipe) (1.2.0)\n",
            "Requirement already satisfied: cycler>=0.10 in /usr/local/lib/python3.10/dist-packages (from matplotlib->mediapipe) (0.12.1)\n",
            "Requirement already satisfied: fonttools>=4.22.0 in /usr/local/lib/python3.10/dist-packages (from matplotlib->mediapipe) (4.45.1)\n",
            "Requirement already satisfied: kiwisolver>=1.0.1 in /usr/local/lib/python3.10/dist-packages (from matplotlib->mediapipe) (1.4.5)\n",
            "Requirement already satisfied: packaging>=20.0 in /usr/local/lib/python3.10/dist-packages (from matplotlib->mediapipe) (23.2)\n",
            "Requirement already satisfied: pillow>=6.2.0 in /usr/local/lib/python3.10/dist-packages (from matplotlib->mediapipe) (9.4.0)\n",
            "Requirement already satisfied: pyparsing>=2.3.1 in /usr/local/lib/python3.10/dist-packages (from matplotlib->mediapipe) (3.1.1)\n",
            "Requirement already satisfied: python-dateutil>=2.7 in /usr/local/lib/python3.10/dist-packages (from matplotlib->mediapipe) (2.8.2)\n",
            "Requirement already satisfied: pycparser in /usr/local/lib/python3.10/dist-packages (from CFFI>=1.0->sounddevice>=0.4.4->mediapipe) (2.21)\n",
            "Requirement already satisfied: six>=1.5 in /usr/local/lib/python3.10/dist-packages (from python-dateutil>=2.7->matplotlib->mediapipe) (1.16.0)\n",
            "Installing collected packages: sounddevice, mediapipe\n",
            "Successfully installed mediapipe-0.10.8 sounddevice-0.4.6\n"
          ]
        }
      ],
      "source": [
        "!pip install mediapipe opencv-python"
      ]
    },
    {
      "cell_type": "code",
      "source": [
        "import cv2\n",
        "import mediapipe as mp\n",
        "import csv"
      ],
      "metadata": {
        "id": "EVWqMsNKLCwc"
      },
      "execution_count": null,
      "outputs": []
    },
    {
      "cell_type": "code",
      "source": [
        "mp_pose = mp.solutions.pose\n",
        "pose = mp_pose.Pose()"
      ],
      "metadata": {
        "id": "rpsVaZlhLFJm"
      },
      "execution_count": null,
      "outputs": []
    },
    {
      "cell_type": "code",
      "source": [
        "def process_video(video_path, output_path):\n",
        "    cap = cv2.VideoCapture(video_path)\n",
        "    if not cap.isOpened():\n",
        "        print(\"Error: Cannot open video.\")\n",
        "        return\n",
        "\n",
        "    rows = []\n",
        "    while cap.isOpened():\n",
        "        ret, frame = cap.read()\n",
        "        if not ret:\n",
        "            break\n",
        "\n",
        "        image_rgb = cv2.cvtColor(frame, cv2.COLOR_BGR2RGB)\n",
        "        results = pose.process(image_rgb)\n",
        "\n",
        "        if results.pose_landmarks:\n",
        "            row = extract_coordinates(results)\n",
        "            rows.append(row)\n",
        "\n",
        "    cap.release()\n",
        "\n",
        "    save_to_csv(output_path, rows)"
      ],
      "metadata": {
        "id": "-TwYgMgGLaJs"
      },
      "execution_count": null,
      "outputs": []
    },
    {
      "cell_type": "code",
      "source": [
        "def extract_coordinates(results):\n",
        "    landmarks = results.pose_landmarks.landmark\n",
        "\n",
        "    coordinates = {\n",
        "    \"right_hip\": (landmarks[mp_pose.PoseLandmark.RIGHT_HIP.value].x, landmarks[mp_pose.PoseLandmark.RIGHT_HIP.value].y),\n",
        "    \"left_hip\": (landmarks[mp_pose.PoseLandmark.LEFT_HIP.value].x, landmarks[mp_pose.PoseLandmark.LEFT_HIP.value].y),\n",
        "    \"right_knee\": (landmarks[mp_pose.PoseLandmark.RIGHT_KNEE.value].x, landmarks[mp_pose.PoseLandmark.RIGHT_KNEE.value].y),\n",
        "    \"left_knee\": (landmarks[mp_pose.PoseLandmark.LEFT_KNEE.value].x, landmarks[mp_pose.PoseLandmark.LEFT_KNEE.value].y),\n",
        "    \"left_shoulder\": (landmarks[mp_pose.PoseLandmark.LEFT_SHOULDER.value].x, landmarks[mp_pose.PoseLandmark.LEFT_SHOULDER.value].y),\n",
        "    \"right_shoulder\": (landmarks[mp_pose.PoseLandmark.RIGHT_SHOULDER.value].x, landmarks[mp_pose.PoseLandmark.RIGHT_SHOULDER.value].y)\n",
        "}\n",
        "\n",
        "    return coordinates"
      ],
      "metadata": {
        "id": "KNXHwWj9LdYn"
      },
      "execution_count": null,
      "outputs": []
    },
    {
      "cell_type": "code",
      "source": [
        "def save_to_csv(output_path, rows):\n",
        "    with open(output_path, 'w', newline='') as file:\n",
        "        writer = csv.writer(file)\n",
        "        writer.writerow([\"right_hip_x\", \"right_hip_y\",\n",
        "                         \"left_hip_x\", \"left_hip_y\",\n",
        "                         \"right_knee_x\", \"right_knee_y\",\n",
        "                         \"left_knee_x\", \"left_knee_y\",\n",
        "                         \"left_shoulder_x\", \"left_shoulder_y\",\n",
        "                         \"right_shoulder_x\", \"right_shoulder_y\"])\n",
        "\n",
        "        for row in rows:\n",
        "            writer.writerow([row[\"right_hip\"][0], row[\"right_hip\"][1],\n",
        "                             row[\"left_hip\"][0], row[\"left_hip\"][1],\n",
        "                             row[\"right_knee\"][0], row[\"right_knee\"][1],\n",
        "                             row[\"left_knee\"][0], row[\"left_knee\"][1],\n",
        "                             row[\"left_shoulder\"][0], row[\"left_shoulder\"][1],\n",
        "                             row[\"right_shoulder\"][0], row[\"right_shoulder\"][1]])"
      ],
      "metadata": {
        "id": "QGZhdp3rLhog"
      },
      "execution_count": null,
      "outputs": []
    },
    {
      "cell_type": "code",
      "source": [
        "if __name__ == \"__main__\":\n",
        "    video_path = \"/content/drive/MyDrive/GDSC_AI/Solution Challenge/wrong_vid.mp4\"\n",
        "    output_path = \"waist_wrong.csv\"\n",
        "    process_video(video_path, output_path)"
      ],
      "metadata": {
        "id": "TJejsFJoLmJT"
      },
      "execution_count": 12,
      "outputs": []
    },
    {
      "cell_type": "code",
      "source": [
        "import pandas as pd\n",
        "\n",
        "df1 = pd.read_csv('/content/waist.csv')\n",
        "\n",
        "df1.info()"
      ],
      "metadata": {
        "id": "U_OkOnm1X-2S",
        "colab": {
          "base_uri": "https://localhost:8080/"
        },
        "outputId": "124dfd87-20d4-40d6-b74e-344b174d5dfd"
      },
      "execution_count": null,
      "outputs": [
        {
          "output_type": "stream",
          "name": "stdout",
          "text": [
            "<class 'pandas.core.frame.DataFrame'>\n",
            "RangeIndex: 1195 entries, 0 to 1194\n",
            "Data columns (total 12 columns):\n",
            " #   Column            Non-Null Count  Dtype  \n",
            "---  ------            --------------  -----  \n",
            " 0   right_hip_x       1195 non-null   float64\n",
            " 1   right_hip_y       1195 non-null   float64\n",
            " 2   left_hip_x        1195 non-null   float64\n",
            " 3   left_hip_y        1195 non-null   float64\n",
            " 4   right_knee_x      1195 non-null   float64\n",
            " 5   right_knee_y      1195 non-null   float64\n",
            " 6   left_knee_x       1195 non-null   float64\n",
            " 7   left_knee_y       1195 non-null   float64\n",
            " 8   left_shoulder_x   1195 non-null   float64\n",
            " 9   left_shoulder_y   1195 non-null   float64\n",
            " 10  right_shoulder_x  1195 non-null   float64\n",
            " 11  right_shoulder_y  1195 non-null   float64\n",
            "dtypes: float64(12)\n",
            "memory usage: 112.2 KB\n"
          ]
        }
      ]
    },
    {
      "cell_type": "code",
      "source": [
        "df2 = pd.read_csv('/content/waist_wrong.csv')\n",
        "\n",
        "df2.info()"
      ],
      "metadata": {
        "id": "kzkKeMHnS9ok",
        "colab": {
          "base_uri": "https://localhost:8080/"
        },
        "outputId": "71a9f8b7-dddf-47d1-efe2-20e05f9af3de"
      },
      "execution_count": 13,
      "outputs": [
        {
          "output_type": "stream",
          "name": "stdout",
          "text": [
            "<class 'pandas.core.frame.DataFrame'>\n",
            "RangeIndex: 1573 entries, 0 to 1572\n",
            "Data columns (total 12 columns):\n",
            " #   Column            Non-Null Count  Dtype  \n",
            "---  ------            --------------  -----  \n",
            " 0   right_hip_x       1573 non-null   float64\n",
            " 1   right_hip_y       1573 non-null   float64\n",
            " 2   left_hip_x        1573 non-null   float64\n",
            " 3   left_hip_y        1573 non-null   float64\n",
            " 4   right_knee_x      1573 non-null   float64\n",
            " 5   right_knee_y      1573 non-null   float64\n",
            " 6   left_knee_x       1573 non-null   float64\n",
            " 7   left_knee_y       1573 non-null   float64\n",
            " 8   left_shoulder_x   1573 non-null   float64\n",
            " 9   left_shoulder_y   1573 non-null   float64\n",
            " 10  right_shoulder_x  1573 non-null   float64\n",
            " 11  right_shoulder_y  1573 non-null   float64\n",
            "dtypes: float64(12)\n",
            "memory usage: 147.6 KB\n"
          ]
        }
      ]
    },
    {
      "cell_type": "code",
      "source": [],
      "metadata": {
        "id": "WNtCqTBulj6Q"
      },
      "execution_count": null,
      "outputs": []
    }
  ]
}