{
 "cells": [
  {
   "cell_type": "code",
   "execution_count": 2,
   "id": "3033dd9e-d405-43c9-91d4-b7b30c83df2c",
   "metadata": {},
   "outputs": [
    {
     "name": "stdout",
     "output_type": "stream",
     "text": [
      "img.ndim =  3\n",
      "img.shape =  (512, 512, 3)\n",
      "img.dtype =  uint8\n",
      "img.dtype =  int32\n",
      "img.dtype =  uint8\n"
     ]
    }
   ],
   "source": [
    "##모양 & 자료형\n",
    "\n",
    "import cv2\n",
    "import numpy as np\n",
    "\n",
    "img = cv2.imread('Lenna.png') #이미지 불러오기\n",
    "\n",
    "print('img.ndim = ', img.ndim) # 3차원 배열\n",
    "print('img.shape = ', img.shape) # 512 x 512크기의 3채널 영상\n",
    "print('img.dtype = ', img.dtype) # 원래의 type은 uint8형태\n",
    "\n",
    "img = img.astype(np.int32) # 타입 변환 후 \n",
    "print('img.dtype = ', img.dtype) #결과는 int32형태\n",
    "\n",
    "img = np.uint8(img) #타입 변환 후\n",
    "print('img.dtype = ', img.dtype) # 결과는 uint8 형태"
   ]
  },
  {
   "cell_type": "code",
   "execution_count": 3,
   "id": "ae03d7b9-b66b-4d3a-9fac-31aab2273b91",
   "metadata": {},
   "outputs": [
    {
     "name": "stdout",
     "output_type": "stream",
     "text": [
      "img.shape =  (512, 512)\n",
      "img.shape =  (262144,)\n",
      "img.shape =  (1, 512, 512)\n"
     ]
    }
   ],
   "source": [
    "##모양 변경\n",
    "\n",
    "img = cv2.imread('Lenna.png', cv2.IMREAD_GRAYSCALE) #이미지를 grayscale로 읽어오고.\n",
    "print('img.shape = ', img.shape) #모양새는 512,512 크기\n",
    "\n",
    "img = img.flatten() # flatten써서 1차원 배열로 변경\n",
    "print('img.shape = ', img.shape)\n",
    "\n",
    "img = img.reshape(-1,512,512) #다시 reshape써서 1,512,512크기로(원본 데이터는 변경  X)\n",
    "print('img.shape = ', img.shape)\n",
    "\n",
    "cv2.imshow('img', img[0]) \n",
    "cv2.waitKey()\n",
    "cv2.destroyAllWindows()"
   ]
  },
  {
   "cell_type": "code",
   "execution_count": 4,
   "id": "b9d1d77b-e0d2-473f-973e-2ecea2ab0172",
   "metadata": {},
   "outputs": [
    {
     "name": "stdout",
     "output_type": "stream",
     "text": [
      "[[  0 153 150 141 151 150 151 145 144 144]\n",
      " [146 144 151 155 148 149 146 148 145 145]\n",
      " [139 146 157 148 142 146 148 146 144 140]\n",
      " [145 153 146 135 139 147 149 148 140 138]\n",
      " [151 149 139 142 148 150 149 141 142 147]\n",
      " [151 144 143 151 152 150 139 138 145 144]\n",
      " [149 151 149 151 149 148 150 143 142 141]\n",
      " [159 149 145 146 150 151 152 144 132 137]\n",
      " [151 144 144 144 152 149 139 134 140 144]\n",
      " [142 142 151 151 143 142 133 143 146 136]]\n"
     ]
    }
   ],
   "source": [
    "#화소. 그레이스케일 영상\n",
    "\n",
    "img = cv2.imread('Lenna.png', cv2.IMREAD_GRAYSCALE)\n",
    "\n",
    "img[100,200] = 0 # Y = 100, X = 200을 0으로\n",
    "print(img[100:110, 200:210]) # y축 100~109, x축 200~209 화소값 출력\n",
    "\n",
    "img[100:400, 200:300] = 0 # y축 100~399, x축 200~299까지 0으로 지정\n",
    "\n",
    "cv2.imshow('img', img)\n",
    "cv2.waitKey()\n",
    "cv2.destroyAllWindows()"
   ]
  },
  {
   "cell_type": "code",
   "execution_count": 5,
   "id": "bd167611-522c-4481-a19f-7051528c44f9",
   "metadata": {},
   "outputs": [
    {
     "name": "stdout",
     "output_type": "stream",
     "text": [
      "[[255   0   0]\n",
      " [109 117 213]\n",
      " [113 115 208]\n",
      " [114 101 199]\n",
      " [121 116 207]\n",
      " [105 114 209]\n",
      " [112 113 212]\n",
      " [107 109 204]\n",
      " [117 108 200]\n",
      " [110 109 202]]\n"
     ]
    }
   ],
   "source": [
    "img = cv2.imread('Lenna.png')\n",
    "\n",
    "img[100,200] = [255,0,0] # BGR컬러 파랑이로 변경\n",
    "print(img[100, 200:210]) # y = 100, x = 200~209로 지정 출력.\n",
    "\n",
    "img[100:400, 200:300] = [255,0,0] # y축 100~399, x축 200~299까지. 파랑이로 변경\n",
    "\n",
    "cv2.imshow('img', img)\n",
    "cv2.waitKey()\n",
    "cv2.destroyAllWindows()"
   ]
  },
  {
   "cell_type": "code",
   "execution_count": 6,
   "id": "a42eafb4-c8b3-4d0b-8d47-a719b5eb68b3",
   "metadata": {},
   "outputs": [],
   "source": [
    "img = cv2.imread('Lenna.png')\n",
    "\n",
    "img[100:400, 200:300, 0] = 255 # B채널 255\n",
    "img[100:400, 300:400, 1] = 255 # G 채널 255\n",
    "img[100:400, 400:500, 2] = 255 # R 채널 255\n",
    "\n",
    "cv2.imshow('img', img)\n",
    "cv2.waitKey()\n",
    "cv2.destroyAllWindows()"
   ]
  },
  {
   "cell_type": "code",
   "execution_count": null,
   "id": "2a9a786a-d639-4a05-b9b7-70ec07a1f813",
   "metadata": {},
   "outputs": [],
   "source": []
  }
 ],
 "metadata": {
  "kernelspec": {
   "display_name": "Python 3 (ipykernel)",
   "language": "python",
   "name": "python3"
  },
  "language_info": {
   "codemirror_mode": {
    "name": "ipython",
    "version": 3
   },
   "file_extension": ".py",
   "mimetype": "text/x-python",
   "name": "python",
   "nbconvert_exporter": "python",
   "pygments_lexer": "ipython3",
   "version": "3.8.1"
  }
 },
 "nbformat": 4,
 "nbformat_minor": 5
}
