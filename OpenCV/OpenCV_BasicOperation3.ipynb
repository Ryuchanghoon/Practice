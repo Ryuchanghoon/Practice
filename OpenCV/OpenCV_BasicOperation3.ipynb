{
 "cells": [
  {
   "cell_type": "code",
   "execution_count": 1,
   "id": "61f2093f-b031-43bb-b0fc-a41294430933",
   "metadata": {},
   "outputs": [],
   "source": [
    "## 컬러 변환\n",
    "\n",
    "import cv2\n",
    "src = cv2.imread('Lenna.png')\n",
    "\n",
    "gray = cv2.cvtColor(src, cv2.COLOR_BGR2GRAY) ## gray출력\n",
    "yCrCv = cv2.cvtColor(src, cv2.COLOR_BGR2YCrCb) ## BGR출력\n",
    "hsv = cv2.cvtColor(src, cv2.COLOR_BGR2HSV) ## HSV출력\n",
    "\n",
    "cv2.imshow('gray', gray)\n",
    "cv2.imshow('yCrCv', yCrCv)\n",
    "cv2.imshow('hsv', hsv)\n",
    "\n",
    "cv2.waitKey()\n",
    "cv2.destroyAllWindows()"
   ]
  },
  {
   "cell_type": "markdown",
   "id": "8b010e20-f574-4f69-a4fb-2278fde65402",
   "metadata": {},
   "source": [
    "컬러변환에 여러코드가 있는데,\n",
    "\n",
    "BGR -> cv2.COLOR_BGR2GRAY -> GRAY\n",
    "<br>\n",
    "GRAY -> cv2.COLOR_GRAY2BGR -> BGR\n",
    "<br>\n",
    "BGR -> cv2.COLOR_BGR2HSV -> HSV\n",
    "<br>\n",
    "HSV -> cv2.COLOR_BGR -> BGR\n",
    "<br>\n",
    "BGR -> cv2.COLOR_BGR2YCrCb -> YCrCb\n",
    "<br>\n",
    "YCrCb -> cv2.COLOR_YCrCb2BGR -> BGR\n",
    "<br>\n",
    "맞춰서 쓰면 될것 같다."
   ]
  },
  {
   "cell_type": "code",
   "execution_count": 4,
   "id": "95a1b697-806d-414e-b1ae-389f774565bf",
   "metadata": {},
   "outputs": [],
   "source": [
    "##영상 크기변환\n",
    "\n",
    "import numpy as np\n",
    "\n",
    "src = cv2.imread('Lenna.png', cv2.IMREAD_GRAYSCALE) #처음부터 GRAYSCALE로\n",
    "\n",
    "dst = cv2.resize(src, dsize = (320, 240)) #x = 320, y = 240 값으로 크기 변환 가능\n",
    "dst2 = cv2.resize(src, dsize = (0,0), fx = 1.5, fy = 1.2) #(0,0)은 원본 크기로, fx = 1.5는 x축 1.5배, fy = 1.2는 y축 1.2배 한다는 뜻.\n",
    "\n",
    "cv2.imshow('dst', dst)\n",
    "cv2.imshow('dst2', dst2)\n",
    "\n",
    "cv2.waitKey()\n",
    "cv2.destroyAllWindows()"
   ]
  },
  {
   "cell_type": "code",
   "execution_count": 5,
   "id": "c8a1177e-bb54-4906-bafd-251f26963194",
   "metadata": {},
   "outputs": [],
   "source": [
    "##영상 회전\n",
    "\n",
    "src = cv2.imread('Lenna.png')\n",
    "\n",
    "dst1 = cv2.rotate(src, cv2.ROTATE_90_CLOCKWISE) #시계방향으로 90도 회전\n",
    "dst2 = cv2.rotate(src, cv2.ROTATE_90_COUNTERCLOCKWISE) # 반시계 방향으로 90도 회전\n",
    "\n",
    "cv2.imshow('dst1', dst1)\n",
    "cv2.imshow('dst2', dst2)\n",
    "\n",
    "cv2.waitKey()\n",
    "cv2.destroyAllWindows()"
   ]
  },
  {
   "cell_type": "markdown",
   "id": "ae780ad5-6b9d-4988-b479-97500a31adad",
   "metadata": {},
   "source": [
    "회전 코드로는\n",
    "cv2.ROTATE_90_CLOCKWISE\n",
    "cv2.ROTATE_180\n",
    "cv2.ROTATE_90_COUNTERCLOCKWISE\n",
    "등 여러개 있는데, 맞춰서 쓰면 될 것 같다."
   ]
  },
  {
   "cell_type": "code",
   "execution_count": 6,
   "id": "2148486f-871a-4cdf-8217-209daf362690",
   "metadata": {},
   "outputs": [],
   "source": [
    "##어파인 변환(확대/축소, 회전)\n",
    "\n",
    "src = cv2.imread('Lenna.png')\n",
    "\n",
    "rows, cols, channels = src.shape\n",
    "\n",
    "M1 = cv2.getRotationMatrix2D((rows / 2, cols / 2), 45, 0.5) # (rows / 2, cols / 2)는 중심 기준으로, 반시계 45도 회전. 기존 영상의 0.5배 한 값 출력\n",
    "M2 = cv2.getRotationMatrix2D((rows / 2, cols / 2), -45, 1.0) # 이것도 (rows / 2, cols / 2) 중심 기준으로, 시계 45도 회전. 기존 영상 1배, 그냥 똑같은 크기로 회전만 먹인 것.\n",
    "\n",
    "dst1 = cv2.warpAffine(src, M1, (rows, cols)) # 2 x 3 어파인 변환행렬 M1 적용해서, 영상 생성\n",
    "dst2 = cv2.warpAffine(src, M2, (rows, cols)) # 2 x 3 어파인 변환행렬 M2 적용해서, 영상 생성\n",
    "\n",
    "cv2.imshow('dst1', dst1)\n",
    "cv2.imshow('dst2', dst2)\n",
    "\n",
    "cv2.waitKey()\n",
    "cv2.destroyAllWindows()"
   ]
  },
  {
   "cell_type": "markdown",
   "id": "301a9283-8d1f-46ae-a6df-c48168203539",
   "metadata": {},
   "source": [
    "cv2.warpAffine() 는 기존 영상에 2 x 3 어파인 변환행렬을 적용한다고 한다.\n",
    "<br>\n",
    "중간에 각도 값이 양수이면, 반시계 방향으로, \n",
    "<br>\n",
    "음수이면, 시계방향으로 회전.\n",
    "<br>\n",
    "회전만 보면, rotate()함수로도 충분히 가능한데, 좀 더 세밀하게 조절할 수 있다."
   ]
  },
  {
   "cell_type": "code",
   "execution_count": null,
   "id": "d49d9202-67bf-46c3-9fb3-c195396176bd",
   "metadata": {},
   "outputs": [],
   "source": []
  }
 ],
 "metadata": {
  "kernelspec": {
   "display_name": "Python 3 (ipykernel)",
   "language": "python",
   "name": "python3"
  },
  "language_info": {
   "codemirror_mode": {
    "name": "ipython",
    "version": 3
   },
   "file_extension": ".py",
   "mimetype": "text/x-python",
   "name": "python",
   "nbconvert_exporter": "python",
   "pygments_lexer": "ipython3",
   "version": "3.8.1"
  }
 },
 "nbformat": 4,
 "nbformat_minor": 5
}
