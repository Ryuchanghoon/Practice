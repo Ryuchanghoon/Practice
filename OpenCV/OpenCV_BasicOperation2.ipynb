{
 "cells": [
  {
   "cell_type": "code",
   "execution_count": 9,
   "id": "64fc330d-9037-46db-b048-6c2647a020a3",
   "metadata": {},
   "outputs": [],
   "source": [
    "import cv2\n",
    "import numpy as np\n",
    "\n",
    "src = cv2.imread('Lenna.png', cv2.IMREAD_GRAYSCALE) #GRAYSCALE로 불러와서\n",
    "dst = np.zeros(src.shape, dtype = src.dtype) # 0값으로 배열 생성\n",
    "\n",
    "N = 4\n",
    "height, width = src.shape #src값 받아온거 height(세로), width(가로)에 저장.\n",
    "\n",
    "h = height // N\n",
    "w = width // N\n",
    "\n",
    "for i in range(N):\n",
    "    for j in range(N):\n",
    "        y = i * h\n",
    "        x = j * w\n",
    "        \n",
    "        roi = src[y:y + h, x:x + w]\n",
    "        dst[y:y + h, x:x + w] = cv2.mean(roi)[0] #roi의 평균 계산.\n",
    "        \n",
    "cv2.imshow('dst', dst)\n",
    "cv2.waitKey()\n",
    "cv2.destroyAllWindows()"
   ]
  },
  {
   "cell_type": "code",
   "execution_count": 10,
   "id": "f500a666-32c7-4567-a11a-8582197cdf52",
   "metadata": {},
   "outputs": [
    {
     "name": "stdout",
     "output_type": "stream",
     "text": [
      "roi =  (0, 0, 0, 0)\n"
     ]
    }
   ],
   "source": [
    "###마우스 ROI 지정영역\n",
    "\n",
    "src = cv2.imread('Lenna.png', cv2.IMREAD_GRAYSCALE) # 동일하게 흑백으로\n",
    "roi = cv2.selectROI(src) #마우스 지정 영역. selectROI\n",
    "print('roi = ', roi)\n",
    "\n",
    "if roi != (0,0,0,0): \n",
    "    img = src[roi[1] : roi[1] + roi[3], # Y + height\n",
    "              roi[0] : roi[0] + roi[2]] # x + width \n",
    "    \n",
    "    cv2.imshow('IMG', img)\n",
    "    cv2.waitKey()\n",
    "    \n",
    "cv2.destroyAllWindows()"
   ]
  },
  {
   "cell_type": "code",
   "execution_count": 13,
   "id": "9bd919cb-b1b2-4309-804d-b25ad17e7994",
   "metadata": {},
   "outputs": [],
   "source": [
    "#흑백영상 그냥 복사\n",
    "\n",
    "import cv2\n",
    "\n",
    "src = cv2.imread('Lenna.png', cv2.IMREAD_GRAYSCALE)\n",
    "\n",
    "dst = src.copy() # src영상 복사.\n",
    "dst[100:400, 200:300] = 0 # y축 값 100~399, x축 값 200~299값 0으로 지정\n",
    "\n",
    "cv2.imshow('src', src)\n",
    "cv2.imshow('dst', dst)\n",
    "\n",
    "cv2.waitKey()\n",
    "cv2.destroyAllWindows()"
   ]
  },
  {
   "cell_type": "code",
   "execution_count": 12,
   "id": "5c6ac064-21a5-4cf2-9b9b-3e4c12f484c0",
   "metadata": {},
   "outputs": [],
   "source": [
    "# 3채널 영상 \n",
    "\n",
    "import numpy as np\n",
    "\n",
    "src = cv2.imread('Lenna.png', cv2.IMREAD_GRAYSCALE)\n",
    "shape = src.shape[0], src.shape[1], 3\n",
    "dst = np.zeros(shape, dtype = np.uint8)\n",
    "\n",
    "dst[:, :, 0] = src # B채널 지정\n",
    "#dst[:, :, 1] = src # G채널\n",
    "#dst[:, :, 2] = src # R채널\n",
    "dst[100:400, 200:300, :] = [255,255,255] # y축 100~399, X축 200~299 까지 모든 배열 싹 다 흰색으로 지정.\n",
    "\n",
    "cv2.imshow('src', src)\n",
    "cv2.imshow('dst', dst)\n",
    "cv2.waitKey()\n",
    "cv2.destroyAllWindows()"
   ]
  },
  {
   "cell_type": "code",
   "execution_count": null,
   "id": "e5af1efc-f2de-4033-be2b-108c42a9b533",
   "metadata": {},
   "outputs": [],
   "source": []
  }
 ],
 "metadata": {
  "kernelspec": {
   "display_name": "Python 3 (ipykernel)",
   "language": "python",
   "name": "python3"
  },
  "language_info": {
   "codemirror_mode": {
    "name": "ipython",
    "version": 3
   },
   "file_extension": ".py",
   "mimetype": "text/x-python",
   "name": "python",
   "nbconvert_exporter": "python",
   "pygments_lexer": "ipython3",
   "version": "3.8.1"
  }
 },
 "nbformat": 4,
 "nbformat_minor": 5
}
