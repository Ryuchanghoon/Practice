{
  "nbformat": 4,
  "nbformat_minor": 0,
  "metadata": {
    "colab": {
      "provenance": []
    },
    "kernelspec": {
      "name": "python3",
      "display_name": "Python 3"
    },
    "language_info": {
      "name": "python"
    }
  },
  "cells": [
    {
      "cell_type": "code",
      "execution_count": null,
      "metadata": {
        "id": "oaV2B4fEaXJ3"
      },
      "outputs": [],
      "source": [
        "import os\n",
        "import tarfile\n",
        "import urllib"
      ]
    },
    {
      "cell_type": "code",
      "source": [
        "DOWNLOAD_ROOT = \"https://raw.githubusercontent.com/rickiepark/handson-ml2/master/\"\n",
        "HOUSING_PATH = os.path.join(\"datasets\", \"housing\")\n",
        "HOUSING_URL = DOWNLOAD_ROOT + \"datasets/housing/housing.tgz\"\n",
        "\n",
        "def fetch_housing_data(housing_url=HOUSING_URL, housing_path=HOUSING_PATH):\n",
        "    if not os.path.isdir(housing_path):\n",
        "        os.makedirs(housing_path)\n",
        "    tgz_path = os.path.join(housing_path, \"housing.tgz\")\n",
        "    urllib.request.urlretrieve(housing_url, tgz_path)\n",
        "    housing_tgz = tarfile.open(tgz_path)\n",
        "    housing_tgz.extractall(path=housing_path)\n",
        "    housing_tgz.close()"
      ],
      "metadata": {
        "id": "ZCxHxY7qahvL"
      },
      "execution_count": null,
      "outputs": []
    },
    {
      "cell_type": "code",
      "source": [
        "fetch_housing_data()"
      ],
      "metadata": {
        "id": "2Isq5fPyajOF"
      },
      "execution_count": null,
      "outputs": []
    },
    {
      "cell_type": "code",
      "source": [
        "import pandas as pd\n",
        "\n",
        "## pandas 사용해서, 모든 데이터 담은 데이터프레임 반환.\n",
        "\n",
        "def load_housing_data(housing_path = HOUSING_PATH):\n",
        "    csv_path = os.path.join(housing_path, 'housing.csv')\n",
        "    return pd.read_csv(csv_path)"
      ],
      "metadata": {
        "id": "RlcF-oDFalxO"
      },
      "execution_count": null,
      "outputs": []
    },
    {
      "cell_type": "code",
      "source": [
        "housing = load_housing_data()"
      ],
      "metadata": {
        "id": "sUaY67Jkankk"
      },
      "execution_count": null,
      "outputs": []
    },
    {
      "cell_type": "code",
      "source": [
        "housing.info()"
      ],
      "metadata": {
        "colab": {
          "base_uri": "https://localhost:8080/"
        },
        "id": "0cT3CyOcayo4",
        "outputId": "8c405db5-2ede-4e5c-9cea-40b7cc293219"
      },
      "execution_count": null,
      "outputs": [
        {
          "output_type": "stream",
          "name": "stdout",
          "text": [
            "<class 'pandas.core.frame.DataFrame'>\n",
            "RangeIndex: 20640 entries, 0 to 20639\n",
            "Data columns (total 10 columns):\n",
            " #   Column              Non-Null Count  Dtype  \n",
            "---  ------              --------------  -----  \n",
            " 0   longitude           20640 non-null  float64\n",
            " 1   latitude            20640 non-null  float64\n",
            " 2   housing_median_age  20640 non-null  float64\n",
            " 3   total_rooms         20640 non-null  float64\n",
            " 4   total_bedrooms      20433 non-null  float64\n",
            " 5   population          20640 non-null  float64\n",
            " 6   households          20640 non-null  float64\n",
            " 7   median_income       20640 non-null  float64\n",
            " 8   median_house_value  20640 non-null  float64\n",
            " 9   ocean_proximity     20640 non-null  object \n",
            "dtypes: float64(9), object(1)\n",
            "memory usage: 1.6+ MB\n"
          ]
        }
      ]
    },
    {
      "cell_type": "code",
      "source": [
        "import numpy as np\n",
        "\n",
        "housing['income_cat'] = pd.cut(housing['median_income'],\n",
        "                               bins = [0., 1.5, 3.0, 4.5, 6., np.inf],\n",
        "                               labels = [1,2,3,4,5])"
      ],
      "metadata": {
        "id": "yS8jDqG5bsMJ"
      },
      "execution_count": null,
      "outputs": []
    },
    {
      "cell_type": "code",
      "source": [
        "from sklearn.model_selection import StratifiedShuffleSplit\n",
        "\n",
        "split = StratifiedShuffleSplit(n_splits=1, test_size=0.2, random_state=42) #계층 샘플링 StratifiedShuffleSplit\n",
        "\n",
        "for train_index, test_index in split.split(housing, housing[\"income_cat\"]): # 아까 따로 추출해준, 'income_cat'을 기준으로\n",
        "    strat_train_set = housing.loc[train_index]\n",
        "    strat_test_set = housing.loc[test_index]"
      ],
      "metadata": {
        "id": "0r9ghKumbu-2"
      },
      "execution_count": null,
      "outputs": []
    },
    {
      "cell_type": "code",
      "source": [
        "housing.info()"
      ],
      "metadata": {
        "colab": {
          "base_uri": "https://localhost:8080/"
        },
        "id": "ERNn0VyPb5Jf",
        "outputId": "b4973f8b-19ed-408d-cd4f-4d08e7bc7487"
      },
      "execution_count": null,
      "outputs": [
        {
          "output_type": "stream",
          "name": "stdout",
          "text": [
            "<class 'pandas.core.frame.DataFrame'>\n",
            "RangeIndex: 20640 entries, 0 to 20639\n",
            "Data columns (total 11 columns):\n",
            " #   Column              Non-Null Count  Dtype   \n",
            "---  ------              --------------  -----   \n",
            " 0   longitude           20640 non-null  float64 \n",
            " 1   latitude            20640 non-null  float64 \n",
            " 2   housing_median_age  20640 non-null  float64 \n",
            " 3   total_rooms         20640 non-null  float64 \n",
            " 4   total_bedrooms      20433 non-null  float64 \n",
            " 5   population          20640 non-null  float64 \n",
            " 6   households          20640 non-null  float64 \n",
            " 7   median_income       20640 non-null  float64 \n",
            " 8   median_house_value  20640 non-null  float64 \n",
            " 9   ocean_proximity     20640 non-null  object  \n",
            " 10  income_cat          20640 non-null  category\n",
            "dtypes: category(1), float64(9), object(1)\n",
            "memory usage: 1.6+ MB\n"
          ]
        }
      ]
    },
    {
      "cell_type": "markdown",
      "source": [
        "housing 데이터 다시 생성."
      ],
      "metadata": {
        "id": "oMRM1SqCaq4q"
      }
    },
    {
      "cell_type": "markdown",
      "source": [
        "이제부터 데이터 전처리.\n",
        "<br>\n",
        "데이터 전처리를 할 때, 함수로 만들어야 하는 이유\n",
        "<br>\n",
        "1. 데이터 변환을 손쉽게 변환(새로운 데이터 가져올 때)\n",
        "<br>\n",
        "2. 변환 라이브러리, 점진적 구축 가능.\n",
        "<br>\n",
        "3. 새로운 데이터 넣기 전에, 변환하는데 유리\n",
        "<br>\n",
        "4. 어떤 조합이 좋은지 확인 편리."
      ],
      "metadata": {
        "id": "YD55wMNAa3FW"
      }
    },
    {
      "cell_type": "code",
      "source": [
        "housing = strat_train_set.drop('median_house_value', axis = 1)\n",
        "housing_labels = strat_train_set['median_house_value'].copy()"
      ],
      "metadata": {
        "id": "RG1nW0SnapRc"
      },
      "execution_count": null,
      "outputs": []
    },
    {
      "cell_type": "markdown",
      "source": [
        "예측 변수, 레이블 분리.\n",
        "housing에는 'median_house_value'만 없는 모든 데이터, housing_labels는 'median_house_value'만 있는 데이터."
      ],
      "metadata": {
        "id": "r-jqrOI-cqPK"
      }
    },
    {
      "cell_type": "code",
      "source": [
        "housing.info()"
      ],
      "metadata": {
        "colab": {
          "base_uri": "https://localhost:8080/"
        },
        "id": "e-9g0QIecoH8",
        "outputId": "1b91cd59-6edb-4641-d8f0-a375657fb4d9"
      },
      "execution_count": null,
      "outputs": [
        {
          "output_type": "stream",
          "name": "stdout",
          "text": [
            "<class 'pandas.core.frame.DataFrame'>\n",
            "Int64Index: 16512 entries, 12655 to 19773\n",
            "Data columns (total 10 columns):\n",
            " #   Column              Non-Null Count  Dtype   \n",
            "---  ------              --------------  -----   \n",
            " 0   longitude           16512 non-null  float64 \n",
            " 1   latitude            16512 non-null  float64 \n",
            " 2   housing_median_age  16512 non-null  float64 \n",
            " 3   total_rooms         16512 non-null  float64 \n",
            " 4   total_bedrooms      16354 non-null  float64 \n",
            " 5   population          16512 non-null  float64 \n",
            " 6   households          16512 non-null  float64 \n",
            " 7   median_income       16512 non-null  float64 \n",
            " 8   ocean_proximity     16512 non-null  object  \n",
            " 9   income_cat          16512 non-null  category\n",
            "dtypes: category(1), float64(8), object(1)\n",
            "memory usage: 1.3+ MB\n"
          ]
        }
      ]
    },
    {
      "cell_type": "code",
      "source": [
        "housing.dropna(subset = ['total_bedrooms']) # NaN값만 제거.\n",
        "housing.drop('total_bedrooms', axis = 1) # 전체 특성 제거.\n",
        "median = housing['total_bedrooms'].median() #중간값.\n",
        "housing['total_bedrooms'].fillna(median, inplace = True) #그걸 NaN값에 채워 넣기."
      ],
      "metadata": {
        "id": "TNj_N-QKdKyS"
      },
      "execution_count": null,
      "outputs": []
    },
    {
      "cell_type": "code",
      "source": [
        "from sklearn.impute import SimpleImputer\n",
        "\n",
        "imputer = SimpleImputer(strategy = 'median')"
      ],
      "metadata": {
        "id": "INPb80jCdviE"
      },
      "execution_count": null,
      "outputs": []
    },
    {
      "cell_type": "markdown",
      "source": [
        "SimpleImputer는 NaN값 다루기 쉽게.\n",
        "<br>\n",
        "'median'값을 NaN값에 채워넣고, 그걸 imputer로.\n",
        "<br>\n",
        "미세조정은 쫌 어려워 보인다."
      ],
      "metadata": {
        "id": "vKFHxyyreBqw"
      }
    },
    {
      "cell_type": "code",
      "source": [
        "housing_num = housing.drop('ocean_proximity', axis = 1)"
      ],
      "metadata": {
        "id": "RxpaPu2Ud-ta"
      },
      "execution_count": null,
      "outputs": []
    },
    {
      "cell_type": "markdown",
      "source": [
        "'ocean_proximity'가 혼자 object형태여서, 버려줌"
      ],
      "metadata": {
        "id": "cmIEcT_rexBf"
      }
    },
    {
      "cell_type": "code",
      "source": [
        "imputer.fit(housing_num) #fit()함수 써서, 위에 drop한 housing_num 데이터에 적용."
      ],
      "metadata": {
        "colab": {
          "base_uri": "https://localhost:8080/",
          "height": 74
        },
        "id": "ZR50sJc6evtp",
        "outputId": "53765a6d-bf8a-44d7-b95e-96e149d41f3e"
      },
      "execution_count": null,
      "outputs": [
        {
          "output_type": "execute_result",
          "data": {
            "text/plain": [
              "SimpleImputer(strategy='median')"
            ],
            "text/html": [
              "<style>#sk-container-id-1 {color: black;background-color: white;}#sk-container-id-1 pre{padding: 0;}#sk-container-id-1 div.sk-toggleable {background-color: white;}#sk-container-id-1 label.sk-toggleable__label {cursor: pointer;display: block;width: 100%;margin-bottom: 0;padding: 0.3em;box-sizing: border-box;text-align: center;}#sk-container-id-1 label.sk-toggleable__label-arrow:before {content: \"▸\";float: left;margin-right: 0.25em;color: #696969;}#sk-container-id-1 label.sk-toggleable__label-arrow:hover:before {color: black;}#sk-container-id-1 div.sk-estimator:hover label.sk-toggleable__label-arrow:before {color: black;}#sk-container-id-1 div.sk-toggleable__content {max-height: 0;max-width: 0;overflow: hidden;text-align: left;background-color: #f0f8ff;}#sk-container-id-1 div.sk-toggleable__content pre {margin: 0.2em;color: black;border-radius: 0.25em;background-color: #f0f8ff;}#sk-container-id-1 input.sk-toggleable__control:checked~div.sk-toggleable__content {max-height: 200px;max-width: 100%;overflow: auto;}#sk-container-id-1 input.sk-toggleable__control:checked~label.sk-toggleable__label-arrow:before {content: \"▾\";}#sk-container-id-1 div.sk-estimator input.sk-toggleable__control:checked~label.sk-toggleable__label {background-color: #d4ebff;}#sk-container-id-1 div.sk-label input.sk-toggleable__control:checked~label.sk-toggleable__label {background-color: #d4ebff;}#sk-container-id-1 input.sk-hidden--visually {border: 0;clip: rect(1px 1px 1px 1px);clip: rect(1px, 1px, 1px, 1px);height: 1px;margin: -1px;overflow: hidden;padding: 0;position: absolute;width: 1px;}#sk-container-id-1 div.sk-estimator {font-family: monospace;background-color: #f0f8ff;border: 1px dotted black;border-radius: 0.25em;box-sizing: border-box;margin-bottom: 0.5em;}#sk-container-id-1 div.sk-estimator:hover {background-color: #d4ebff;}#sk-container-id-1 div.sk-parallel-item::after {content: \"\";width: 100%;border-bottom: 1px solid gray;flex-grow: 1;}#sk-container-id-1 div.sk-label:hover label.sk-toggleable__label {background-color: #d4ebff;}#sk-container-id-1 div.sk-serial::before {content: \"\";position: absolute;border-left: 1px solid gray;box-sizing: border-box;top: 0;bottom: 0;left: 50%;z-index: 0;}#sk-container-id-1 div.sk-serial {display: flex;flex-direction: column;align-items: center;background-color: white;padding-right: 0.2em;padding-left: 0.2em;position: relative;}#sk-container-id-1 div.sk-item {position: relative;z-index: 1;}#sk-container-id-1 div.sk-parallel {display: flex;align-items: stretch;justify-content: center;background-color: white;position: relative;}#sk-container-id-1 div.sk-item::before, #sk-container-id-1 div.sk-parallel-item::before {content: \"\";position: absolute;border-left: 1px solid gray;box-sizing: border-box;top: 0;bottom: 0;left: 50%;z-index: -1;}#sk-container-id-1 div.sk-parallel-item {display: flex;flex-direction: column;z-index: 1;position: relative;background-color: white;}#sk-container-id-1 div.sk-parallel-item:first-child::after {align-self: flex-end;width: 50%;}#sk-container-id-1 div.sk-parallel-item:last-child::after {align-self: flex-start;width: 50%;}#sk-container-id-1 div.sk-parallel-item:only-child::after {width: 0;}#sk-container-id-1 div.sk-dashed-wrapped {border: 1px dashed gray;margin: 0 0.4em 0.5em 0.4em;box-sizing: border-box;padding-bottom: 0.4em;background-color: white;}#sk-container-id-1 div.sk-label label {font-family: monospace;font-weight: bold;display: inline-block;line-height: 1.2em;}#sk-container-id-1 div.sk-label-container {text-align: center;}#sk-container-id-1 div.sk-container {/* jupyter's `normalize.less` sets `[hidden] { display: none; }` but bootstrap.min.css set `[hidden] { display: none !important; }` so we also need the `!important` here to be able to override the default hidden behavior on the sphinx rendered scikit-learn.org. See: https://github.com/scikit-learn/scikit-learn/issues/21755 */display: inline-block !important;position: relative;}#sk-container-id-1 div.sk-text-repr-fallback {display: none;}</style><div id=\"sk-container-id-1\" class=\"sk-top-container\"><div class=\"sk-text-repr-fallback\"><pre>SimpleImputer(strategy=&#x27;median&#x27;)</pre><b>In a Jupyter environment, please rerun this cell to show the HTML representation or trust the notebook. <br />On GitHub, the HTML representation is unable to render, please try loading this page with nbviewer.org.</b></div><div class=\"sk-container\" hidden><div class=\"sk-item\"><div class=\"sk-estimator sk-toggleable\"><input class=\"sk-toggleable__control sk-hidden--visually\" id=\"sk-estimator-id-1\" type=\"checkbox\" checked><label for=\"sk-estimator-id-1\" class=\"sk-toggleable__label sk-toggleable__label-arrow\">SimpleImputer</label><div class=\"sk-toggleable__content\"><pre>SimpleImputer(strategy=&#x27;median&#x27;)</pre></div></div></div></div></div>"
            ]
          },
          "metadata": {},
          "execution_count": 15
        }
      ]
    },
    {
      "cell_type": "code",
      "source": [
        "imputer.statistics_"
      ],
      "metadata": {
        "colab": {
          "base_uri": "https://localhost:8080/"
        },
        "id": "F6Ww54_ce9ko",
        "outputId": "8d67a1d4-08ad-45ed-b120-b0a219330342"
      },
      "execution_count": null,
      "outputs": [
        {
          "output_type": "execute_result",
          "data": {
            "text/plain": [
              "array([-118.51   ,   34.26   ,   29.     , 2119.     ,  433.     ,\n",
              "       1164.     ,  408.     ,    3.54155,    3.     ])"
            ]
          },
          "metadata": {},
          "execution_count": 16
        }
      ]
    },
    {
      "cell_type": "code",
      "source": [
        "housing_num.median().values"
      ],
      "metadata": {
        "colab": {
          "base_uri": "https://localhost:8080/"
        },
        "id": "OtTdfDMEgKZh",
        "outputId": "37f768a8-5e6c-4606-a2fc-207f46d0312d"
      },
      "execution_count": null,
      "outputs": [
        {
          "output_type": "stream",
          "name": "stderr",
          "text": [
            "<ipython-input-17-8050cbb6f664>:1: FutureWarning: Dropping of nuisance columns in DataFrame reductions (with 'numeric_only=None') is deprecated; in a future version this will raise TypeError.  Select only valid columns before calling the reduction.\n",
            "  housing_num.median().values\n"
          ]
        },
        {
          "output_type": "execute_result",
          "data": {
            "text/plain": [
              "array([-118.51   ,   34.26   ,   29.     , 2119.     ,  433.     ,\n",
              "       1164.     ,  408.     ,    3.54155])"
            ]
          },
          "metadata": {},
          "execution_count": 17
        }
      ]
    },
    {
      "cell_type": "code",
      "source": [
        "housing_num.info()"
      ],
      "metadata": {
        "id": "idQlz88kiBO5",
        "colab": {
          "base_uri": "https://localhost:8080/"
        },
        "outputId": "61dbe712-f939-436e-98af-a617343b41dd"
      },
      "execution_count": null,
      "outputs": [
        {
          "output_type": "stream",
          "name": "stdout",
          "text": [
            "<class 'pandas.core.frame.DataFrame'>\n",
            "Int64Index: 16512 entries, 12655 to 19773\n",
            "Data columns (total 9 columns):\n",
            " #   Column              Non-Null Count  Dtype   \n",
            "---  ------              --------------  -----   \n",
            " 0   longitude           16512 non-null  float64 \n",
            " 1   latitude            16512 non-null  float64 \n",
            " 2   housing_median_age  16512 non-null  float64 \n",
            " 3   total_rooms         16512 non-null  float64 \n",
            " 4   total_bedrooms      16512 non-null  float64 \n",
            " 5   population          16512 non-null  float64 \n",
            " 6   households          16512 non-null  float64 \n",
            " 7   median_income       16512 non-null  float64 \n",
            " 8   income_cat          16512 non-null  category\n",
            "dtypes: category(1), float64(8)\n",
            "memory usage: 1.1 MB\n"
          ]
        }
      ]
    },
    {
      "cell_type": "code",
      "source": [
        "X = imputer.transform(housing_num)"
      ],
      "metadata": {
        "id": "z5d9eteDJTjb"
      },
      "execution_count": null,
      "outputs": []
    },
    {
      "cell_type": "markdown",
      "source": [
        "imputer로 누락값을 중간값으로 변경."
      ],
      "metadata": {
        "id": "Od3DaSRcJ1ay"
      }
    },
    {
      "cell_type": "code",
      "source": [
        "housing_tr = pd.DataFrame(X, columns = housing_num.columns,\n",
        "                          index = housing_num.index)"
      ],
      "metadata": {
        "id": "Nri9x6OqJuTQ"
      },
      "execution_count": null,
      "outputs": []
    },
    {
      "cell_type": "markdown",
      "source": [
        "위에 변경해준 것을, DataFrame형태로 변환."
      ],
      "metadata": {
        "id": "Fa5rdu_gKJzU"
      }
    },
    {
      "cell_type": "markdown",
      "source": [
        "-사이킷런 철학-\n",
        "<br>\n",
        "<h3> 일관성 </h3>\n",
        "<br>\n",
        "추정기: 데이터셋을 기반으로 모델파라미터들 추정하는 객체.(ex. imputer객체, fit에 의해 수행.)\n",
        "<br> 변환기: 데이터셋을 변환하는 추정기,(ex. transform())\n",
        "<br> 예측기: 예측을 만드는 것.(ex. LinearRegression, predict() 메서드.)\n",
        "<br>\n",
        "<br>\n",
        "<h3> 검사 기능 </h3>: 인스턴스 변수로 직접 접근 가능, 밑줄 붙여서 공개 인스턴스 변수로 제공.\n",
        "<br>\n",
        "<br>\n",
        "<h3> 클래스 남용 방지 </h3> : 데이터셋을 클래스가 아닌, 넘파이, 사이파이 희소 행렬로 표현.\n",
        "<br>\n",
        "<br>\n",
        "<h3> 조합성 </h5> :기존의 것을 최대한 재사용.\n",
        "<br>\n",
        "<br>\n",
        "<h5> 합리적 기본값 </h5> : 사이킷런은 대부분의 매개변수에 합리적 기본값을 지정해둠."
      ],
      "metadata": {
        "id": "QC51S_KZKa_S"
      }
    },
    {
      "cell_type": "code",
      "source": [
        "housing_cat = housing[['ocean_proximity']]\n",
        "housing_cat.head(10)"
      ],
      "metadata": {
        "colab": {
          "base_uri": "https://localhost:8080/",
          "height": 362
        },
        "id": "c1tmk1slKF7S",
        "outputId": "4cc4d39b-7c93-4a3c-c0b5-b07f8e75aa59"
      },
      "execution_count": null,
      "outputs": [
        {
          "output_type": "execute_result",
          "data": {
            "text/plain": [
              "      ocean_proximity\n",
              "12655          INLAND\n",
              "15502      NEAR OCEAN\n",
              "2908           INLAND\n",
              "14053      NEAR OCEAN\n",
              "20496       <1H OCEAN\n",
              "1481         NEAR BAY\n",
              "18125       <1H OCEAN\n",
              "5830        <1H OCEAN\n",
              "17989       <1H OCEAN\n",
              "4861        <1H OCEAN"
            ],
            "text/html": [
              "\n",
              "  <div id=\"df-4ee49a96-eae3-4f31-a3fa-24510db28304\">\n",
              "    <div class=\"colab-df-container\">\n",
              "      <div>\n",
              "<style scoped>\n",
              "    .dataframe tbody tr th:only-of-type {\n",
              "        vertical-align: middle;\n",
              "    }\n",
              "\n",
              "    .dataframe tbody tr th {\n",
              "        vertical-align: top;\n",
              "    }\n",
              "\n",
              "    .dataframe thead th {\n",
              "        text-align: right;\n",
              "    }\n",
              "</style>\n",
              "<table border=\"1\" class=\"dataframe\">\n",
              "  <thead>\n",
              "    <tr style=\"text-align: right;\">\n",
              "      <th></th>\n",
              "      <th>ocean_proximity</th>\n",
              "    </tr>\n",
              "  </thead>\n",
              "  <tbody>\n",
              "    <tr>\n",
              "      <th>12655</th>\n",
              "      <td>INLAND</td>\n",
              "    </tr>\n",
              "    <tr>\n",
              "      <th>15502</th>\n",
              "      <td>NEAR OCEAN</td>\n",
              "    </tr>\n",
              "    <tr>\n",
              "      <th>2908</th>\n",
              "      <td>INLAND</td>\n",
              "    </tr>\n",
              "    <tr>\n",
              "      <th>14053</th>\n",
              "      <td>NEAR OCEAN</td>\n",
              "    </tr>\n",
              "    <tr>\n",
              "      <th>20496</th>\n",
              "      <td>&lt;1H OCEAN</td>\n",
              "    </tr>\n",
              "    <tr>\n",
              "      <th>1481</th>\n",
              "      <td>NEAR BAY</td>\n",
              "    </tr>\n",
              "    <tr>\n",
              "      <th>18125</th>\n",
              "      <td>&lt;1H OCEAN</td>\n",
              "    </tr>\n",
              "    <tr>\n",
              "      <th>5830</th>\n",
              "      <td>&lt;1H OCEAN</td>\n",
              "    </tr>\n",
              "    <tr>\n",
              "      <th>17989</th>\n",
              "      <td>&lt;1H OCEAN</td>\n",
              "    </tr>\n",
              "    <tr>\n",
              "      <th>4861</th>\n",
              "      <td>&lt;1H OCEAN</td>\n",
              "    </tr>\n",
              "  </tbody>\n",
              "</table>\n",
              "</div>\n",
              "      <button class=\"colab-df-convert\" onclick=\"convertToInteractive('df-4ee49a96-eae3-4f31-a3fa-24510db28304')\"\n",
              "              title=\"Convert this dataframe to an interactive table.\"\n",
              "              style=\"display:none;\">\n",
              "        \n",
              "  <svg xmlns=\"http://www.w3.org/2000/svg\" height=\"24px\"viewBox=\"0 0 24 24\"\n",
              "       width=\"24px\">\n",
              "    <path d=\"M0 0h24v24H0V0z\" fill=\"none\"/>\n",
              "    <path d=\"M18.56 5.44l.94 2.06.94-2.06 2.06-.94-2.06-.94-.94-2.06-.94 2.06-2.06.94zm-11 1L8.5 8.5l.94-2.06 2.06-.94-2.06-.94L8.5 2.5l-.94 2.06-2.06.94zm10 10l.94 2.06.94-2.06 2.06-.94-2.06-.94-.94-2.06-.94 2.06-2.06.94z\"/><path d=\"M17.41 7.96l-1.37-1.37c-.4-.4-.92-.59-1.43-.59-.52 0-1.04.2-1.43.59L10.3 9.45l-7.72 7.72c-.78.78-.78 2.05 0 2.83L4 21.41c.39.39.9.59 1.41.59.51 0 1.02-.2 1.41-.59l7.78-7.78 2.81-2.81c.8-.78.8-2.07 0-2.86zM5.41 20L4 18.59l7.72-7.72 1.47 1.35L5.41 20z\"/>\n",
              "  </svg>\n",
              "      </button>\n",
              "      \n",
              "  <style>\n",
              "    .colab-df-container {\n",
              "      display:flex;\n",
              "      flex-wrap:wrap;\n",
              "      gap: 12px;\n",
              "    }\n",
              "\n",
              "    .colab-df-convert {\n",
              "      background-color: #E8F0FE;\n",
              "      border: none;\n",
              "      border-radius: 50%;\n",
              "      cursor: pointer;\n",
              "      display: none;\n",
              "      fill: #1967D2;\n",
              "      height: 32px;\n",
              "      padding: 0 0 0 0;\n",
              "      width: 32px;\n",
              "    }\n",
              "\n",
              "    .colab-df-convert:hover {\n",
              "      background-color: #E2EBFA;\n",
              "      box-shadow: 0px 1px 2px rgba(60, 64, 67, 0.3), 0px 1px 3px 1px rgba(60, 64, 67, 0.15);\n",
              "      fill: #174EA6;\n",
              "    }\n",
              "\n",
              "    [theme=dark] .colab-df-convert {\n",
              "      background-color: #3B4455;\n",
              "      fill: #D2E3FC;\n",
              "    }\n",
              "\n",
              "    [theme=dark] .colab-df-convert:hover {\n",
              "      background-color: #434B5C;\n",
              "      box-shadow: 0px 1px 3px 1px rgba(0, 0, 0, 0.15);\n",
              "      filter: drop-shadow(0px 1px 2px rgba(0, 0, 0, 0.3));\n",
              "      fill: #FFFFFF;\n",
              "    }\n",
              "  </style>\n",
              "\n",
              "      <script>\n",
              "        const buttonEl =\n",
              "          document.querySelector('#df-4ee49a96-eae3-4f31-a3fa-24510db28304 button.colab-df-convert');\n",
              "        buttonEl.style.display =\n",
              "          google.colab.kernel.accessAllowed ? 'block' : 'none';\n",
              "\n",
              "        async function convertToInteractive(key) {\n",
              "          const element = document.querySelector('#df-4ee49a96-eae3-4f31-a3fa-24510db28304');\n",
              "          const dataTable =\n",
              "            await google.colab.kernel.invokeFunction('convertToInteractive',\n",
              "                                                     [key], {});\n",
              "          if (!dataTable) return;\n",
              "\n",
              "          const docLinkHtml = 'Like what you see? Visit the ' +\n",
              "            '<a target=\"_blank\" href=https://colab.research.google.com/notebooks/data_table.ipynb>data table notebook</a>'\n",
              "            + ' to learn more about interactive tables.';\n",
              "          element.innerHTML = '';\n",
              "          dataTable['output_type'] = 'display_data';\n",
              "          await google.colab.output.renderOutput(dataTable, element);\n",
              "          const docLink = document.createElement('div');\n",
              "          docLink.innerHTML = docLinkHtml;\n",
              "          element.appendChild(docLink);\n",
              "        }\n",
              "      </script>\n",
              "    </div>\n",
              "  </div>\n",
              "  "
            ]
          },
          "metadata": {},
          "execution_count": 24
        }
      ]
    },
    {
      "cell_type": "markdown",
      "source": [
        "[ ] -> 시리즈 객체(1차원 배열)\n",
        "<br>\n",
        "[[ ]] -> DataFrame 형태."
      ],
      "metadata": {
        "id": "uXFbXEnaM1oP"
      }
    },
    {
      "cell_type": "code",
      "source": [
        "from sklearn.preprocessing import OrdinalEncoder\n",
        "\n",
        "ordinal_encoder = OrdinalEncoder()\n",
        "housing_cat_encoded = ordinal_encoder.fit_transform(housing_cat)\n",
        "housing_cat_encoded[:10]"
      ],
      "metadata": {
        "colab": {
          "base_uri": "https://localhost:8080/"
        },
        "id": "xyWRBB-bMy7M",
        "outputId": "f10a30d9-c4f8-4039-fc45-3ad4400b866c"
      },
      "execution_count": null,
      "outputs": [
        {
          "output_type": "execute_result",
          "data": {
            "text/plain": [
              "array([[1.],\n",
              "       [4.],\n",
              "       [1.],\n",
              "       [4.],\n",
              "       [0.],\n",
              "       [3.],\n",
              "       [0.],\n",
              "       [0.],\n",
              "       [0.],\n",
              "       [0.]])"
            ]
          },
          "metadata": {},
          "execution_count": 25
        }
      ]
    },
    {
      "cell_type": "markdown",
      "source": [
        "OrdinalEncoder 클래스 사용, 기존 텍스트 형태, 숫자로 변환. "
      ],
      "metadata": {
        "id": "TVzJOAtNNkJS"
      }
    },
    {
      "cell_type": "code",
      "source": [
        "ordinal_encoder.categories_"
      ],
      "metadata": {
        "colab": {
          "base_uri": "https://localhost:8080/"
        },
        "id": "1B61HKAXNafg",
        "outputId": "2905217f-e784-42d7-92de-0236e41571cb"
      },
      "execution_count": null,
      "outputs": [
        {
          "output_type": "execute_result",
          "data": {
            "text/plain": [
              "[array(['<1H OCEAN', 'INLAND', 'ISLAND', 'NEAR BAY', 'NEAR OCEAN'],\n",
              "       dtype=object)]"
            ]
          },
          "metadata": {},
          "execution_count": 26
        }
      ]
    },
    {
      "cell_type": "markdown",
      "source": [
        "categories_로 뭐가 무엇인지 확인.\n",
        "<br>0 -> 1H OCEAN\n",
        "<br>1 -> INLAND\n",
        "<br>2 -> ISLAND\n",
        "<br>3 -> NEAR BAY\n",
        "<br>4 -> NEAR OCEAN"
      ],
      "metadata": {
        "id": "5ja4jt3WOZwv"
      }
    },
    {
      "cell_type": "code",
      "source": [
        "from sklearn.preprocessing import OneHotEncoder\n",
        "\n",
        "cat_encoder = OneHotEncoder()\n",
        "housing_cat_1hot = cat_encoder.fit_transform(housing_cat)\n",
        "housing_cat_1hot"
      ],
      "metadata": {
        "colab": {
          "base_uri": "https://localhost:8080/"
        },
        "id": "IbRSgFNbOYNl",
        "outputId": "804b8c3e-acfa-45e3-c12d-e5d2fe8ad1c7"
      },
      "execution_count": null,
      "outputs": [
        {
          "output_type": "execute_result",
          "data": {
            "text/plain": [
              "<16512x5 sparse matrix of type '<class 'numpy.float64'>'\n",
              "\twith 16512 stored elements in Compressed Sparse Row format>"
            ]
          },
          "metadata": {},
          "execution_count": 27
        }
      ]
    },
    {
      "cell_type": "markdown",
      "source": [
        "원-핫 인코딩: 한 특성만 1, 나머지는 전부 0으로 바꿔버리는 것.\n",
        "<br>\n",
        "이렇게 나온 새로운 특성을 더미(dummy)\n",
        "<br>\n",
        "사이킷런에서 제공하는 OneHotEncoder로 가능."
      ],
      "metadata": {
        "id": "TBtGRAZQPgPz"
      }
    },
    {
      "cell_type": "code",
      "source": [
        "housing_cat_1hot.toarray()"
      ],
      "metadata": {
        "colab": {
          "base_uri": "https://localhost:8080/"
        },
        "id": "nQtMb0DIPeuD",
        "outputId": "c4cdd729-d960-4c84-c8fe-f586cfd87dcd"
      },
      "execution_count": null,
      "outputs": [
        {
          "output_type": "execute_result",
          "data": {
            "text/plain": [
              "array([[0., 1., 0., 0., 0.],\n",
              "       [0., 0., 0., 0., 1.],\n",
              "       [0., 1., 0., 0., 0.],\n",
              "       ...,\n",
              "       [1., 0., 0., 0., 0.],\n",
              "       [1., 0., 0., 0., 0.],\n",
              "       [0., 1., 0., 0., 0.]])"
            ]
          },
          "metadata": {},
          "execution_count": 28
        }
      ]
    },
    {
      "cell_type": "markdown",
      "source": [
        "위에 것을 보면, 희소행렬(위치만 저장).\n",
        "<br>\n",
        "그래서 넘파이 배열로 바꿔주었는데, toarray() 호출하면 가능."
      ],
      "metadata": {
        "id": "ZC1QNs3gQLQS"
      }
    },
    {
      "cell_type": "code",
      "source": [
        "cat_encoder.categories_ #다시 categories_로 확인."
      ],
      "metadata": {
        "colab": {
          "base_uri": "https://localhost:8080/"
        },
        "id": "rkCP7oG6QKNq",
        "outputId": "46a16fe4-76ec-43a1-c0ca-6c3a101d5675"
      },
      "execution_count": null,
      "outputs": [
        {
          "output_type": "execute_result",
          "data": {
            "text/plain": [
              "[array(['<1H OCEAN', 'INLAND', 'ISLAND', 'NEAR BAY', 'NEAR OCEAN'],\n",
              "       dtype=object)]"
            ]
          },
          "metadata": {},
          "execution_count": 33
        }
      ]
    },
    {
      "cell_type": "code",
      "source": [
        "from sklearn.base import BaseEstimator, TransformerMixin\n",
        "\n",
        "\n",
        "rooms_ix, bedrooms_ix, population_ix, households_ix = 3, 4, 5, 6\n",
        "\n",
        "class CombinedAttributesAdder(BaseEstimator, TransformerMixin):\n",
        "    def __init__(self, add_bedrooms_per_room=True):  #기본값 추가.\n",
        "        self.add_bedrooms_per_room = add_bedrooms_per_room\n",
        "    \n",
        "    #fit단계에서는 따로 할게 없다.\n",
        "    def fit(self, X, y=None):\n",
        "        return self  #self반환.\n",
        "    \n",
        "    def transform(self, X):\n",
        "        rooms_per_household = X[:, rooms_ix] / X[:, households_ix]\n",
        "        population_per_household = X[:, population_ix] / X[:, households_ix]\n",
        "        \n",
        "        if self.add_bedrooms_per_room:\n",
        "            bedrooms_per_room = X[:, bedrooms_ix] / X[:, rooms_ix]\n",
        "            return np.c_[X, rooms_per_household, population_per_household,\n",
        "                         bedrooms_per_room]\n",
        "        else:\n",
        "            return np.c_[X, rooms_per_household, population_per_household] #c_함수, 합치는 함수.\n",
        "\n",
        "attr_adder = CombinedAttributesAdder(add_bedrooms_per_room=False) \n",
        "housing_extra_attribs = attr_adder.transform(housing.to_numpy()) #책에는 housing.values라고 나와있는데, numpy()로 해줘서 바로 특성 추가."
      ],
      "metadata": {
        "id": "tL-PbKySQfsp"
      },
      "execution_count": null,
      "outputs": []
    },
    {
      "cell_type": "markdown",
      "source": [
        "좀더 편리한 작업을 위해, 따로 변환기 생성."
      ],
      "metadata": {
        "id": "yPbusKw1TZFA"
      }
    },
    {
      "cell_type": "markdown",
      "source": [
        "-특성 스케일링-\n",
        "<br>입력 숫자 특성들의 스케일이 많이 다르면 잘 작동하지 않음. 이 범위를 같도록 맞춰주는 것.\n",
        "<br>\n",
        "1. min-max 스케일링(정규화):[min,max] - Min = [0, min - max] / (min,max) -> [0,1]. 0~1 범위에 들도록 조정. MinMaxScaler변환기.\n",
        "<br>\n",
        "2. standardization(표준화): ![image.png](data:image/png;base64,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)\n",
        "분산이 1이 되도록 조정. 상한,하한 없어서 좋을 수도 안좋을 수도. StandardScaler 변환기\n",
        "<br>\n",
        "<br>\n",
        "스케일링은, 훈련 데이터에 대해서만 fit()적용.\n",
        "<br> 그 다음, 새로운 데이터에 대해 transform적용."
      ],
      "metadata": {
        "id": "Pq7-dwFvU0lV"
      }
    },
    {
      "cell_type": "code",
      "source": [
        "from sklearn.pipeline import Pipeline\n",
        "from sklearn.preprocessing import StandardScaler\n",
        "\n",
        "num_pipeline = Pipeline([\n",
        "        ('imputer', SimpleImputer(strategy=\"median\")), \n",
        "        ('attribs_adder', CombinedAttributesAdder()), #아까 class 만들어 준 것.\n",
        "        ('std_scaler', StandardScaler()),\n",
        "    ])\n",
        "\n",
        "housing_num_tr = num_pipeline.fit_transform(housing_num)"
      ],
      "metadata": {
        "id": "FbnzW9urSawE"
      },
      "execution_count": null,
      "outputs": []
    },
    {
      "cell_type": "code",
      "source": [
        "housing_num_tr"
      ],
      "metadata": {
        "colab": {
          "base_uri": "https://localhost:8080/"
        },
        "id": "q1IRBWm5ZHFx",
        "outputId": "2aa2e705-da96-47e7-accf-1ab5d615e2f6"
      },
      "execution_count": null,
      "outputs": [
        {
          "output_type": "execute_result",
          "data": {
            "text/plain": [
              "array([[-0.94135046,  1.34743822,  0.02756357, ...,  0.01739526,\n",
              "         0.00622264, -0.12112176],\n",
              "       [ 1.17178212, -1.19243966, -1.72201763, ...,  0.56925554,\n",
              "        -0.04081077, -0.81086696],\n",
              "       [ 0.26758118, -0.1259716 ,  1.22045984, ..., -0.01802432,\n",
              "        -0.07537122, -0.33827252],\n",
              "       ...,\n",
              "       [-1.5707942 ,  1.31001828,  1.53856552, ..., -0.5092404 ,\n",
              "        -0.03743619,  0.32286937],\n",
              "       [-1.56080303,  1.2492109 , -1.1653327 , ...,  0.32814891,\n",
              "        -0.05915604, -0.45702273],\n",
              "       [-1.28105026,  2.02567448, -0.13148926, ...,  0.01407228,\n",
              "         0.00657083, -0.12169672]])"
            ]
          },
          "metadata": {},
          "execution_count": 36
        }
      ]
    },
    {
      "cell_type": "markdown",
      "source": [
        "pipeLine. 연속된 변환을 순서대로 처리할 수 있게끔 해주는 것."
      ],
      "metadata": {
        "id": "KIAmeQHUXHfI"
      }
    },
    {
      "cell_type": "code",
      "source": [
        "from sklearn.compose import ColumnTransformer # 열 변환기\n",
        "\n",
        "num_attribs = list(housing_num)\n",
        "cat_attribs = ['ocean_proximity']\n",
        "\n",
        "full_pipeline = ColumnTransformer([\n",
        "    ('num', num_pipeline, num_attribs),\n",
        "    ('cat', OneHotEncoder(), cat_attribs),\n",
        "])\n",
        "\n",
        "housing_prepared = full_pipeline.fit_transform(housing)"
      ],
      "metadata": {
        "id": "jaYZJ2rzXGqz"
      },
      "execution_count": null,
      "outputs": []
    },
    {
      "cell_type": "code",
      "source": [
        "housing_prepard"
      ],
      "metadata": {
        "colab": {
          "base_uri": "https://localhost:8080/"
        },
        "id": "w0njZwtGZMZF",
        "outputId": "b1e3c552-57d4-4ac3-ca36-742d66f40bb0"
      },
      "execution_count": null,
      "outputs": [
        {
          "output_type": "execute_result",
          "data": {
            "text/plain": [
              "array([[-0.94135046,  1.34743822,  0.02756357, ...,  0.        ,\n",
              "         0.        ,  0.        ],\n",
              "       [ 1.17178212, -1.19243966, -1.72201763, ...,  0.        ,\n",
              "         0.        ,  1.        ],\n",
              "       [ 0.26758118, -0.1259716 ,  1.22045984, ...,  0.        ,\n",
              "         0.        ,  0.        ],\n",
              "       ...,\n",
              "       [-1.5707942 ,  1.31001828,  1.53856552, ...,  0.        ,\n",
              "         0.        ,  0.        ],\n",
              "       [-1.56080303,  1.2492109 , -1.1653327 , ...,  0.        ,\n",
              "         0.        ,  0.        ],\n",
              "       [-1.28105026,  2.02567448, -0.13148926, ...,  0.        ,\n",
              "         0.        ,  0.        ]])"
            ]
          },
          "metadata": {},
          "execution_count": 42
        }
      ]
    },
    {
      "cell_type": "markdown",
      "source": [
        "이제 전처리 끝. \n",
        "<br>훈련, 평가 시작"
      ],
      "metadata": {
        "id": "bq7CmhlvYR3O"
      }
    },
    {
      "cell_type": "code",
      "source": [
        "from sklearn.linear_model import LinearRegression\n",
        "\n",
        "Lin_reg = LinearRegression()\n",
        "Lin_reg.fit(housing_prepared, housing_labels)"
      ],
      "metadata": {
        "colab": {
          "base_uri": "https://localhost:8080/",
          "height": 74
        },
        "id": "28ev0kO8YMYs",
        "outputId": "821af77c-f8c0-4e93-87b5-6c248831b647"
      },
      "execution_count": null,
      "outputs": [
        {
          "output_type": "execute_result",
          "data": {
            "text/plain": [
              "LinearRegression()"
            ],
            "text/html": [
              "<style>#sk-container-id-4 {color: black;background-color: white;}#sk-container-id-4 pre{padding: 0;}#sk-container-id-4 div.sk-toggleable {background-color: white;}#sk-container-id-4 label.sk-toggleable__label {cursor: pointer;display: block;width: 100%;margin-bottom: 0;padding: 0.3em;box-sizing: border-box;text-align: center;}#sk-container-id-4 label.sk-toggleable__label-arrow:before {content: \"▸\";float: left;margin-right: 0.25em;color: #696969;}#sk-container-id-4 label.sk-toggleable__label-arrow:hover:before {color: black;}#sk-container-id-4 div.sk-estimator:hover label.sk-toggleable__label-arrow:before {color: black;}#sk-container-id-4 div.sk-toggleable__content {max-height: 0;max-width: 0;overflow: hidden;text-align: left;background-color: #f0f8ff;}#sk-container-id-4 div.sk-toggleable__content pre {margin: 0.2em;color: black;border-radius: 0.25em;background-color: #f0f8ff;}#sk-container-id-4 input.sk-toggleable__control:checked~div.sk-toggleable__content {max-height: 200px;max-width: 100%;overflow: auto;}#sk-container-id-4 input.sk-toggleable__control:checked~label.sk-toggleable__label-arrow:before {content: \"▾\";}#sk-container-id-4 div.sk-estimator input.sk-toggleable__control:checked~label.sk-toggleable__label {background-color: #d4ebff;}#sk-container-id-4 div.sk-label input.sk-toggleable__control:checked~label.sk-toggleable__label {background-color: #d4ebff;}#sk-container-id-4 input.sk-hidden--visually {border: 0;clip: rect(1px 1px 1px 1px);clip: rect(1px, 1px, 1px, 1px);height: 1px;margin: -1px;overflow: hidden;padding: 0;position: absolute;width: 1px;}#sk-container-id-4 div.sk-estimator {font-family: monospace;background-color: #f0f8ff;border: 1px dotted black;border-radius: 0.25em;box-sizing: border-box;margin-bottom: 0.5em;}#sk-container-id-4 div.sk-estimator:hover {background-color: #d4ebff;}#sk-container-id-4 div.sk-parallel-item::after {content: \"\";width: 100%;border-bottom: 1px solid gray;flex-grow: 1;}#sk-container-id-4 div.sk-label:hover label.sk-toggleable__label {background-color: #d4ebff;}#sk-container-id-4 div.sk-serial::before {content: \"\";position: absolute;border-left: 1px solid gray;box-sizing: border-box;top: 0;bottom: 0;left: 50%;z-index: 0;}#sk-container-id-4 div.sk-serial {display: flex;flex-direction: column;align-items: center;background-color: white;padding-right: 0.2em;padding-left: 0.2em;position: relative;}#sk-container-id-4 div.sk-item {position: relative;z-index: 1;}#sk-container-id-4 div.sk-parallel {display: flex;align-items: stretch;justify-content: center;background-color: white;position: relative;}#sk-container-id-4 div.sk-item::before, #sk-container-id-4 div.sk-parallel-item::before {content: \"\";position: absolute;border-left: 1px solid gray;box-sizing: border-box;top: 0;bottom: 0;left: 50%;z-index: -1;}#sk-container-id-4 div.sk-parallel-item {display: flex;flex-direction: column;z-index: 1;position: relative;background-color: white;}#sk-container-id-4 div.sk-parallel-item:first-child::after {align-self: flex-end;width: 50%;}#sk-container-id-4 div.sk-parallel-item:last-child::after {align-self: flex-start;width: 50%;}#sk-container-id-4 div.sk-parallel-item:only-child::after {width: 0;}#sk-container-id-4 div.sk-dashed-wrapped {border: 1px dashed gray;margin: 0 0.4em 0.5em 0.4em;box-sizing: border-box;padding-bottom: 0.4em;background-color: white;}#sk-container-id-4 div.sk-label label {font-family: monospace;font-weight: bold;display: inline-block;line-height: 1.2em;}#sk-container-id-4 div.sk-label-container {text-align: center;}#sk-container-id-4 div.sk-container {/* jupyter's `normalize.less` sets `[hidden] { display: none; }` but bootstrap.min.css set `[hidden] { display: none !important; }` so we also need the `!important` here to be able to override the default hidden behavior on the sphinx rendered scikit-learn.org. See: https://github.com/scikit-learn/scikit-learn/issues/21755 */display: inline-block !important;position: relative;}#sk-container-id-4 div.sk-text-repr-fallback {display: none;}</style><div id=\"sk-container-id-4\" class=\"sk-top-container\"><div class=\"sk-text-repr-fallback\"><pre>LinearRegression()</pre><b>In a Jupyter environment, please rerun this cell to show the HTML representation or trust the notebook. <br />On GitHub, the HTML representation is unable to render, please try loading this page with nbviewer.org.</b></div><div class=\"sk-container\" hidden><div class=\"sk-item\"><div class=\"sk-estimator sk-toggleable\"><input class=\"sk-toggleable__control sk-hidden--visually\" id=\"sk-estimator-id-4\" type=\"checkbox\" checked><label for=\"sk-estimator-id-4\" class=\"sk-toggleable__label sk-toggleable__label-arrow\">LinearRegression</label><div class=\"sk-toggleable__content\"><pre>LinearRegression()</pre></div></div></div></div></div>"
            ]
          },
          "metadata": {},
          "execution_count": 44
        }
      ]
    },
    {
      "cell_type": "markdown",
      "source": [
        "선형회귀 적용."
      ],
      "metadata": {
        "id": "I8cISK6dbsp8"
      }
    },
    {
      "cell_type": "code",
      "source": [
        "some_data = housing.iloc[:5]\n",
        "some_labels = housing_labels.iloc[:5]\n",
        "\n",
        "some_data_prepared = full_pipeline.transform(some_data)\n",
        "print(\"예측: \", Lin_reg.predict(some_data_prepared))\n",
        "\n",
        "print(\"레이블: \", list(some_labels))"
      ],
      "metadata": {
        "colab": {
          "base_uri": "https://localhost:8080/"
        },
        "id": "9GG7FRLfbp3y",
        "outputId": "f0e4d61d-d4ed-4de4-ec8e-161478c7e4fd"
      },
      "execution_count": null,
      "outputs": [
        {
          "output_type": "stream",
          "name": "stdout",
          "text": [
            "예측:  [ 83811.08312039 314388.27147935 145641.85902864 183704.64921202\n",
            " 238729.66725745]\n",
            "레이블:  [72100.0, 279600.0, 82700.0, 112500.0, 238300.0]\n"
          ]
        }
      ]
    },
    {
      "cell_type": "markdown",
      "source": [
        "확인 결과. 조금 차이가 있음."
      ],
      "metadata": {
        "id": "jw3dRpDhccTJ"
      }
    },
    {
      "cell_type": "code",
      "source": [
        "from sklearn.metrics import mean_squared_error\n",
        "\n",
        "housing_predictions = Lin_reg.predict(housing_prepared)\n",
        "lin_mse = mean_squared_error(housing_labels, housing_predictions)\n",
        "lin_rmse = np.sqrt(lin_mse)\n",
        "lin_rmse"
      ],
      "metadata": {
        "colab": {
          "base_uri": "https://localhost:8080/"
        },
        "id": "eUNrGVNccXAD",
        "outputId": "9b6dc84f-05f8-4624-ac12-acc132b7847e"
      },
      "execution_count": null,
      "outputs": [
        {
          "output_type": "execute_result",
          "data": {
            "text/plain": [
              "68376.51254853733"
            ]
          },
          "metadata": {},
          "execution_count": 46
        }
      ]
    },
    {
      "cell_type": "markdown",
      "source": [
        "RMSE 측정. 오차범위 68376 정도. 훈련데이터에 '과소적합'"
      ],
      "metadata": {
        "id": "PPSyFmyIcvIt"
      }
    },
    {
      "cell_type": "code",
      "source": [
        "from sklearn.tree import DecisionTreeRegressor\n",
        "\n",
        "tree_reg = DecisionTreeRegressor(random_state=42)\n",
        "tree_reg.fit(housing_prepared, housing_labels)"
      ],
      "metadata": {
        "colab": {
          "base_uri": "https://localhost:8080/",
          "height": 74
        },
        "id": "TLNnTs2kct_J",
        "outputId": "95fc8ea7-8da4-4b97-d9b3-69541a8ea312"
      },
      "execution_count": null,
      "outputs": [
        {
          "output_type": "execute_result",
          "data": {
            "text/plain": [
              "DecisionTreeRegressor(random_state=42)"
            ],
            "text/html": [
              "<style>#sk-container-id-5 {color: black;background-color: white;}#sk-container-id-5 pre{padding: 0;}#sk-container-id-5 div.sk-toggleable {background-color: white;}#sk-container-id-5 label.sk-toggleable__label {cursor: pointer;display: block;width: 100%;margin-bottom: 0;padding: 0.3em;box-sizing: border-box;text-align: center;}#sk-container-id-5 label.sk-toggleable__label-arrow:before {content: \"▸\";float: left;margin-right: 0.25em;color: #696969;}#sk-container-id-5 label.sk-toggleable__label-arrow:hover:before {color: black;}#sk-container-id-5 div.sk-estimator:hover label.sk-toggleable__label-arrow:before {color: black;}#sk-container-id-5 div.sk-toggleable__content {max-height: 0;max-width: 0;overflow: hidden;text-align: left;background-color: #f0f8ff;}#sk-container-id-5 div.sk-toggleable__content pre {margin: 0.2em;color: black;border-radius: 0.25em;background-color: #f0f8ff;}#sk-container-id-5 input.sk-toggleable__control:checked~div.sk-toggleable__content {max-height: 200px;max-width: 100%;overflow: auto;}#sk-container-id-5 input.sk-toggleable__control:checked~label.sk-toggleable__label-arrow:before {content: \"▾\";}#sk-container-id-5 div.sk-estimator input.sk-toggleable__control:checked~label.sk-toggleable__label {background-color: #d4ebff;}#sk-container-id-5 div.sk-label input.sk-toggleable__control:checked~label.sk-toggleable__label {background-color: #d4ebff;}#sk-container-id-5 input.sk-hidden--visually {border: 0;clip: rect(1px 1px 1px 1px);clip: rect(1px, 1px, 1px, 1px);height: 1px;margin: -1px;overflow: hidden;padding: 0;position: absolute;width: 1px;}#sk-container-id-5 div.sk-estimator {font-family: monospace;background-color: #f0f8ff;border: 1px dotted black;border-radius: 0.25em;box-sizing: border-box;margin-bottom: 0.5em;}#sk-container-id-5 div.sk-estimator:hover {background-color: #d4ebff;}#sk-container-id-5 div.sk-parallel-item::after {content: \"\";width: 100%;border-bottom: 1px solid gray;flex-grow: 1;}#sk-container-id-5 div.sk-label:hover label.sk-toggleable__label {background-color: #d4ebff;}#sk-container-id-5 div.sk-serial::before {content: \"\";position: absolute;border-left: 1px solid gray;box-sizing: border-box;top: 0;bottom: 0;left: 50%;z-index: 0;}#sk-container-id-5 div.sk-serial {display: flex;flex-direction: column;align-items: center;background-color: white;padding-right: 0.2em;padding-left: 0.2em;position: relative;}#sk-container-id-5 div.sk-item {position: relative;z-index: 1;}#sk-container-id-5 div.sk-parallel {display: flex;align-items: stretch;justify-content: center;background-color: white;position: relative;}#sk-container-id-5 div.sk-item::before, #sk-container-id-5 div.sk-parallel-item::before {content: \"\";position: absolute;border-left: 1px solid gray;box-sizing: border-box;top: 0;bottom: 0;left: 50%;z-index: -1;}#sk-container-id-5 div.sk-parallel-item {display: flex;flex-direction: column;z-index: 1;position: relative;background-color: white;}#sk-container-id-5 div.sk-parallel-item:first-child::after {align-self: flex-end;width: 50%;}#sk-container-id-5 div.sk-parallel-item:last-child::after {align-self: flex-start;width: 50%;}#sk-container-id-5 div.sk-parallel-item:only-child::after {width: 0;}#sk-container-id-5 div.sk-dashed-wrapped {border: 1px dashed gray;margin: 0 0.4em 0.5em 0.4em;box-sizing: border-box;padding-bottom: 0.4em;background-color: white;}#sk-container-id-5 div.sk-label label {font-family: monospace;font-weight: bold;display: inline-block;line-height: 1.2em;}#sk-container-id-5 div.sk-label-container {text-align: center;}#sk-container-id-5 div.sk-container {/* jupyter's `normalize.less` sets `[hidden] { display: none; }` but bootstrap.min.css set `[hidden] { display: none !important; }` so we also need the `!important` here to be able to override the default hidden behavior on the sphinx rendered scikit-learn.org. See: https://github.com/scikit-learn/scikit-learn/issues/21755 */display: inline-block !important;position: relative;}#sk-container-id-5 div.sk-text-repr-fallback {display: none;}</style><div id=\"sk-container-id-5\" class=\"sk-top-container\"><div class=\"sk-text-repr-fallback\"><pre>DecisionTreeRegressor(random_state=42)</pre><b>In a Jupyter environment, please rerun this cell to show the HTML representation or trust the notebook. <br />On GitHub, the HTML representation is unable to render, please try loading this page with nbviewer.org.</b></div><div class=\"sk-container\" hidden><div class=\"sk-item\"><div class=\"sk-estimator sk-toggleable\"><input class=\"sk-toggleable__control sk-hidden--visually\" id=\"sk-estimator-id-5\" type=\"checkbox\" checked><label for=\"sk-estimator-id-5\" class=\"sk-toggleable__label sk-toggleable__label-arrow\">DecisionTreeRegressor</label><div class=\"sk-toggleable__content\"><pre>DecisionTreeRegressor(random_state=42)</pre></div></div></div></div></div>"
            ]
          },
          "metadata": {},
          "execution_count": 47
        }
      ]
    },
    {
      "cell_type": "markdown",
      "source": [
        "또다른 것(DecisionTreeRegressor) 적용"
      ],
      "metadata": {
        "id": "Azt8n3tudElL"
      }
    },
    {
      "cell_type": "code",
      "source": [
        "housing_predictions = tree_reg.predict(housing_prepared)\n",
        "tree_mse = mean_squared_error(housing_labels, housing_predictions)\n",
        "tree_rmse = np.sqrt(tree_mse)\n",
        "tree_rmse"
      ],
      "metadata": {
        "colab": {
          "base_uri": "https://localhost:8080/"
        },
        "id": "abpwpBwrdDEv",
        "outputId": "4035ef04-b0a3-46d3-fcff-4d387cbd2370"
      },
      "execution_count": null,
      "outputs": [
        {
          "output_type": "execute_result",
          "data": {
            "text/plain": [
              "0.0"
            ]
          },
          "metadata": {},
          "execution_count": 48
        }
      ]
    },
    {
      "cell_type": "markdown",
      "source": [
        "오차범위 0.0\n",
        "<br>\n",
        "이건 '과대적합'.\n",
        "<br>\n",
        "<br>\n",
        "그러므로 '교차검증'(훈련세트, 검증세트 나누고 훈련, 그 후에 평가) 실시. train_test_split"
      ],
      "metadata": {
        "id": "L1sLkbEgdSYz"
      }
    },
    {
      "cell_type": "code",
      "source": [
        "from sklearn.model_selection import cross_val_score\n",
        "\n",
        "scores = cross_val_score(tree_reg, housing_prepared, housing_labels,\n",
        "                         scoring=\"neg_mean_squared_error\", cv=10) #scoring은 낮을 수록 좋은. 근데 클 수록 좋은 것이 필요해서 \"neg_mean_squared_error\" 사용.\n",
        "tree_rmse_scores = np.sqrt(-scores) # 그래서 루트 계산 전에 -부호로."
      ],
      "metadata": {
        "id": "4B586KvldRlV"
      },
      "execution_count": null,
      "outputs": []
    },
    {
      "cell_type": "markdown",
      "source": [
        "k-fold cross-validation 검증. 10개의 무작위 분할(cv = 10)\n",
        "<br>\n",
        "총 10번 훈련, 평가. 매번 다른 폴드(1개) 선택해서 평가에 사용. 나머지 9개는 훈련에 사용."
      ],
      "metadata": {
        "id": "IWDMwIhCeFWc"
      }
    },
    {
      "cell_type": "code",
      "source": [
        "def display_scores(scores):\n",
        "    print(\"점수:\", scores)\n",
        "    print(\"평균:\", scores.mean())\n",
        "    print(\"표준 편차:\", scores.std())\n",
        "\n",
        "display_scores(tree_rmse_scores)"
      ],
      "metadata": {
        "colab": {
          "base_uri": "https://localhost:8080/"
        },
        "id": "q2sx7nc_d2HK",
        "outputId": "5e947264-f8a3-4b53-a243-3372c9743113"
      },
      "execution_count": null,
      "outputs": [
        {
          "output_type": "stream",
          "name": "stdout",
          "text": [
            "점수: [72237.45096271 69208.53094621 69286.11573206 70612.13634405\n",
            " 70577.30202088 76840.97092314 71823.83279699 72710.22512908\n",
            " 67780.77127665 71678.17802175]\n",
            "평균: 71275.55141535088\n",
            "표준 편차: 2362.02756776275\n"
          ]
        }
      ]
    },
    {
      "cell_type": "code",
      "source": [
        "Lin_scores = cross_val_score(Lin_reg, housing_prepared, housing_labels,\n",
        "                             scoring=\"neg_mean_squared_error\", cv=10)\n",
        "lin_rmse_scores = np.sqrt(-Lin_scores)\n",
        "display_scores(lin_rmse_scores)"
      ],
      "metadata": {
        "colab": {
          "base_uri": "https://localhost:8080/"
        },
        "id": "DDbLmAm-fZib",
        "outputId": "4a8dc227-6e60-41c2-b3c3-0202d968da98"
      },
      "execution_count": null,
      "outputs": [
        {
          "output_type": "stream",
          "name": "stdout",
          "text": [
            "점수: [71523.78333874 64044.46774989 67454.97869698 68514.10137273\n",
            " 66303.62531226 72166.63405138 74464.08841381 68570.11804395\n",
            " 66063.64175868 69870.86192291]\n",
            "평균: 68897.63006613276\n",
            "표준 편차: 3002.746127534861\n"
          ]
        }
      ]
    },
    {
      "cell_type": "markdown",
      "source": [
        " 확실히 교차검증 결과가 더 좋음.\n",
        "<br>\n",
        "근데 비용때문에 항상 쓸 수 있는것은 아님."
      ],
      "metadata": {
        "id": "j9xUQ1Ojhrdo"
      }
    },
    {
      "cell_type": "markdown",
      "source": [
        "모델 앙상블 학습(여러 특성우에서 무작위로 선택해서 예측하고 그걸 평균.)"
      ],
      "metadata": {
        "id": "lGwh-HWjil6K"
      }
    },
    {
      "cell_type": "code",
      "source": [
        "from sklearn.ensemble import RandomForestRegressor\n",
        "\n",
        "forest_reg = RandomForestRegressor(n_estimators=100, random_state=42)\n",
        "forest_reg.fit(housing_prepared, housing_labels)"
      ],
      "metadata": {
        "colab": {
          "base_uri": "https://localhost:8080/",
          "height": 74
        },
        "id": "ove8Aa9bfnuj",
        "outputId": "72257b34-bfee-4629-f027-11295adfc248"
      },
      "execution_count": null,
      "outputs": [
        {
          "output_type": "execute_result",
          "data": {
            "text/plain": [
              "RandomForestRegressor(random_state=42)"
            ],
            "text/html": [
              "<style>#sk-container-id-6 {color: black;background-color: white;}#sk-container-id-6 pre{padding: 0;}#sk-container-id-6 div.sk-toggleable {background-color: white;}#sk-container-id-6 label.sk-toggleable__label {cursor: pointer;display: block;width: 100%;margin-bottom: 0;padding: 0.3em;box-sizing: border-box;text-align: center;}#sk-container-id-6 label.sk-toggleable__label-arrow:before {content: \"▸\";float: left;margin-right: 0.25em;color: #696969;}#sk-container-id-6 label.sk-toggleable__label-arrow:hover:before {color: black;}#sk-container-id-6 div.sk-estimator:hover label.sk-toggleable__label-arrow:before {color: black;}#sk-container-id-6 div.sk-toggleable__content {max-height: 0;max-width: 0;overflow: hidden;text-align: left;background-color: #f0f8ff;}#sk-container-id-6 div.sk-toggleable__content pre {margin: 0.2em;color: black;border-radius: 0.25em;background-color: #f0f8ff;}#sk-container-id-6 input.sk-toggleable__control:checked~div.sk-toggleable__content {max-height: 200px;max-width: 100%;overflow: auto;}#sk-container-id-6 input.sk-toggleable__control:checked~label.sk-toggleable__label-arrow:before {content: \"▾\";}#sk-container-id-6 div.sk-estimator input.sk-toggleable__control:checked~label.sk-toggleable__label {background-color: #d4ebff;}#sk-container-id-6 div.sk-label input.sk-toggleable__control:checked~label.sk-toggleable__label {background-color: #d4ebff;}#sk-container-id-6 input.sk-hidden--visually {border: 0;clip: rect(1px 1px 1px 1px);clip: rect(1px, 1px, 1px, 1px);height: 1px;margin: -1px;overflow: hidden;padding: 0;position: absolute;width: 1px;}#sk-container-id-6 div.sk-estimator {font-family: monospace;background-color: #f0f8ff;border: 1px dotted black;border-radius: 0.25em;box-sizing: border-box;margin-bottom: 0.5em;}#sk-container-id-6 div.sk-estimator:hover {background-color: #d4ebff;}#sk-container-id-6 div.sk-parallel-item::after {content: \"\";width: 100%;border-bottom: 1px solid gray;flex-grow: 1;}#sk-container-id-6 div.sk-label:hover label.sk-toggleable__label {background-color: #d4ebff;}#sk-container-id-6 div.sk-serial::before {content: \"\";position: absolute;border-left: 1px solid gray;box-sizing: border-box;top: 0;bottom: 0;left: 50%;z-index: 0;}#sk-container-id-6 div.sk-serial {display: flex;flex-direction: column;align-items: center;background-color: white;padding-right: 0.2em;padding-left: 0.2em;position: relative;}#sk-container-id-6 div.sk-item {position: relative;z-index: 1;}#sk-container-id-6 div.sk-parallel {display: flex;align-items: stretch;justify-content: center;background-color: white;position: relative;}#sk-container-id-6 div.sk-item::before, #sk-container-id-6 div.sk-parallel-item::before {content: \"\";position: absolute;border-left: 1px solid gray;box-sizing: border-box;top: 0;bottom: 0;left: 50%;z-index: -1;}#sk-container-id-6 div.sk-parallel-item {display: flex;flex-direction: column;z-index: 1;position: relative;background-color: white;}#sk-container-id-6 div.sk-parallel-item:first-child::after {align-self: flex-end;width: 50%;}#sk-container-id-6 div.sk-parallel-item:last-child::after {align-self: flex-start;width: 50%;}#sk-container-id-6 div.sk-parallel-item:only-child::after {width: 0;}#sk-container-id-6 div.sk-dashed-wrapped {border: 1px dashed gray;margin: 0 0.4em 0.5em 0.4em;box-sizing: border-box;padding-bottom: 0.4em;background-color: white;}#sk-container-id-6 div.sk-label label {font-family: monospace;font-weight: bold;display: inline-block;line-height: 1.2em;}#sk-container-id-6 div.sk-label-container {text-align: center;}#sk-container-id-6 div.sk-container {/* jupyter's `normalize.less` sets `[hidden] { display: none; }` but bootstrap.min.css set `[hidden] { display: none !important; }` so we also need the `!important` here to be able to override the default hidden behavior on the sphinx rendered scikit-learn.org. See: https://github.com/scikit-learn/scikit-learn/issues/21755 */display: inline-block !important;position: relative;}#sk-container-id-6 div.sk-text-repr-fallback {display: none;}</style><div id=\"sk-container-id-6\" class=\"sk-top-container\"><div class=\"sk-text-repr-fallback\"><pre>RandomForestRegressor(random_state=42)</pre><b>In a Jupyter environment, please rerun this cell to show the HTML representation or trust the notebook. <br />On GitHub, the HTML representation is unable to render, please try loading this page with nbviewer.org.</b></div><div class=\"sk-container\" hidden><div class=\"sk-item\"><div class=\"sk-estimator sk-toggleable\"><input class=\"sk-toggleable__control sk-hidden--visually\" id=\"sk-estimator-id-6\" type=\"checkbox\" checked><label for=\"sk-estimator-id-6\" class=\"sk-toggleable__label sk-toggleable__label-arrow\">RandomForestRegressor</label><div class=\"sk-toggleable__content\"><pre>RandomForestRegressor(random_state=42)</pre></div></div></div></div></div>"
            ]
          },
          "metadata": {},
          "execution_count": 53
        }
      ]
    },
    {
      "cell_type": "code",
      "source": [
        "housing_predictions = forest_reg.predict(housing_prepared)\n",
        "forest_mse = mean_squared_error(housing_labels, housing_predictions)\n",
        "forest_rmse = np.sqrt(forest_mse)\n",
        "forest_rmse"
      ],
      "metadata": {
        "colab": {
          "base_uri": "https://localhost:8080/"
        },
        "id": "o9x3bkjSizh4",
        "outputId": "1a25f402-b729-428f-e978-230aab75e006"
      },
      "execution_count": null,
      "outputs": [
        {
          "output_type": "execute_result",
          "data": {
            "text/plain": [
              "18675.224916252282"
            ]
          },
          "metadata": {},
          "execution_count": 54
        }
      ]
    },
    {
      "cell_type": "code",
      "source": [
        "from sklearn.model_selection import cross_val_score\n",
        "\n",
        "forest_scores = cross_val_score(forest_reg, housing_prepared, housing_labels,\n",
        "                                scoring=\"neg_mean_squared_error\", cv=10)\n",
        "forest_rmse_scores = np.sqrt(-forest_scores)\n",
        "display_scores(forest_rmse_scores)"
      ],
      "metadata": {
        "colab": {
          "base_uri": "https://localhost:8080/"
        },
        "id": "Tn6omy4Ui5vv",
        "outputId": "e6176bf2-e8f9-4e6b-d8bc-95a959187c3a"
      },
      "execution_count": null,
      "outputs": [
        {
          "output_type": "stream",
          "name": "stdout",
          "text": [
            "점수: [51553.65292335 48797.89565614 47005.23947642 52046.73567245\n",
            " 47700.78025873 51824.08544879 52582.59165129 49949.79025967\n",
            " 48680.25622229 54019.67674791]\n",
            "평균: 50416.070431704204\n",
            "표준 편차: 2201.612779754884\n"
          ]
        }
      ]
    },
    {
      "cell_type": "markdown",
      "source": [
        "조금 더 좋은 성능. 그래도 아직 과대적합.\n",
        "<br>\n",
        "-과대적합 막는 법-\n",
        "<br>\n",
        "1. 모델 간단히\n",
        "2. 제한(규제)\n",
        "3. 데이터 더 많이. 모으기\n",
        "\n",
        "<br>\n",
        "<br>\n",
        "여러 가지를 다 사용해봐야 알 수 있음."
      ],
      "metadata": {
        "id": "cb2RTr6jjJeX"
      }
    },
    {
      "cell_type": "markdown",
      "source": [
        "-세부 튜닝-\n",
        "\n",
        "<br>\n",
        "그리드 서치: 순차적으로 입력 후, 가장 높은 성능 보이는 하이퍼파라미터 탐색(시간 오래 걸림) GridSearchCV\n",
        "<br>\n",
        "랜덤 서치: 하이퍼파라미터 값 랜덤하게 넣고, 값 좋은 거 따와서 모델 생성(불필요한 탐색 횟수 감소) RandomizedSearchCV"
      ],
      "metadata": {
        "id": "Uo9SBCThlyFO"
      }
    },
    {
      "cell_type": "code",
      "source": [
        "from sklearn.model_selection import GridSearchCV\n",
        "\n",
        "param_grid = [\n",
        "        {'n_estimators': [3, 10, 30], 'max_features': [2, 4, 6, 8]}, # 3 * 4 = 12번\n",
        "    {'bootstrap': [False], 'n_estimators': [3, 10], 'max_features': [2, 3, 4]}, # 2 * 3 -> 6번 \n",
        "  ] #총 18번 탐색시도.\n",
        "\n",
        "forest_reg = RandomForestRegressor(random_state=42)\n",
        "\n",
        "grid_search = GridSearchCV(forest_reg, param_grid, cv=5, #총 5겹 검증 시도. 18*5 = 90번 훈련 진행.\n",
        "                           scoring='neg_mean_squared_error',\n",
        "                           return_train_score=True)\n",
        "grid_search.fit(housing_prepared, housing_labels)"
      ],
      "metadata": {
        "colab": {
          "base_uri": "https://localhost:8080/",
          "height": 116
        },
        "id": "mg03i60Ij45D",
        "outputId": "9779b4c3-8482-49f2-cabd-baf75f5a5b8e"
      },
      "execution_count": null,
      "outputs": [
        {
          "output_type": "execute_result",
          "data": {
            "text/plain": [
              "GridSearchCV(cv=5, estimator=RandomForestRegressor(random_state=42),\n",
              "             param_grid=[{'max_features': [2, 4, 6, 8],\n",
              "                          'n_estimators': [3, 10, 30]},\n",
              "                         {'bootstrap': [False], 'max_features': [2, 3, 4],\n",
              "                          'n_estimators': [3, 10]}],\n",
              "             return_train_score=True, scoring='neg_mean_squared_error')"
            ],
            "text/html": [
              "<style>#sk-container-id-7 {color: black;background-color: white;}#sk-container-id-7 pre{padding: 0;}#sk-container-id-7 div.sk-toggleable {background-color: white;}#sk-container-id-7 label.sk-toggleable__label {cursor: pointer;display: block;width: 100%;margin-bottom: 0;padding: 0.3em;box-sizing: border-box;text-align: center;}#sk-container-id-7 label.sk-toggleable__label-arrow:before {content: \"▸\";float: left;margin-right: 0.25em;color: #696969;}#sk-container-id-7 label.sk-toggleable__label-arrow:hover:before {color: black;}#sk-container-id-7 div.sk-estimator:hover label.sk-toggleable__label-arrow:before {color: black;}#sk-container-id-7 div.sk-toggleable__content {max-height: 0;max-width: 0;overflow: hidden;text-align: left;background-color: #f0f8ff;}#sk-container-id-7 div.sk-toggleable__content pre {margin: 0.2em;color: black;border-radius: 0.25em;background-color: #f0f8ff;}#sk-container-id-7 input.sk-toggleable__control:checked~div.sk-toggleable__content {max-height: 200px;max-width: 100%;overflow: auto;}#sk-container-id-7 input.sk-toggleable__control:checked~label.sk-toggleable__label-arrow:before {content: \"▾\";}#sk-container-id-7 div.sk-estimator input.sk-toggleable__control:checked~label.sk-toggleable__label {background-color: #d4ebff;}#sk-container-id-7 div.sk-label input.sk-toggleable__control:checked~label.sk-toggleable__label {background-color: #d4ebff;}#sk-container-id-7 input.sk-hidden--visually {border: 0;clip: rect(1px 1px 1px 1px);clip: rect(1px, 1px, 1px, 1px);height: 1px;margin: -1px;overflow: hidden;padding: 0;position: absolute;width: 1px;}#sk-container-id-7 div.sk-estimator {font-family: monospace;background-color: #f0f8ff;border: 1px dotted black;border-radius: 0.25em;box-sizing: border-box;margin-bottom: 0.5em;}#sk-container-id-7 div.sk-estimator:hover {background-color: #d4ebff;}#sk-container-id-7 div.sk-parallel-item::after {content: \"\";width: 100%;border-bottom: 1px solid gray;flex-grow: 1;}#sk-container-id-7 div.sk-label:hover label.sk-toggleable__label {background-color: #d4ebff;}#sk-container-id-7 div.sk-serial::before {content: \"\";position: absolute;border-left: 1px solid gray;box-sizing: border-box;top: 0;bottom: 0;left: 50%;z-index: 0;}#sk-container-id-7 div.sk-serial {display: flex;flex-direction: column;align-items: center;background-color: white;padding-right: 0.2em;padding-left: 0.2em;position: relative;}#sk-container-id-7 div.sk-item {position: relative;z-index: 1;}#sk-container-id-7 div.sk-parallel {display: flex;align-items: stretch;justify-content: center;background-color: white;position: relative;}#sk-container-id-7 div.sk-item::before, #sk-container-id-7 div.sk-parallel-item::before {content: \"\";position: absolute;border-left: 1px solid gray;box-sizing: border-box;top: 0;bottom: 0;left: 50%;z-index: -1;}#sk-container-id-7 div.sk-parallel-item {display: flex;flex-direction: column;z-index: 1;position: relative;background-color: white;}#sk-container-id-7 div.sk-parallel-item:first-child::after {align-self: flex-end;width: 50%;}#sk-container-id-7 div.sk-parallel-item:last-child::after {align-self: flex-start;width: 50%;}#sk-container-id-7 div.sk-parallel-item:only-child::after {width: 0;}#sk-container-id-7 div.sk-dashed-wrapped {border: 1px dashed gray;margin: 0 0.4em 0.5em 0.4em;box-sizing: border-box;padding-bottom: 0.4em;background-color: white;}#sk-container-id-7 div.sk-label label {font-family: monospace;font-weight: bold;display: inline-block;line-height: 1.2em;}#sk-container-id-7 div.sk-label-container {text-align: center;}#sk-container-id-7 div.sk-container {/* jupyter's `normalize.less` sets `[hidden] { display: none; }` but bootstrap.min.css set `[hidden] { display: none !important; }` so we also need the `!important` here to be able to override the default hidden behavior on the sphinx rendered scikit-learn.org. See: https://github.com/scikit-learn/scikit-learn/issues/21755 */display: inline-block !important;position: relative;}#sk-container-id-7 div.sk-text-repr-fallback {display: none;}</style><div id=\"sk-container-id-7\" class=\"sk-top-container\"><div class=\"sk-text-repr-fallback\"><pre>GridSearchCV(cv=5, estimator=RandomForestRegressor(random_state=42),\n",
              "             param_grid=[{&#x27;max_features&#x27;: [2, 4, 6, 8],\n",
              "                          &#x27;n_estimators&#x27;: [3, 10, 30]},\n",
              "                         {&#x27;bootstrap&#x27;: [False], &#x27;max_features&#x27;: [2, 3, 4],\n",
              "                          &#x27;n_estimators&#x27;: [3, 10]}],\n",
              "             return_train_score=True, scoring=&#x27;neg_mean_squared_error&#x27;)</pre><b>In a Jupyter environment, please rerun this cell to show the HTML representation or trust the notebook. <br />On GitHub, the HTML representation is unable to render, please try loading this page with nbviewer.org.</b></div><div class=\"sk-container\" hidden><div class=\"sk-item sk-dashed-wrapped\"><div class=\"sk-label-container\"><div class=\"sk-label sk-toggleable\"><input class=\"sk-toggleable__control sk-hidden--visually\" id=\"sk-estimator-id-7\" type=\"checkbox\" ><label for=\"sk-estimator-id-7\" class=\"sk-toggleable__label sk-toggleable__label-arrow\">GridSearchCV</label><div class=\"sk-toggleable__content\"><pre>GridSearchCV(cv=5, estimator=RandomForestRegressor(random_state=42),\n",
              "             param_grid=[{&#x27;max_features&#x27;: [2, 4, 6, 8],\n",
              "                          &#x27;n_estimators&#x27;: [3, 10, 30]},\n",
              "                         {&#x27;bootstrap&#x27;: [False], &#x27;max_features&#x27;: [2, 3, 4],\n",
              "                          &#x27;n_estimators&#x27;: [3, 10]}],\n",
              "             return_train_score=True, scoring=&#x27;neg_mean_squared_error&#x27;)</pre></div></div></div><div class=\"sk-parallel\"><div class=\"sk-parallel-item\"><div class=\"sk-item\"><div class=\"sk-label-container\"><div class=\"sk-label sk-toggleable\"><input class=\"sk-toggleable__control sk-hidden--visually\" id=\"sk-estimator-id-8\" type=\"checkbox\" ><label for=\"sk-estimator-id-8\" class=\"sk-toggleable__label sk-toggleable__label-arrow\">estimator: RandomForestRegressor</label><div class=\"sk-toggleable__content\"><pre>RandomForestRegressor(random_state=42)</pre></div></div></div><div class=\"sk-serial\"><div class=\"sk-item\"><div class=\"sk-estimator sk-toggleable\"><input class=\"sk-toggleable__control sk-hidden--visually\" id=\"sk-estimator-id-9\" type=\"checkbox\" ><label for=\"sk-estimator-id-9\" class=\"sk-toggleable__label sk-toggleable__label-arrow\">RandomForestRegressor</label><div class=\"sk-toggleable__content\"><pre>RandomForestRegressor(random_state=42)</pre></div></div></div></div></div></div></div></div></div></div>"
            ]
          },
          "metadata": {},
          "execution_count": 56
        }
      ]
    },
    {
      "cell_type": "code",
      "source": [
        "grid_search.best_params_"
      ],
      "metadata": {
        "colab": {
          "base_uri": "https://localhost:8080/"
        },
        "id": "Y_cIicGcm-pI",
        "outputId": "e407d9a3-9f59-403c-f679-13d33024f07a"
      },
      "execution_count": null,
      "outputs": [
        {
          "output_type": "execute_result",
          "data": {
            "text/plain": [
              "{'max_features': 6, 'n_estimators': 30}"
            ]
          },
          "metadata": {},
          "execution_count": 57
        }
      ]
    },
    {
      "cell_type": "markdown",
      "source": [
        "최상의 하이퍼파라미터 값. -> best_params_.\n",
        "<br>\n",
        "max_features: 6\n",
        "<br>\n",
        "n_estimators: 30"
      ],
      "metadata": {
        "id": "86zhs4U2naiD"
      }
    },
    {
      "cell_type": "code",
      "source": [
        "grid_search.best_estimator_"
      ],
      "metadata": {
        "colab": {
          "base_uri": "https://localhost:8080/",
          "height": 74
        },
        "id": "YYR-R7GZnEa-",
        "outputId": "ed3e53bd-8ba5-4bdf-86eb-ecc731f3eb50"
      },
      "execution_count": null,
      "outputs": [
        {
          "output_type": "execute_result",
          "data": {
            "text/plain": [
              "RandomForestRegressor(max_features=6, n_estimators=30, random_state=42)"
            ],
            "text/html": [
              "<style>#sk-container-id-8 {color: black;background-color: white;}#sk-container-id-8 pre{padding: 0;}#sk-container-id-8 div.sk-toggleable {background-color: white;}#sk-container-id-8 label.sk-toggleable__label {cursor: pointer;display: block;width: 100%;margin-bottom: 0;padding: 0.3em;box-sizing: border-box;text-align: center;}#sk-container-id-8 label.sk-toggleable__label-arrow:before {content: \"▸\";float: left;margin-right: 0.25em;color: #696969;}#sk-container-id-8 label.sk-toggleable__label-arrow:hover:before {color: black;}#sk-container-id-8 div.sk-estimator:hover label.sk-toggleable__label-arrow:before {color: black;}#sk-container-id-8 div.sk-toggleable__content {max-height: 0;max-width: 0;overflow: hidden;text-align: left;background-color: #f0f8ff;}#sk-container-id-8 div.sk-toggleable__content pre {margin: 0.2em;color: black;border-radius: 0.25em;background-color: #f0f8ff;}#sk-container-id-8 input.sk-toggleable__control:checked~div.sk-toggleable__content {max-height: 200px;max-width: 100%;overflow: auto;}#sk-container-id-8 input.sk-toggleable__control:checked~label.sk-toggleable__label-arrow:before {content: \"▾\";}#sk-container-id-8 div.sk-estimator input.sk-toggleable__control:checked~label.sk-toggleable__label {background-color: #d4ebff;}#sk-container-id-8 div.sk-label input.sk-toggleable__control:checked~label.sk-toggleable__label {background-color: #d4ebff;}#sk-container-id-8 input.sk-hidden--visually {border: 0;clip: rect(1px 1px 1px 1px);clip: rect(1px, 1px, 1px, 1px);height: 1px;margin: -1px;overflow: hidden;padding: 0;position: absolute;width: 1px;}#sk-container-id-8 div.sk-estimator {font-family: monospace;background-color: #f0f8ff;border: 1px dotted black;border-radius: 0.25em;box-sizing: border-box;margin-bottom: 0.5em;}#sk-container-id-8 div.sk-estimator:hover {background-color: #d4ebff;}#sk-container-id-8 div.sk-parallel-item::after {content: \"\";width: 100%;border-bottom: 1px solid gray;flex-grow: 1;}#sk-container-id-8 div.sk-label:hover label.sk-toggleable__label {background-color: #d4ebff;}#sk-container-id-8 div.sk-serial::before {content: \"\";position: absolute;border-left: 1px solid gray;box-sizing: border-box;top: 0;bottom: 0;left: 50%;z-index: 0;}#sk-container-id-8 div.sk-serial {display: flex;flex-direction: column;align-items: center;background-color: white;padding-right: 0.2em;padding-left: 0.2em;position: relative;}#sk-container-id-8 div.sk-item {position: relative;z-index: 1;}#sk-container-id-8 div.sk-parallel {display: flex;align-items: stretch;justify-content: center;background-color: white;position: relative;}#sk-container-id-8 div.sk-item::before, #sk-container-id-8 div.sk-parallel-item::before {content: \"\";position: absolute;border-left: 1px solid gray;box-sizing: border-box;top: 0;bottom: 0;left: 50%;z-index: -1;}#sk-container-id-8 div.sk-parallel-item {display: flex;flex-direction: column;z-index: 1;position: relative;background-color: white;}#sk-container-id-8 div.sk-parallel-item:first-child::after {align-self: flex-end;width: 50%;}#sk-container-id-8 div.sk-parallel-item:last-child::after {align-self: flex-start;width: 50%;}#sk-container-id-8 div.sk-parallel-item:only-child::after {width: 0;}#sk-container-id-8 div.sk-dashed-wrapped {border: 1px dashed gray;margin: 0 0.4em 0.5em 0.4em;box-sizing: border-box;padding-bottom: 0.4em;background-color: white;}#sk-container-id-8 div.sk-label label {font-family: monospace;font-weight: bold;display: inline-block;line-height: 1.2em;}#sk-container-id-8 div.sk-label-container {text-align: center;}#sk-container-id-8 div.sk-container {/* jupyter's `normalize.less` sets `[hidden] { display: none; }` but bootstrap.min.css set `[hidden] { display: none !important; }` so we also need the `!important` here to be able to override the default hidden behavior on the sphinx rendered scikit-learn.org. See: https://github.com/scikit-learn/scikit-learn/issues/21755 */display: inline-block !important;position: relative;}#sk-container-id-8 div.sk-text-repr-fallback {display: none;}</style><div id=\"sk-container-id-8\" class=\"sk-top-container\"><div class=\"sk-text-repr-fallback\"><pre>RandomForestRegressor(max_features=6, n_estimators=30, random_state=42)</pre><b>In a Jupyter environment, please rerun this cell to show the HTML representation or trust the notebook. <br />On GitHub, the HTML representation is unable to render, please try loading this page with nbviewer.org.</b></div><div class=\"sk-container\" hidden><div class=\"sk-item\"><div class=\"sk-estimator sk-toggleable\"><input class=\"sk-toggleable__control sk-hidden--visually\" id=\"sk-estimator-id-10\" type=\"checkbox\" checked><label for=\"sk-estimator-id-10\" class=\"sk-toggleable__label sk-toggleable__label-arrow\">RandomForestRegressor</label><div class=\"sk-toggleable__content\"><pre>RandomForestRegressor(max_features=6, n_estimators=30, random_state=42)</pre></div></div></div></div></div>"
            ]
          },
          "metadata": {},
          "execution_count": 58
        }
      ]
    },
    {
      "cell_type": "markdown",
      "source": [
        "최적 추정기 접근: best_estimator_"
      ],
      "metadata": {
        "id": "wfLz7ctXn0fQ"
      }
    },
    {
      "cell_type": "code",
      "source": [
        "cvres = grid_search.cv_results_\n",
        "\n",
        "for mean_score, params in zip(cvres[\"mean_test_score\"], cvres[\"params\"]):\n",
        "    print(np.sqrt(-mean_score), params)"
      ],
      "metadata": {
        "colab": {
          "base_uri": "https://localhost:8080/"
        },
        "id": "XaCYxAKmntTg",
        "outputId": "145c1ba1-afab-43c3-b237-781c43581d81"
      },
      "execution_count": null,
      "outputs": [
        {
          "output_type": "stream",
          "name": "stdout",
          "text": [
            "64794.30269596007 {'max_features': 2, 'n_estimators': 3}\n",
            "56170.628706376316 {'max_features': 2, 'n_estimators': 10}\n",
            "53112.07892952066 {'max_features': 2, 'n_estimators': 30}\n",
            "61836.14128922096 {'max_features': 4, 'n_estimators': 3}\n",
            "54015.050600771814 {'max_features': 4, 'n_estimators': 10}\n",
            "51501.312925751794 {'max_features': 4, 'n_estimators': 30}\n",
            "59654.781331729675 {'max_features': 6, 'n_estimators': 3}\n",
            "52654.921131020776 {'max_features': 6, 'n_estimators': 10}\n",
            "50743.74265388978 {'max_features': 6, 'n_estimators': 30}\n",
            "60051.26348940765 {'max_features': 8, 'n_estimators': 3}\n",
            "52909.31100796091 {'max_features': 8, 'n_estimators': 10}\n",
            "50800.78516244517 {'max_features': 8, 'n_estimators': 30}\n",
            "63176.30025923348 {'bootstrap': False, 'max_features': 2, 'n_estimators': 3}\n",
            "54596.210174483705 {'bootstrap': False, 'max_features': 2, 'n_estimators': 10}\n",
            "60999.682580275425 {'bootstrap': False, 'max_features': 3, 'n_estimators': 3}\n",
            "53236.2602917408 {'bootstrap': False, 'max_features': 3, 'n_estimators': 10}\n",
            "60376.15876878502 {'bootstrap': False, 'max_features': 4, 'n_estimators': 3}\n",
            "53060.99451893582 {'bootstrap': False, 'max_features': 4, 'n_estimators': 10}\n"
          ]
        }
      ]
    },
    {
      "cell_type": "markdown",
      "source": [
        "최적의 솔루션: 'max_features': 6, 'n_estimators': 30. 점수도 가장 좋음."
      ],
      "metadata": {
        "id": "1PU3F5JtoAy4"
      }
    },
    {
      "cell_type": "code",
      "source": [
        "from sklearn.model_selection import RandomizedSearchCV\n",
        "from scipy.stats import randint\n",
        "\n",
        "param_distribs = {\n",
        "        'n_estimators': randint(low=1, high=200),\n",
        "        'max_features': randint(low=1, high=8),\n",
        "    }\n",
        "\n",
        "forest_reg = RandomForestRegressor(random_state=42)\n",
        "rnd_search = RandomizedSearchCV(forest_reg, param_distributions=param_distribs,\n",
        "                                n_iter=10, cv=5, scoring='neg_mean_squared_error', random_state=42)\n",
        "rnd_search.fit(housing_prepared, housing_labels)"
      ],
      "metadata": {
        "colab": {
          "base_uri": "https://localhost:8080/",
          "height": 116
        },
        "id": "phk_L7sVn8wS",
        "outputId": "421bbd0a-21d9-4058-c747-a10003814a3d"
      },
      "execution_count": null,
      "outputs": [
        {
          "output_type": "execute_result",
          "data": {
            "text/plain": [
              "RandomizedSearchCV(cv=5, estimator=RandomForestRegressor(random_state=42),\n",
              "                   param_distributions={'max_features': <scipy.stats._distn_infrastructure.rv_discrete_frozen object at 0x7f07703fd2e0>,\n",
              "                                        'n_estimators': <scipy.stats._distn_infrastructure.rv_discrete_frozen object at 0x7f07703f1a90>},\n",
              "                   random_state=42, scoring='neg_mean_squared_error')"
            ],
            "text/html": [
              "<style>#sk-container-id-9 {color: black;background-color: white;}#sk-container-id-9 pre{padding: 0;}#sk-container-id-9 div.sk-toggleable {background-color: white;}#sk-container-id-9 label.sk-toggleable__label {cursor: pointer;display: block;width: 100%;margin-bottom: 0;padding: 0.3em;box-sizing: border-box;text-align: center;}#sk-container-id-9 label.sk-toggleable__label-arrow:before {content: \"▸\";float: left;margin-right: 0.25em;color: #696969;}#sk-container-id-9 label.sk-toggleable__label-arrow:hover:before {color: black;}#sk-container-id-9 div.sk-estimator:hover label.sk-toggleable__label-arrow:before {color: black;}#sk-container-id-9 div.sk-toggleable__content {max-height: 0;max-width: 0;overflow: hidden;text-align: left;background-color: #f0f8ff;}#sk-container-id-9 div.sk-toggleable__content pre {margin: 0.2em;color: black;border-radius: 0.25em;background-color: #f0f8ff;}#sk-container-id-9 input.sk-toggleable__control:checked~div.sk-toggleable__content {max-height: 200px;max-width: 100%;overflow: auto;}#sk-container-id-9 input.sk-toggleable__control:checked~label.sk-toggleable__label-arrow:before {content: \"▾\";}#sk-container-id-9 div.sk-estimator input.sk-toggleable__control:checked~label.sk-toggleable__label {background-color: #d4ebff;}#sk-container-id-9 div.sk-label input.sk-toggleable__control:checked~label.sk-toggleable__label {background-color: #d4ebff;}#sk-container-id-9 input.sk-hidden--visually {border: 0;clip: rect(1px 1px 1px 1px);clip: rect(1px, 1px, 1px, 1px);height: 1px;margin: -1px;overflow: hidden;padding: 0;position: absolute;width: 1px;}#sk-container-id-9 div.sk-estimator {font-family: monospace;background-color: #f0f8ff;border: 1px dotted black;border-radius: 0.25em;box-sizing: border-box;margin-bottom: 0.5em;}#sk-container-id-9 div.sk-estimator:hover {background-color: #d4ebff;}#sk-container-id-9 div.sk-parallel-item::after {content: \"\";width: 100%;border-bottom: 1px solid gray;flex-grow: 1;}#sk-container-id-9 div.sk-label:hover label.sk-toggleable__label {background-color: #d4ebff;}#sk-container-id-9 div.sk-serial::before {content: \"\";position: absolute;border-left: 1px solid gray;box-sizing: border-box;top: 0;bottom: 0;left: 50%;z-index: 0;}#sk-container-id-9 div.sk-serial {display: flex;flex-direction: column;align-items: center;background-color: white;padding-right: 0.2em;padding-left: 0.2em;position: relative;}#sk-container-id-9 div.sk-item {position: relative;z-index: 1;}#sk-container-id-9 div.sk-parallel {display: flex;align-items: stretch;justify-content: center;background-color: white;position: relative;}#sk-container-id-9 div.sk-item::before, #sk-container-id-9 div.sk-parallel-item::before {content: \"\";position: absolute;border-left: 1px solid gray;box-sizing: border-box;top: 0;bottom: 0;left: 50%;z-index: -1;}#sk-container-id-9 div.sk-parallel-item {display: flex;flex-direction: column;z-index: 1;position: relative;background-color: white;}#sk-container-id-9 div.sk-parallel-item:first-child::after {align-self: flex-end;width: 50%;}#sk-container-id-9 div.sk-parallel-item:last-child::after {align-self: flex-start;width: 50%;}#sk-container-id-9 div.sk-parallel-item:only-child::after {width: 0;}#sk-container-id-9 div.sk-dashed-wrapped {border: 1px dashed gray;margin: 0 0.4em 0.5em 0.4em;box-sizing: border-box;padding-bottom: 0.4em;background-color: white;}#sk-container-id-9 div.sk-label label {font-family: monospace;font-weight: bold;display: inline-block;line-height: 1.2em;}#sk-container-id-9 div.sk-label-container {text-align: center;}#sk-container-id-9 div.sk-container {/* jupyter's `normalize.less` sets `[hidden] { display: none; }` but bootstrap.min.css set `[hidden] { display: none !important; }` so we also need the `!important` here to be able to override the default hidden behavior on the sphinx rendered scikit-learn.org. See: https://github.com/scikit-learn/scikit-learn/issues/21755 */display: inline-block !important;position: relative;}#sk-container-id-9 div.sk-text-repr-fallback {display: none;}</style><div id=\"sk-container-id-9\" class=\"sk-top-container\"><div class=\"sk-text-repr-fallback\"><pre>RandomizedSearchCV(cv=5, estimator=RandomForestRegressor(random_state=42),\n",
              "                   param_distributions={&#x27;max_features&#x27;: &lt;scipy.stats._distn_infrastructure.rv_discrete_frozen object at 0x7f07703fd2e0&gt;,\n",
              "                                        &#x27;n_estimators&#x27;: &lt;scipy.stats._distn_infrastructure.rv_discrete_frozen object at 0x7f07703f1a90&gt;},\n",
              "                   random_state=42, scoring=&#x27;neg_mean_squared_error&#x27;)</pre><b>In a Jupyter environment, please rerun this cell to show the HTML representation or trust the notebook. <br />On GitHub, the HTML representation is unable to render, please try loading this page with nbviewer.org.</b></div><div class=\"sk-container\" hidden><div class=\"sk-item sk-dashed-wrapped\"><div class=\"sk-label-container\"><div class=\"sk-label sk-toggleable\"><input class=\"sk-toggleable__control sk-hidden--visually\" id=\"sk-estimator-id-11\" type=\"checkbox\" ><label for=\"sk-estimator-id-11\" class=\"sk-toggleable__label sk-toggleable__label-arrow\">RandomizedSearchCV</label><div class=\"sk-toggleable__content\"><pre>RandomizedSearchCV(cv=5, estimator=RandomForestRegressor(random_state=42),\n",
              "                   param_distributions={&#x27;max_features&#x27;: &lt;scipy.stats._distn_infrastructure.rv_discrete_frozen object at 0x7f07703fd2e0&gt;,\n",
              "                                        &#x27;n_estimators&#x27;: &lt;scipy.stats._distn_infrastructure.rv_discrete_frozen object at 0x7f07703f1a90&gt;},\n",
              "                   random_state=42, scoring=&#x27;neg_mean_squared_error&#x27;)</pre></div></div></div><div class=\"sk-parallel\"><div class=\"sk-parallel-item\"><div class=\"sk-item\"><div class=\"sk-label-container\"><div class=\"sk-label sk-toggleable\"><input class=\"sk-toggleable__control sk-hidden--visually\" id=\"sk-estimator-id-12\" type=\"checkbox\" ><label for=\"sk-estimator-id-12\" class=\"sk-toggleable__label sk-toggleable__label-arrow\">estimator: RandomForestRegressor</label><div class=\"sk-toggleable__content\"><pre>RandomForestRegressor(random_state=42)</pre></div></div></div><div class=\"sk-serial\"><div class=\"sk-item\"><div class=\"sk-estimator sk-toggleable\"><input class=\"sk-toggleable__control sk-hidden--visually\" id=\"sk-estimator-id-13\" type=\"checkbox\" ><label for=\"sk-estimator-id-13\" class=\"sk-toggleable__label sk-toggleable__label-arrow\">RandomForestRegressor</label><div class=\"sk-toggleable__content\"><pre>RandomForestRegressor(random_state=42)</pre></div></div></div></div></div></div></div></div></div></div>"
            ]
          },
          "metadata": {},
          "execution_count": 60
        }
      ]
    },
    {
      "cell_type": "code",
      "source": [
        "cvres = rnd_search.cv_results_\n",
        "for mean_score, params in zip(cvres[\"mean_test_score\"], cvres[\"params\"]):\n",
        "    print(np.sqrt(-mean_score), params)"
      ],
      "metadata": {
        "colab": {
          "base_uri": "https://localhost:8080/"
        },
        "id": "h2XtNUQ6oi6I",
        "outputId": "50137615-1fa7-4126-c016-0559ca6333ee"
      },
      "execution_count": null,
      "outputs": [
        {
          "output_type": "stream",
          "name": "stdout",
          "text": [
            "49799.635737761106 {'max_features': 7, 'n_estimators': 180}\n",
            "52293.114093913726 {'max_features': 5, 'n_estimators': 15}\n",
            "51327.353255586764 {'max_features': 3, 'n_estimators': 72}\n",
            "51528.97117998048 {'max_features': 5, 'n_estimators': 21}\n",
            "49958.42482333546 {'max_features': 7, 'n_estimators': 122}\n",
            "51270.531241462595 {'max_features': 3, 'n_estimators': 75}\n",
            "51172.437672640175 {'max_features': 3, 'n_estimators': 88}\n",
            "50255.14987044715 {'max_features': 5, 'n_estimators': 100}\n",
            "50894.38729795359 {'max_features': 3, 'n_estimators': 150}\n",
            "65022.070435017646 {'max_features': 5, 'n_estimators': 2}\n"
          ]
        }
      ]
    },
    {
      "cell_type": "markdown",
      "source": [
        "랜덤 서치. 하이퍼파라미터 탐색 공간이 커지면, 랜덤서치가 더 좋음.\n",
        "<br>\n",
        "그리드 서치처럼 모든 조합 다 시도하는 것과는 다른, 각 반복마다 임의로 적용해서, 평가."
      ],
      "metadata": {
        "id": "sN3wzqLsooE0"
      }
    },
    {
      "cell_type": "code",
      "source": [
        "feature_importances = grid_search.best_estimator_.feature_importances_\n",
        "feature_importances"
      ],
      "metadata": {
        "colab": {
          "base_uri": "https://localhost:8080/"
        },
        "id": "S1-9LdbdokjW",
        "outputId": "4bbd7a4e-fe7e-422f-9044-47b6474fc73d"
      },
      "execution_count": null,
      "outputs": [
        {
          "output_type": "execute_result",
          "data": {
            "text/plain": [
              "array([6.76445809e-02, 6.24744883e-02, 4.48349664e-02, 1.82692423e-02,\n",
              "       1.78441912e-02, 1.96046284e-02, 1.81345873e-02, 2.43728155e-01,\n",
              "       1.64552239e-01, 5.15312129e-02, 1.00601503e-01, 5.56925429e-02,\n",
              "       1.39077386e-02, 1.13027019e-01, 8.79969201e-05, 2.68765993e-03,\n",
              "       5.37724723e-03])"
            ]
          },
          "metadata": {},
          "execution_count": 62
        }
      ]
    },
    {
      "cell_type": "markdown",
      "source": [
        "최상 모델 분석."
      ],
      "metadata": {
        "id": "XD-oLs8_pWtV"
      }
    },
    {
      "cell_type": "code",
      "source": [
        "extra_attribs = [\"rooms_per_hhold\", \"pop_per_hhold\", \"bedrooms_per_room\"]\n",
        "\n",
        "cat_encoder = full_pipeline.named_transformers_[\"cat\"]\n",
        "cat_one_hot_attribs = list(cat_encoder.categories_[0])\n",
        "attributes = num_attribs + extra_attribs + cat_one_hot_attribs\n",
        "\n",
        "sorted(zip(feature_importances, attributes), reverse=True) #특성 중요도, 특성 이름 한 쌍으로 내림차순 정렬."
      ],
      "metadata": {
        "colab": {
          "base_uri": "https://localhost:8080/"
        },
        "id": "dGXzUMT7pWJd",
        "outputId": "48147bf6-27e4-4855-e109-9ab1009dbd11"
      },
      "execution_count": null,
      "outputs": [
        {
          "output_type": "execute_result",
          "data": {
            "text/plain": [
              "[(0.24372815503486656, 'median_income'),\n",
              " (0.164552239433468, 'income_cat'),\n",
              " (0.11302701921836562, 'INLAND'),\n",
              " (0.1006015031515756, 'pop_per_hhold'),\n",
              " (0.06764458085326612, 'longitude'),\n",
              " (0.062474488288322035, 'latitude'),\n",
              " (0.055692542877701014, 'bedrooms_per_room'),\n",
              " (0.051531212925316115, 'rooms_per_hhold'),\n",
              " (0.04483496644921273, 'housing_median_age'),\n",
              " (0.019604628363310554, 'population'),\n",
              " (0.018269242313755225, 'total_rooms'),\n",
              " (0.018134587277114467, 'households'),\n",
              " (0.01784419116603477, 'total_bedrooms'),\n",
              " (0.013907738567035368, '<1H OCEAN'),\n",
              " (0.005377247230746392, 'NEAR OCEAN'),\n",
              " (0.0026876599298535937, 'NEAR BAY'),\n",
              " (8.799692005595001e-05, 'ISLAND')]"
            ]
          },
          "metadata": {},
          "execution_count": 63
        }
      ]
    },
    {
      "cell_type": "markdown",
      "source": [
        "중요도. 특성 이름 표시."
      ],
      "metadata": {
        "id": "Tai0WN2rqDVn"
      }
    },
    {
      "cell_type": "code",
      "source": [
        "final_model = grid_search.best_estimator_ #그리드 서치에서 가장 좋았던 것, 최종 모델로.\n",
        "\n",
        "X_test = strat_test_set.drop(\"median_house_value\", axis=1) \n",
        "y_test = strat_test_set[\"median_house_value\"].copy()\n",
        "# 테스트 세트, 레이블 따로 분류. 각각 X_test, y_test로.\n",
        "\n",
        "X_test_prepared = full_pipeline.transform(X_test) # fit()안쓰는것 확인.\n",
        "\n",
        "final_predictions = final_model.predict(X_test_prepared)\n",
        "\n",
        "#오차 측정.\n",
        "final_mse = mean_squared_error(y_test, final_predictions) # MSE\n",
        "final_rmse = np.sqrt(final_mse) # RMSE\n"
      ],
      "metadata": {
        "id": "IbBN1CsCpl2l"
      },
      "execution_count": null,
      "outputs": []
    },
    {
      "cell_type": "code",
      "source": [
        "final_rmse"
      ],
      "metadata": {
        "colab": {
          "base_uri": "https://localhost:8080/"
        },
        "id": "dt4obyDIrBPR",
        "outputId": "3bda1cd5-d318-4c57-c33d-0f9fac4eaafc"
      },
      "execution_count": null,
      "outputs": [
        {
          "output_type": "execute_result",
          "data": {
            "text/plain": [
              "48557.33618531538"
            ]
          },
          "metadata": {},
          "execution_count": 65
        }
      ]
    },
    {
      "cell_type": "code",
      "source": [
        "from scipy import stats\n",
        "\n",
        "confidence = 0.95\n",
        "squared_errors = (final_predictions - y_test) ** 2\n",
        "np.sqrt(stats.t.interval(confidence, len(squared_errors) - 1,\n",
        "                         loc=squared_errors.mean(),\n",
        "                         scale=stats.sem(squared_errors)))"
      ],
      "metadata": {
        "colab": {
          "base_uri": "https://localhost:8080/"
        },
        "id": "EyJqdYTurEPv",
        "outputId": "a1bf9728-66e3-4ed4-dfcd-cfafd02ce09d"
      },
      "execution_count": null,
      "outputs": [
        {
          "output_type": "execute_result",
          "data": {
            "text/plain": [
              "array([46608.81069751, 50430.63116986])"
            ]
          },
          "metadata": {},
          "execution_count": 66
        }
      ]
    },
    {
      "cell_type": "markdown",
      "source": [
        "오차 95% '신뢰구간' 계산, 확률적 시스템 성능 예측 가능. scipy.stats.t.interval() "
      ],
      "metadata": {
        "id": "uiXLms8BrcYV"
      }
    },
    {
      "cell_type": "markdown",
      "source": [
        "-론칭, 모니터링, 시스템 유지 보수-\n",
        "<br>\n",
        "론칭 허가 받으면, 배포.\n",
        "<br>\n",
        "-배포:\n",
        "1. 전체 파이프라인, 예측 파이프라인 포함된 훈련된 사이킷런 모델 저장\n",
        "2. 이 모델을 상용환경에 로드, predict()메서드 호출해서 예측.\n",
        "<br>\n",
        "-모니터링 & 유지보수:\n",
        "<br>\n",
        "하위 시스템의 지표로 모델 성능 추정.(모델이 분류한 전체 사진 중에서 한 샘플 보내는 등). 어떤 식으로든 모니터링 시스템이 필요.\n",
        "1. 데이터 수집, 레이블 달기\n",
        "2. 모델 훈련, 하이퍼파라미터 자동으로 튜닝하는 스크립트 작성\n",
        "3. 새로운 모델, 이전 모델 평가하는 스크립트 작성. 성능 감소하지 않으면 배포.\n",
        "\n",
        "<br>\n",
        "마지막으로 만든 모델을 백업, 뭔가 잘못됐다 판단되면 롤백 위한 절차 & 도구 준비.\n"
      ],
      "metadata": {
        "id": "RZ2_f7tmsm_g"
      }
    },
    {
      "cell_type": "code",
      "source": [],
      "metadata": {
        "id": "mENv0qoJrULw"
      },
      "execution_count": null,
      "outputs": []
    }
  ]
}