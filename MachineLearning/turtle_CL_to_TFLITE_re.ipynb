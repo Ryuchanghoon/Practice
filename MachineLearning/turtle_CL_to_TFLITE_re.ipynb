{
  "nbformat": 4,
  "nbformat_minor": 0,
  "metadata": {
    "colab": {
      "provenance": []
    },
    "kernelspec": {
      "name": "python3",
      "display_name": "Python 3"
    },
    "language_info": {
      "name": "python"
    }
  },
  "cells": [
    {
      "cell_type": "code",
      "execution_count": 14,
      "metadata": {
        "id": "dMfNA2BiE7M5"
      },
      "outputs": [],
      "source": [
        "import pandas as pd\n",
        "from sklearn.model_selection import train_test_split\n",
        "from sklearn.preprocessing import LabelEncoder\n",
        "from tensorflow.keras.models import Sequential\n",
        "from tensorflow.keras.layers import Dense\n",
        "from tensorflow.keras.utils import to_categorical\n",
        "\n",
        "import tensorflow as tf"
      ]
    },
    {
      "cell_type": "code",
      "source": [
        "data = pd.read_csv('/content/drive/MyDrive/GDSC_AI/SC_test/turtle_neck_AddAngle.csv')"
      ],
      "metadata": {
        "id": "Cx_2nPnbFP3U"
      },
      "execution_count": 2,
      "outputs": []
    },
    {
      "cell_type": "code",
      "source": [
        "X = data.drop('turtleneck_status', axis=1)\n",
        "y = data['turtleneck_status']"
      ],
      "metadata": {
        "id": "wrwkIuqtFWya"
      },
      "execution_count": 3,
      "outputs": []
    },
    {
      "cell_type": "code",
      "source": [
        "X_train, X_test, y_train, y_test = train_test_split(X, y, test_size=0.2, random_state=42)"
      ],
      "metadata": {
        "id": "so5F1iobFrs9"
      },
      "execution_count": 4,
      "outputs": []
    },
    {
      "cell_type": "code",
      "source": [
        "label_encoder = LabelEncoder()\n",
        "y_encoded = label_encoder.fit_transform(y_train)"
      ],
      "metadata": {
        "id": "BeMCxuv4FtF1"
      },
      "execution_count": 5,
      "outputs": []
    },
    {
      "cell_type": "code",
      "source": [
        "y_categorical = to_categorical(y_encoded) # one-hot"
      ],
      "metadata": {
        "id": "OBy4hLelFuPh"
      },
      "execution_count": 7,
      "outputs": []
    },
    {
      "cell_type": "code",
      "source": [
        "model = Sequential()\n",
        "model.add(Dense(32, input_shape=(X_train.shape[1],), activation='relu'))\n",
        "model.add(Dense(16, activation='relu'))\n",
        "model.add(Dense(y_categorical.shape[1], activation='softmax'))"
      ],
      "metadata": {
        "id": "nnUB0fV8F5Qd"
      },
      "execution_count": 8,
      "outputs": []
    },
    {
      "cell_type": "code",
      "source": [
        "model.compile(optimizer='adam', loss='categorical_crossentropy', metrics=['accuracy'])"
      ],
      "metadata": {
        "id": "F1unRUCdF8Ax"
      },
      "execution_count": 9,
      "outputs": []
    },
    {
      "cell_type": "code",
      "source": [
        "model.fit(X_train, y_categorical, epochs=10, batch_size=10)"
      ],
      "metadata": {
        "colab": {
          "base_uri": "https://localhost:8080/"
        },
        "id": "lQ1Byn20F9Vl",
        "outputId": "f22e524d-7977-4d24-a08c-690a460f729f"
      },
      "execution_count": 10,
      "outputs": [
        {
          "output_type": "stream",
          "name": "stdout",
          "text": [
            "Epoch 1/10\n",
            "1007/1007 [==============================] - 3s 2ms/step - loss: 0.1561 - accuracy: 0.9659\n",
            "Epoch 2/10\n",
            "1007/1007 [==============================] - 2s 2ms/step - loss: 0.0778 - accuracy: 0.9835\n",
            "Epoch 3/10\n",
            "1007/1007 [==============================] - 2s 2ms/step - loss: 0.0769 - accuracy: 0.9835\n",
            "Epoch 4/10\n",
            "1007/1007 [==============================] - 2s 2ms/step - loss: 0.0757 - accuracy: 0.9835\n",
            "Epoch 5/10\n",
            "1007/1007 [==============================] - 3s 2ms/step - loss: 0.0739 - accuracy: 0.9835\n",
            "Epoch 6/10\n",
            "1007/1007 [==============================] - 3s 3ms/step - loss: 0.0723 - accuracy: 0.9835\n",
            "Epoch 7/10\n",
            "1007/1007 [==============================] - 2s 2ms/step - loss: 0.0700 - accuracy: 0.9835\n",
            "Epoch 8/10\n",
            "1007/1007 [==============================] - 2s 2ms/step - loss: 0.0673 - accuracy: 0.9835\n",
            "Epoch 9/10\n",
            "1007/1007 [==============================] - 2s 2ms/step - loss: 0.0649 - accuracy: 0.9834\n",
            "Epoch 10/10\n",
            "1007/1007 [==============================] - 2s 2ms/step - loss: 0.0617 - accuracy: 0.9833\n"
          ]
        },
        {
          "output_type": "execute_result",
          "data": {
            "text/plain": [
              "<keras.src.callbacks.History at 0x7cb222761570>"
            ]
          },
          "metadata": {},
          "execution_count": 10
        }
      ]
    },
    {
      "cell_type": "code",
      "source": [
        "model.save('CL_turtleneck_model.h5')"
      ],
      "metadata": {
        "colab": {
          "base_uri": "https://localhost:8080/"
        },
        "id": "7sk1e2inF-Oz",
        "outputId": "141b55df-ff21-4828-f9fc-85b31f342818"
      },
      "execution_count": 11,
      "outputs": [
        {
          "output_type": "stream",
          "name": "stderr",
          "text": [
            "/usr/local/lib/python3.10/dist-packages/keras/src/engine/training.py:3103: UserWarning: You are saving your model as an HDF5 file via `model.save()`. This file format is considered legacy. We recommend using instead the native Keras format, e.g. `model.save('my_model.keras')`.\n",
            "  saving_api.save_model(\n"
          ]
        }
      ]
    },
    {
      "cell_type": "code",
      "source": [
        "y_test_encoded = label_encoder.transform(y_test)\n",
        "y_test_categorical = to_categorical(y_test_encoded)"
      ],
      "metadata": {
        "id": "u5ZLUGsMGJey"
      },
      "execution_count": 12,
      "outputs": []
    },
    {
      "cell_type": "code",
      "source": [
        "loss, accuracy = model.evaluate(X_test, y_test_categorical)"
      ],
      "metadata": {
        "colab": {
          "base_uri": "https://localhost:8080/"
        },
        "id": "gnG1agf7GM0i",
        "outputId": "f792d42b-e03a-4bb1-aee4-3fa84b51ca01"
      },
      "execution_count": 13,
      "outputs": [
        {
          "output_type": "stream",
          "name": "stdout",
          "text": [
            "79/79 [==============================] - 1s 3ms/step - loss: 0.0642 - accuracy: 0.9825\n"
          ]
        }
      ]
    },
    {
      "cell_type": "code",
      "source": [
        "model_tfl = tf.keras.models.load_model('/content/CL_turtleneck_model.h5')"
      ],
      "metadata": {
        "id": "a7H5JrCeGN5e"
      },
      "execution_count": 15,
      "outputs": []
    },
    {
      "cell_type": "code",
      "source": [
        "converter = tf.lite.TFLiteConverter.from_keras_model(model_tfl)\n",
        "tflite_model = converter.convert()"
      ],
      "metadata": {
        "id": "Pb6teqImGvXE"
      },
      "execution_count": 16,
      "outputs": []
    },
    {
      "cell_type": "code",
      "source": [
        "with open('turtle_CL_model.tflite', 'wb') as f:\n",
        "  f.write(tflite_model)"
      ],
      "metadata": {
        "id": "ROV8vdOIG1-T"
      },
      "execution_count": 17,
      "outputs": []
    }
  ]
}