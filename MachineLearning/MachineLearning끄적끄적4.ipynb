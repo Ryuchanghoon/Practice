{
  "nbformat": 4,
  "nbformat_minor": 0,
  "metadata": {
    "colab": {
      "provenance": []
    },
    "kernelspec": {
      "name": "python3",
      "display_name": "Python 3"
    },
    "language_info": {
      "name": "python"
    },
    "gpuClass": "standard"
  },
  "cells": [
    {
      "cell_type": "code",
      "execution_count": null,
      "metadata": {
        "id": "3-x4lsKrb_io"
      },
      "outputs": [],
      "source": [
        "##MNIST로 분류하기."
      ]
    },
    {
      "cell_type": "code",
      "source": [
        "from sklearn.datasets import fetch_openml\n",
        "mnist = fetch_openml('mnist_784', version = 1, as_frame = False)\n",
        "mnist.keys()"
      ],
      "metadata": {
        "colab": {
          "base_uri": "https://localhost:8080/"
        },
        "id": "DktQLgqncIAO",
        "outputId": "e7387f77-87cc-44b3-e4a8-9f5678c097e6"
      },
      "execution_count": null,
      "outputs": [
        {
          "output_type": "stream",
          "name": "stderr",
          "text": [
            "/usr/local/lib/python3.9/dist-packages/sklearn/datasets/_openml.py:968: FutureWarning: The default value of `parser` will change from `'liac-arff'` to `'auto'` in 1.4. You can set `parser='auto'` to silence this warning. Therefore, an `ImportError` will be raised from 1.4 if the dataset is dense and pandas is not installed. Note that the pandas parser may return different data types. See the Notes Section in fetch_openml's API doc for details.\n",
            "  warn(\n"
          ]
        },
        {
          "output_type": "execute_result",
          "data": {
            "text/plain": [
              "dict_keys(['data', 'target', 'frame', 'categories', 'feature_names', 'target_names', 'DESCR', 'details', 'url'])"
            ]
          },
          "metadata": {},
          "execution_count": 2
        }
      ]
    },
    {
      "cell_type": "markdown",
      "source": [
        "as_frame = True면 Pandas(DataFrame) 형태로.\n",
        "<br>\n",
        "False여서 그냥 numpy 형태.\n",
        "<br>\n",
        "그래서 출력결과 그냥 numpy 형태."
      ],
      "metadata": {
        "id": "bIf8n4Uzdzu-"
      }
    },
    {
      "cell_type": "code",
      "source": [
        "X, y = mnist['data'], mnist['target']\n",
        "print(X.shape)\n",
        "print('\\n')\n",
        "print(y.shape)"
      ],
      "metadata": {
        "colab": {
          "base_uri": "https://localhost:8080/"
        },
        "id": "kvMmBETGdkxy",
        "outputId": "3e0d6f3e-1c4c-4567-9d4b-512f729fe63b"
      },
      "execution_count": null,
      "outputs": [
        {
          "output_type": "stream",
          "name": "stdout",
          "text": [
            "(70000, 784)\n",
            "\n",
            "\n",
            "(70000,)\n"
          ]
        }
      ]
    },
    {
      "cell_type": "markdown",
      "source": [
        "target은 레이블 값. data는 (행,열)로 구성된 배열."
      ],
      "metadata": {
        "id": "hKQZ-AjIes3y"
      }
    },
    {
      "cell_type": "code",
      "source": [
        "import matplotlib.pyplot as plt\n",
        "import matplotlib as mpl\n",
        "\n",
        "some_digit = X[0]\n",
        "some_digit_image = some_digit.reshape(28, 28) #784였던 배열을, 28*28로 재배열.\n",
        "\n",
        "plt.imshow(some_digit_image, cmap = 'binary')\n",
        "plt.axis('off')\n",
        "plt.show()"
      ],
      "metadata": {
        "colab": {
          "base_uri": "https://localhost:8080/",
          "height": 406
        },
        "id": "Kn2ZdbsPejmC",
        "outputId": "6b304334-3834-495e-882a-580001751929"
      },
      "execution_count": null,
      "outputs": [
        {
          "output_type": "display_data",
          "data": {
            "text/plain": [
              "<Figure size 640x480 with 1 Axes>"
            ],
            "image/png": "[encoded data removed]"
          },
          "metadata": {}
        }
      ]
    },
    {
      "cell_type": "code",
      "source": [
        "y[0]"
      ],
      "metadata": {
        "colab": {
          "base_uri": "https://localhost:8080/",
          "height": 35
        },
        "id": "yiLU_jfWkLex",
        "outputId": "e33fcc41-a7f4-4a15-9a84-eb1c06f3ea7e"
      },
      "execution_count": null,
      "outputs": [
        {
          "output_type": "execute_result",
          "data": {
            "text/plain": [
              "'5'"
            ],
            "application/vnd.google.colaboratory.intrinsic+json": {
              "type": "string"
            }
          },
          "metadata": {},
          "execution_count": 5
        }
      ]
    },
    {
      "cell_type": "markdown",
      "source": [
        "실제 레이블로 확인 결과. 동일 '5'\n",
        "<br>\n",
        "근데, 레이블이 문자열로 되어있음."
      ],
      "metadata": {
        "id": "hsKw_1TolFRF"
      }
    },
    {
      "cell_type": "code",
      "source": [
        "import numpy as np\n",
        "\n",
        "y = y.astype(np.uint8)"
      ],
      "metadata": {
        "id": "jgFK7ZoGlCTO"
      },
      "execution_count": null,
      "outputs": []
    },
    {
      "cell_type": "code",
      "source": [
        "y[0]"
      ],
      "metadata": {
        "colab": {
          "base_uri": "https://localhost:8080/"
        },
        "id": "RWra7vg9lPy0",
        "outputId": "83cf8361-69bb-43f8-e9df-f5e4230a15ea"
      },
      "execution_count": null,
      "outputs": [
        {
          "output_type": "execute_result",
          "data": {
            "text/plain": [
              "5"
            ]
          },
          "metadata": {},
          "execution_count": 7
        }
      ]
    },
    {
      "cell_type": "markdown",
      "source": [
        "그래서 y값 정수로 변환.\n",
        "<br>\n",
        "확인 결과 정수값 5"
      ],
      "metadata": {
        "id": "xXjbAIexlcU_"
      }
    },
    {
      "cell_type": "code",
      "source": [
        "X_train, X_test, y_train, y_test = X[:60000],X[60000:], y[:60000], y[60000:]"
      ],
      "metadata": {
        "id": "ZC6beWp-lhyk"
      },
      "execution_count": null,
      "outputs": []
    },
    {
      "cell_type": "markdown",
      "source": [
        "트레인 세트(60000개), 테스트 세트(10000)개 분류 "
      ],
      "metadata": {
        "id": "rXNmA8TBmA2M"
      }
    },
    {
      "cell_type": "markdown",
      "source": [
        "<h3> 이진 분류 </h3>\n",
        "<br>\n",
        "예를 들어, '숫자 5가 맞고', '숫자 5가 아니고' 이렇게 두 개의 클래스로 분류할 수 있는게 <h3>이진 분류</h3>"
      ],
      "metadata": {
        "id": "z5pX0gf4mP5Y"
      }
    },
    {
      "cell_type": "code",
      "source": [
        "y_train_5 = (y_train == 5) # 5면 True, 5가 아니면 전부 False\n",
        "y_test_5 = (y_test == 5) # 5면 True, 5가 아니면 전부 False"
      ],
      "metadata": {
        "id": "hjIn-r_Sl_Pc"
      },
      "execution_count": null,
      "outputs": []
    },
    {
      "cell_type": "code",
      "source": [
        "from sklearn.linear_model import SGDClassifier\n",
        "\n",
        "sgd_clf = SGDClassifier(random_state = 42)\n",
        "sgd_clf.fit(X_train, y_train_5)"
      ],
      "metadata": {
        "colab": {
          "base_uri": "https://localhost:8080/",
          "height": 74
        },
        "id": "0UnaipIym-Wp",
        "outputId": "47429577-082b-449b-a050-5cc29481a7bf"
      },
      "execution_count": null,
      "outputs": [
        {
          "output_type": "execute_result",
          "data": {
            "text/plain": [
              "SGDClassifier(random_state=42)"
            ],
            "text/html": [
              "<style>#sk-container-id-1 {color: black;background-color: white;}#sk-container-id-1 pre{padding: 0;}#sk-container-id-1 div.sk-toggleable {background-color: white;}#sk-container-id-1 label.sk-toggleable__label {cursor: pointer;display: block;width: 100%;margin-bottom: 0;padding: 0.3em;box-sizing: border-box;text-align: center;}#sk-container-id-1 label.sk-toggleable__label-arrow:before {content: \"▸\";float: left;margin-right: 0.25em;color: #696969;}#sk-container-id-1 label.sk-toggleable__label-arrow:hover:before {color: black;}#sk-container-id-1 div.sk-estimator:hover label.sk-toggleable__label-arrow:before {color: black;}#sk-container-id-1 div.sk-toggleable__content {max-height: 0;max-width: 0;overflow: hidden;text-align: left;background-color: #f0f8ff;}#sk-container-id-1 div.sk-toggleable__content pre {margin: 0.2em;color: black;border-radius: 0.25em;background-color: #f0f8ff;}#sk-container-id-1 input.sk-toggleable__control:checked~div.sk-toggleable__content {max-height: 200px;max-width: 100%;overflow: auto;}#sk-container-id-1 input.sk-toggleable__control:checked~label.sk-toggleable__label-arrow:before {content: \"▾\";}#sk-container-id-1 div.sk-estimator input.sk-toggleable__control:checked~label.sk-toggleable__label {background-color: #d4ebff;}#sk-container-id-1 div.sk-label input.sk-toggleable__control:checked~label.sk-toggleable__label {background-color: #d4ebff;}#sk-container-id-1 input.sk-hidden--visually {border: 0;clip: rect(1px 1px 1px 1px);clip: rect(1px, 1px, 1px, 1px);height: 1px;margin: -1px;overflow: hidden;padding: 0;position: absolute;width: 1px;}#sk-container-id-1 div.sk-estimator {font-family: monospace;background-color: #f0f8ff;border: 1px dotted black;border-radius: 0.25em;box-sizing: border-box;margin-bottom: 0.5em;}#sk-container-id-1 div.sk-estimator:hover {background-color: #d4ebff;}#sk-container-id-1 div.sk-parallel-item::after {content: \"\";width: 100%;border-bottom: 1px solid gray;flex-grow: 1;}#sk-container-id-1 div.sk-label:hover label.sk-toggleable__label {background-color: #d4ebff;}#sk-container-id-1 div.sk-serial::before {content: \"\";position: absolute;border-left: 1px solid gray;box-sizing: border-box;top: 0;bottom: 0;left: 50%;z-index: 0;}#sk-container-id-1 div.sk-serial {display: flex;flex-direction: column;align-items: center;background-color: white;padding-right: 0.2em;padding-left: 0.2em;position: relative;}#sk-container-id-1 div.sk-item {position: relative;z-index: 1;}#sk-container-id-1 div.sk-parallel {display: flex;align-items: stretch;justify-content: center;background-color: white;position: relative;}#sk-container-id-1 div.sk-item::before, #sk-container-id-1 div.sk-parallel-item::before {content: \"\";position: absolute;border-left: 1px solid gray;box-sizing: border-box;top: 0;bottom: 0;left: 50%;z-index: -1;}#sk-container-id-1 div.sk-parallel-item {display: flex;flex-direction: column;z-index: 1;position: relative;background-color: white;}#sk-container-id-1 div.sk-parallel-item:first-child::after {align-self: flex-end;width: 50%;}#sk-container-id-1 div.sk-parallel-item:last-child::after {align-self: flex-start;width: 50%;}#sk-container-id-1 div.sk-parallel-item:only-child::after {width: 0;}#sk-container-id-1 div.sk-dashed-wrapped {border: 1px dashed gray;margin: 0 0.4em 0.5em 0.4em;box-sizing: border-box;padding-bottom: 0.4em;background-color: white;}#sk-container-id-1 div.sk-label label {font-family: monospace;font-weight: bold;display: inline-block;line-height: 1.2em;}#sk-container-id-1 div.sk-label-container {text-align: center;}#sk-container-id-1 div.sk-container {/* jupyter's `normalize.less` sets `[hidden] { display: none; }` but bootstrap.min.css set `[hidden] { display: none !important; }` so we also need the `!important` here to be able to override the default hidden behavior on the sphinx rendered scikit-learn.org. See: https://github.com/scikit-learn/scikit-learn/issues/21755 */display: inline-block !important;position: relative;}#sk-container-id-1 div.sk-text-repr-fallback {display: none;}</style><div id=\"sk-container-id-1\" class=\"sk-top-container\"><div class=\"sk-text-repr-fallback\"><pre>SGDClassifier(random_state=42)</pre><b>In a Jupyter environment, please rerun this cell to show the HTML representation or trust the notebook. <br />On GitHub, the HTML representation is unable to render, please try loading this page with nbviewer.org.</b></div><div class=\"sk-container\" hidden><div class=\"sk-item\"><div class=\"sk-estimator sk-toggleable\"><input class=\"sk-toggleable__control sk-hidden--visually\" id=\"sk-estimator-id-1\" type=\"checkbox\" checked><label for=\"sk-estimator-id-1\" class=\"sk-toggleable__label sk-toggleable__label-arrow\">SGDClassifier</label><div class=\"sk-toggleable__content\"><pre>SGDClassifier(random_state=42)</pre></div></div></div></div></div>"
            ]
          },
          "metadata": {},
          "execution_count": 10
        }
      ]
    },
    {
      "cell_type": "markdown",
      "source": [
        "분류기: 확률적 경사 하강법(SGD) 사용."
      ],
      "metadata": {
        "id": "4xov-YjIoN6U"
      }
    },
    {
      "cell_type": "code",
      "source": [
        "sgd_clf.predict([some_digit]) #위에 SGD로 이미지 5를 나타내는지 예측해보니 True로."
      ],
      "metadata": {
        "colab": {
          "base_uri": "https://localhost:8080/"
        },
        "id": "EpgEApsvoFHI",
        "outputId": "1c216dc0-8ad9-4c5f-a8d3-7f30448aead8"
      },
      "execution_count": null,
      "outputs": [
        {
          "output_type": "execute_result",
          "data": {
            "text/plain": [
              "array([ True])"
            ]
          },
          "metadata": {},
          "execution_count": 11
        }
      ]
    },
    {
      "cell_type": "code",
      "source": [
        "from sklearn.model_selection import cross_val_score\n",
        "\n",
        "cross_val_score(sgd_clf, X_train, y_train_5, cv = 3, scoring = 'accuracy')"
      ],
      "metadata": {
        "colab": {
          "base_uri": "https://localhost:8080/"
        },
        "id": "97_Pe_MHoqwf",
        "outputId": "59733350-1b3c-429a-9814-71a6be406fd8"
      },
      "execution_count": null,
      "outputs": [
        {
          "output_type": "execute_result",
          "data": {
            "text/plain": [
              "array([0.95035, 0.96035, 0.9604 ])"
            ]
          },
          "metadata": {},
          "execution_count": 12
        }
      ]
    },
    {
      "cell_type": "markdown",
      "source": [
        "k-교차검증. k = 3으로.\n",
        "<br>\n",
        "정확도 전부 95% 넘음.\n",
        "<br>\n",
        "나중에는 쓸 때 이걸 평균내서 사용."
      ],
      "metadata": {
        "id": "Iz9o4-t8rOOC"
      }
    },
    {
      "cell_type": "code",
      "source": [
        "from sklearn.base import BaseEstimator\n",
        "\n",
        "class Never5Classifier(BaseEstimator):\n",
        "    def fit(self, X, y = None):\n",
        "        return self\n",
        "\n",
        "    def predict(self, X):\n",
        "        return np.zeros((len(X), 1), dtype = bool)"
      ],
      "metadata": {
        "id": "XC_9E90AqIlK"
      },
      "execution_count": null,
      "outputs": []
    },
    {
      "cell_type": "markdown",
      "source": [
        "<h3> 더미 분류기.</h3>\n",
        "<br> \n",
        "5가 아닌걸 따로 분류하는 분류기.\n",
        "<br>\n",
        "np.zeros로 반환 값 전부 0으로 만듦."
      ],
      "metadata": {
        "id": "kxQ1AOdFsHaY"
      }
    },
    {
      "cell_type": "code",
      "source": [
        "never_5_clf = Never5Classifier()\n",
        "cross_val_score(never_5_clf, X_train, y_train_5, cv = 3, scoring = 'accuracy')"
      ],
      "metadata": {
        "colab": {
          "base_uri": "https://localhost:8080/"
        },
        "id": "6Me5Tmf7sGVx",
        "outputId": "db6ccfe7-f633-4bcf-9292-8a25b3416bb2"
      },
      "execution_count": null,
      "outputs": [
        {
          "output_type": "execute_result",
          "data": {
            "text/plain": [
              "array([0.91125, 0.90855, 0.90915])"
            ]
          },
          "metadata": {},
          "execution_count": 14
        }
      ]
    },
    {
      "cell_type": "markdown",
      "source": [
        "정확도는 아까보다 낮아졌다, '불균형이 심한' 데이터 다룰땐 주의할 것."
      ],
      "metadata": {
        "id": "gIs3hz6qub29"
      }
    },
    {
      "cell_type": "code",
      "source": [
        "from sklearn.model_selection import cross_val_predict\n",
        "\n",
        "y_train_pred = cross_val_predict(sgd_clf, X_train, y_train_5, cv = 3)"
      ],
      "metadata": {
        "id": "D1jWUZxNtZhX"
      },
      "execution_count": null,
      "outputs": []
    },
    {
      "cell_type": "code",
      "source": [
        "print(y_train_pred)"
      ],
      "metadata": {
        "colab": {
          "base_uri": "https://localhost:8080/"
        },
        "id": "LCxb0BDACHS4",
        "outputId": "a9dc93b7-afc1-463d-9156-afab8fec9664"
      },
      "execution_count": null,
      "outputs": [
        {
          "output_type": "stream",
          "name": "stdout",
          "text": [
            "[ True False False ...  True False False]\n"
          ]
        }
      ]
    },
    {
      "cell_type": "markdown",
      "source": [
        "<h5> 오차 행렬 </h5>\n",
        "<br>\n",
        "동일하게 k-교차 검증 하긴 하는데, 어떤 점수를 내는게 아니라, 참 거짓 형태로.(True, False)"
      ],
      "metadata": {
        "id": "cRDcg0psCVv8"
      }
    },
    {
      "cell_type": "code",
      "source": [
        "from sklearn.metrics import confusion_matrix\n",
        "confusion_matrix(y_train_5, y_train_pred)"
      ],
      "metadata": {
        "colab": {
          "base_uri": "https://localhost:8080/"
        },
        "id": "hAKDTdZACQsp",
        "outputId": "419c0b7b-5351-452a-e2ee-c527ae44130d"
      },
      "execution_count": null,
      "outputs": [
        {
          "output_type": "execute_result",
          "data": {
            "text/plain": [
              "array([[53892,   687],\n",
              "       [ 1891,  3530]])"
            ]
          },
          "metadata": {},
          "execution_count": 17
        }
      ]
    },
    {
      "cell_type": "markdown",
      "source": [
        "[[not 5 맞음, 5라 잘못], [not 5 잘못, 5 맞음]]\n",
        "<br>\n",
        "[[진짜 음성(TN), 거짓 양성(FP)], [거짓 음성(FN), 진짜 양성(TP)]]"
      ],
      "metadata": {
        "id": "J5A2xw8CFWQm"
      }
    },
    {
      "cell_type": "markdown",
      "source": [
        "정확도(accuracy) = (TN + TP) / (TP + FN + TN + FP) \n",
        "<br>\n",
        "정밀도(precision) = TP / (TP + FP) -> 양성 예측 정확도\n",
        "<br>\n",
        "재현율(recall) = TP / (TP + FN) -> 진짜 양성 비율(TPR), 정확한 감지 비율"
      ],
      "metadata": {
        "id": "NoNcSZDSGNV6"
      }
    },
    {
      "cell_type": "code",
      "source": [
        "from sklearn.metrics import precision_score, recall_score\n",
        "\n",
        "print(precision_score(y_train_5, y_train_pred)) #정밀도 \n",
        "print('\\n')\n",
        "print(recall_score(y_train_5, y_train_pred)) #재현율"
      ],
      "metadata": {
        "colab": {
          "base_uri": "https://localhost:8080/"
        },
        "id": "ZOWalseMEADZ",
        "outputId": "174d06dc-17a7-4b72-f495-78bedc1dd8d7"
      },
      "execution_count": null,
      "outputs": [
        {
          "output_type": "stream",
          "name": "stdout",
          "text": [
            "0.8370879772350012\n",
            "\n",
            "\n",
            "0.6511713705958311\n"
          ]
        }
      ]
    },
    {
      "cell_type": "markdown",
      "source": [
        "확인 결과, 5로 판별된 데이터 중에서 83%정도만 정확\n",
        "<br>\n",
        "5로 판별된 데이터 중 65%만 정확하게 감지."
      ],
      "metadata": {
        "id": "xlKILe1NIsub"
      }
    },
    {
      "cell_type": "markdown",
      "source": [
        "'F1 점수'라는 것이 있는데, 정밀도와 재현율의 '조화평균'임.\n",
        "<br>\n",
        "F1 = TP / (TP + (FN + FP) / 2) ->이게 F1 식."
      ],
      "metadata": {
        "id": "p_osMqNhJpVe"
      }
    },
    {
      "cell_type": "code",
      "source": [
        "from sklearn.metrics import f1_score\n",
        "f1_score(y_train_5, y_train_pred)"
      ],
      "metadata": {
        "colab": {
          "base_uri": "https://localhost:8080/"
        },
        "id": "Q1KDjxVnILEr",
        "outputId": "fdf6bbf6-2621-40ae-e80b-1816212a8621"
      },
      "execution_count": null,
      "outputs": [
        {
          "output_type": "execute_result",
          "data": {
            "text/plain": [
              "0.7325171197343846"
            ]
          },
          "metadata": {},
          "execution_count": 19
        }
      ]
    },
    {
      "cell_type": "markdown",
      "source": [
        "ex)\n",
        "<br> 어린아이를 위한 안전한 동영상 분류(낮은 재현율, 높은 정밀도)\n",
        "<br> CCTV이용한 도둑잡기(높은 재현율, 낮은 정밀도)\n",
        "\n",
        "<br>\n",
        "<br>\n",
        "정밀도와 재현율을 모두 높일 수는 없는데, 이를 '정밀도/재현율 트레이드오프'라고 한다. ->정밀도와 재현율은 서로 반비례 값."
      ],
      "metadata": {
        "id": "SdmNs7VHLk4O"
      }
    },
    {
      "cell_type": "code",
      "source": [
        "y_scores = sgd_clf.decision_function([some_digit])\n",
        "print(y_scores)\n",
        "\n",
        "print('\\n')\n",
        "\n",
        "threshold = 0\n",
        "y_some_digit_pred = (y_scores > threshold)\n",
        "print(y_some_digit_pred)"
      ],
      "metadata": {
        "colab": {
          "base_uri": "https://localhost:8080/"
        },
        "id": "njvDQA92KhWr",
        "outputId": "e375d14d-3ec7-40c4-e14c-dad52f56e3e1"
      },
      "execution_count": null,
      "outputs": [
        {
          "output_type": "stream",
          "name": "stdout",
          "text": [
            "[2164.22030239]\n",
            "\n",
            "\n",
            "[ True]\n"
          ]
        }
      ]
    },
    {
      "cell_type": "code",
      "source": [
        "threshold = 8000\n",
        "y_some_digit_pred = (y_scores > threshold)\n",
        "y_some_digit_pred"
      ],
      "metadata": {
        "colab": {
          "base_uri": "https://localhost:8080/"
        },
        "id": "3K61EA0TSPu3",
        "outputId": "5842ff0f-9ad7-473d-edd7-86a11cc006bb"
      },
      "execution_count": null,
      "outputs": [
        {
          "output_type": "execute_result",
          "data": {
            "text/plain": [
              "array([False])"
            ]
          },
          "metadata": {},
          "execution_count": 21
        }
      ]
    },
    {
      "cell_type": "markdown",
      "source": [
        "'decision_function()' 메서드 호출하면, 각 샘플에 대한 점수 확인 가능.\n",
        "<br>\n",
        "샘플 점수 확인, 예측값 2164.\n",
        "<br>\n",
        "확인 결과, 임계값 올릴 수록, 재현율 줄어듦.\n",
        "<br>\n",
        "하지만, 임계값 설정이 너무 극단적. 적절한 임계값 정의 필요."
      ],
      "metadata": {
        "id": "b6vblPncS5ik"
      }
    },
    {
      "cell_type": "code",
      "source": [
        "y_scores = cross_val_predict(sgd_clf, X_train, y_train_5, cv = 3,\n",
        "                             method = 'decision_function')"
      ],
      "metadata": {
        "id": "A9iWKC9lSgwR"
      },
      "execution_count": null,
      "outputs": []
    },
    {
      "cell_type": "markdown",
      "source": [
        "cross_val_predict()함수 써서, 샘플 점수 얻기. 이번에는 예측 결과가 아닌, '결정점수' 받도록. 그래서 'decision_function'"
      ],
      "metadata": {
        "id": "eaehV69QU7U4"
      }
    },
    {
      "cell_type": "code",
      "source": [
        "from sklearn.metrics import precision_recall_curve\n",
        "\n",
        "precisions, recalls, thresholds = precision_recall_curve(y_train_5, y_scores)"
      ],
      "metadata": {
        "id": "FzevYN5OUnEi"
      },
      "execution_count": null,
      "outputs": []
    },
    {
      "cell_type": "markdown",
      "source": [
        "'precision_recall_curve'로 모든 임계값에 대한 정밀도 & 재현율 구하기 가능."
      ],
      "metadata": {
        "id": "JWT6JPDGWH2b"
      }
    },
    {
      "cell_type": "code",
      "source": [
        "def plot_precision_recall_vs_threshold(precisions, recalls, thresholds):\n",
        "    plt.plot(thresholds, precisions[:-1], \"b--\", label=\"Precision\", linewidth=2) \n",
        "    plt.plot(thresholds, recalls[:-1], \"g-\", label=\"Recall\", linewidth=2)        \n",
        "    plt.legend(loc=\"center right\", fontsize=16)\n",
        "    plt.xlabel(\"Threshold\", fontsize=16)       \n",
        "    plt.grid(True)                             \n",
        "    plt.axis([-50000, 50000, 0, 1])            \n",
        "\n",
        "\n",
        "recall_90_precision = recalls[np.argmax(precisions >= 0.90)]\n",
        "threshold_90_precision = thresholds[np.argmax(precisions >= 0.90)]\n",
        "\n",
        "\n",
        "plt.figure(figsize=(8, 4))                                  \n",
        "plot_precision_recall_vs_threshold(precisions, recalls, thresholds)\n",
        "plt.plot([threshold_90_precision, threshold_90_precision], [0., 0.9], \"r:\")  \n",
        "plt.plot([-50000, threshold_90_precision], [0.9, 0.9], \"r:\")                 \n",
        "plt.plot([-50000, threshold_90_precision], [recall_90_precision, recall_90_precision], \"r:\")  \n",
        "plt.plot([threshold_90_precision], [0.9], \"ro\")                               \n",
        "plt.plot([threshold_90_precision], [recall_90_precision], \"ro\")              \n",
        "\n",
        "#save_fig(\"precision_recall_vs_threshold_plot\")                                \n",
        "plt.show()"
      ],
      "metadata": {
        "colab": {
          "base_uri": "https://localhost:8080/",
          "height": 399
        },
        "id": "BV_MSTpiWDOd",
        "outputId": "75fc38f1-bef7-4c5e-87ba-00e94c8ac0be"
      },
      "execution_count": null,
      "outputs": [
        {
          "output_type": "display_data",
          "data": {
            "text/plain": [
              "<Figure size 800x400 with 1 Axes>"
            ],
            "image/png": "[encoded data removed]"
          },
          "metadata": {}
        }
      ]
    },
    {
      "cell_type": "markdown",
      "source": [
        "정밀도가 올라갈 수록 재현율 내려가고, 재현율 올라가면, 정밀도 올라가는 것, 그래프로 확인.\n",
        "<br>\n",
        "위에 정밀도 그래프 꾸불꾸불 한 이유는, 그림으로 확인 결과, 숫자 하나 이동만큼, 정밀도 올라갔다 내려갔다 반복."
      ],
      "metadata": {
        "id": "QipdCtAHYyRU"
      }
    },
    {
      "cell_type": "code",
      "source": [
        "def plot_precision_vs_recall(precisions, recalls):\n",
        "    plt.plot(recalls, precisions, \"b-\", linewidth=2)\n",
        "    plt.xlabel(\"Recall\", fontsize=16)\n",
        "    plt.ylabel(\"Precision\", fontsize=16)\n",
        "    plt.axis([0, 1, 0, 1])\n",
        "    plt.grid(True)\n",
        "    \n",
        "plt.figure(figsize=(8, 6))\n",
        "plot_precision_vs_recall(precisions, recalls)\n",
        "\n",
        "\n",
        "plt.plot([recall_90_precision, recall_90_precision], [0., 0.9], \"r:\") \n",
        "plt.plot([0.0, recall_90_precision], [0.9, 0.9], \"r:\")      \n",
        "plt.plot([recall_90_precision], [0.9], \"ro\") \n",
        "#save_fig(\"precision_vs_recall_plot\")\n",
        "plt.show()"
      ],
      "metadata": {
        "colab": {
          "base_uri": "https://localhost:8080/",
          "height": 553
        },
        "id": "ufyqB06EXI_3",
        "outputId": "e2e1abf9-d389-411d-c024-d82c4a3836a3"
      },
      "execution_count": null,
      "outputs": [
        {
          "output_type": "display_data",
          "data": {
            "text/plain": [
              "<Figure size 800x600 with 1 Axes>"
            ],
            "image/png": "[encoded data removed]"
          },
          "metadata": {}
        }
      ]
    },
    {
      "cell_type": "markdown",
      "source": [
        "정밀도/재현율 트레이드오프 그래프로 선택하는 또 다른 방법.\n",
        "<br> \n",
        "정밀도 90% 달성이 목표라는 가정.\n",
        "<br>\n"
      ],
      "metadata": {
        "id": "2dD5amdqc27p"
      }
    },
    {
      "cell_type": "code",
      "source": [
        "threshold_90_precision = thresholds[np.argmax(precisions >= 0.90)] # np.argmax는 첫번째 True값."
      ],
      "metadata": {
        "id": "EUAqwmfDcuoj"
      },
      "execution_count": null,
      "outputs": []
    },
    {
      "cell_type": "code",
      "source": [
        "y_train_pred_90 = (y_scores >= threshold_90_precision)"
      ],
      "metadata": {
        "id": "Hh9L6ChFdvX5"
      },
      "execution_count": null,
      "outputs": []
    },
    {
      "cell_type": "markdown",
      "source": [
        "아까처럼, 임의 지정이 아닌, 목표점수에서의 임계값으로 설정 가능."
      ],
      "metadata": {
        "id": "cGVEnTZJecnY"
      }
    },
    {
      "cell_type": "code",
      "source": [
        "print(precision_score(y_train_5, y_train_pred_90))\n",
        "print(recall_score(y_train_5, y_train_pred_90))"
      ],
      "metadata": {
        "colab": {
          "base_uri": "https://localhost:8080/"
        },
        "id": "hvz3U6_TeZEi",
        "outputId": "1b8fe8cd-97ec-4331-dba0-451e1459677e"
      },
      "execution_count": null,
      "outputs": [
        {
          "output_type": "stream",
          "name": "stdout",
          "text": [
            "0.9000345901072293\n",
            "0.4799852425751706\n"
          ]
        }
      ]
    },
    {
      "cell_type": "markdown",
      "source": [
        "정밀도는 90 달성, 재현율은 47로 너무 낮아서 이 분류기는 좋지 않다."
      ],
      "metadata": {
        "id": "HVlMoS9WfCHr"
      }
    },
    {
      "cell_type": "code",
      "source": [
        "from sklearn.metrics import roc_curve\n",
        "\n",
        "fpr, tpr, thresholds = roc_curve(y_train_5, y_scores)"
      ],
      "metadata": {
        "id": "C--xVQfae026"
      },
      "execution_count": null,
      "outputs": []
    },
    {
      "cell_type": "markdown",
      "source": [
        "<h3> ROC곡선 </h3>\n",
        "ROC곡선은 재현율에 대한 1-TNR(특이도)\n",
        "<br>\n",
        "FPR = FP / (FP + TN) = (FP + TN - TN) / (FP + TN) = 1 - TN / (FP + TN) = 1 - TNR\n",
        "<br>\n",
        "ROC 곡선을 그리려면, roc_curve() 함수 사용해서. TPR, FPR 계산."
      ],
      "metadata": {
        "id": "Zw-ksugCnual"
      }
    },
    {
      "cell_type": "code",
      "source": [
        "def plot_roc_curve(fpr, tpr, label=None):\n",
        "    plt.plot(fpr, tpr, linewidth=2, label=label)\n",
        "    plt.plot([0, 1], [0, 1], 'k--') \n",
        "    plt.axis([0, 1, 0, 1])                                    \n",
        "    plt.xlabel('False Positive Rate (Fall-Out)', fontsize=16) \n",
        "    plt.ylabel('True Positive Rate (Recall)', fontsize=16)    \n",
        "    plt.grid(True)                                            \n",
        "\n",
        "plt.figure(figsize=(8, 6))                                    \n",
        "plot_roc_curve(fpr, tpr)\n",
        "\n",
        "fpr_90 = fpr[np.argmax(tpr >= recall_90_precision)]      \n",
        "\n",
        "plt.plot([fpr_90, fpr_90], [0., recall_90_precision], \"r:\")   \n",
        "plt.plot([0.0, fpr_90], [recall_90_precision, recall_90_precision], \"r:\")  \n",
        "plt.plot([fpr_90], [recall_90_precision], \"ro\")  \n",
        "#save_fig(\"roc_curve_plot\")\n",
        "plt.show()"
      ],
      "metadata": {
        "colab": {
          "base_uri": "https://localhost:8080/",
          "height": 553
        },
        "id": "dUUAT695ntvY",
        "outputId": "ef1b84e7-11e5-4717-9c97-e65770db7b35"
      },
      "execution_count": null,
      "outputs": [
        {
          "output_type": "display_data",
          "data": {
            "text/plain": [
              "<Figure size 800x600 with 1 Axes>"
            ],
            "image/png": "[encoded data removed]"
          },
          "metadata": {}
        }
      ]
    },
    {
      "cell_type": "markdown",
      "source": [
        "면적이 1이 될수록 더 좋은 분류기.\n",
        "<br>\n",
        "재현율(TPR)이 높을 수록, 거짓양성(FPR)이 늘어남."
      ],
      "metadata": {
        "id": "1y4S-JaspXhv"
      }
    },
    {
      "cell_type": "code",
      "source": [
        "from sklearn.metrics import roc_auc_score\n",
        "roc_auc_score(y_train_5, y_scores)"
      ],
      "metadata": {
        "colab": {
          "base_uri": "https://localhost:8080/"
        },
        "id": "tWkOF0pFpMpK",
        "outputId": "2b4faaab-8355-42cb-b516-3c7e74dc6792"
      },
      "execution_count": null,
      "outputs": [
        {
          "output_type": "execute_result",
          "data": {
            "text/plain": [
              "0.9604938554008616"
            ]
          },
          "metadata": {},
          "execution_count": 33
        }
      ]
    },
    {
      "cell_type": "markdown",
      "source": [
        "곡선아래 면적(AUC)를 측정하면, 좋은 분류기는 AUC가 1.\n",
        "<br>\n",
        "완전한 렌덤 분류기는 0.5"
      ],
      "metadata": {
        "id": "jJCb2y9IqTcd"
      }
    },
    {
      "cell_type": "markdown",
      "source": [
        "양성 클래스 드물고, 거짓 음성보다 거짓 양성이 더 중요 -> PR곡선 사용.\n",
        "<br>\n",
        "아니면 ROC곡선."
      ],
      "metadata": {
        "id": "etpeHip5qopK"
      }
    },
    {
      "cell_type": "code",
      "source": [
        "from sklearn.ensemble import RandomForestClassifier\n",
        "\n",
        "forest_clf = RandomForestClassifier(random_state = 42)\n",
        "y_probas_forest = cross_val_predict(forest_clf, X_train, y_train_5, cv = 3, method = 'predict_proba')"
      ],
      "metadata": {
        "id": "4y7zTjCfqSLD"
      },
      "execution_count": null,
      "outputs": []
    },
    {
      "cell_type": "markdown",
      "source": [
        "RandomForestClassifier에서의 predict_proba() 메서드 -> 주어진 샘플이 속할 확률(ex. 어떤 이미지가 5일 확률 70%)"
      ],
      "metadata": {
        "id": "Zgu7c8WLPrS8"
      }
    },
    {
      "cell_type": "code",
      "source": [
        "y_probas_forest"
      ],
      "metadata": {
        "colab": {
          "base_uri": "https://localhost:8080/"
        },
        "id": "hsOCxEborpMM",
        "outputId": "516ea461-8bd7-4b45-9d98-59668cec1bea"
      },
      "execution_count": null,
      "outputs": [
        {
          "output_type": "execute_result",
          "data": {
            "text/plain": [
              "array([[0.11, 0.89],\n",
              "       [0.99, 0.01],\n",
              "       [0.96, 0.04],\n",
              "       ...,\n",
              "       [0.02, 0.98],\n",
              "       [0.92, 0.08],\n",
              "       [0.94, 0.06]])"
            ]
          },
          "metadata": {},
          "execution_count": 35
        }
      ]
    },
    {
      "cell_type": "code",
      "source": [
        "y_scores_forest = y_probas_forest[:, 1] # 점수 = 양성 클래스의 확률(확률을 점수로 사용.)\n",
        "\n",
        "fpr_forest, tpr_forest, thresholds_forest = roc_curve(y_train_5, y_scores_forest)"
      ],
      "metadata": {
        "id": "3bVcNHj2rvU9"
      },
      "execution_count": null,
      "outputs": []
    },
    {
      "cell_type": "code",
      "source": [
        "plt.plot(fpr, tpr, 'b', label = 'SGD')\n",
        "plot_roc_curve(fpr_forest, tpr_forest, \"Random Forest\")\n",
        "plt.legend(loc = 'lower right')\n",
        "plt.show()"
      ],
      "metadata": {
        "colab": {
          "base_uri": "https://localhost:8080/",
          "height": 461
        },
        "id": "-LMKN0Wurvur",
        "outputId": "6aa90f95-54e2-4308-8688-d9a0d782d510"
      },
      "execution_count": null,
      "outputs": [
        {
          "output_type": "display_data",
          "data": {
            "text/plain": [
              "<Figure size 640x480 with 1 Axes>"
            ],
            "image/png": "[encoded data removed]"
          },
          "metadata": {}
        }
      ]
    },
    {
      "cell_type": "markdown",
      "source": [
        "ROC 곡선 결과, RandomForestClassifier가 더 좋다."
      ],
      "metadata": {
        "id": "zrjtdzLKQYIh"
      }
    },
    {
      "cell_type": "code",
      "source": [
        "roc_auc_score(y_train_5, y_scores_forest)"
      ],
      "metadata": {
        "colab": {
          "base_uri": "https://localhost:8080/"
        },
        "id": "JvxpjKGAsVIS",
        "outputId": "30ef6a28-eb9e-4b09-a9ca-df4e1bcb0345"
      },
      "execution_count": null,
      "outputs": [
        {
          "output_type": "execute_result",
          "data": {
            "text/plain": [
              "0.9983436731328145"
            ]
          },
          "metadata": {},
          "execution_count": 38
        }
      ]
    },
    {
      "cell_type": "markdown",
      "source": [
        "점수로 봐도 99%정도. 더 좋음"
      ],
      "metadata": {
        "id": "LzKPPKgjRMPD"
      }
    },
    {
      "cell_type": "markdown",
      "source": [
        "다중 분류기 -> 둘 이상의 클래스 구별.\n",
        "<br>\n",
        "<br>\n",
        "결정 점수 중에서 가장 높은 것 선택 -> OvR전략 = OvA\n",
        "<br>\n",
        "각 숫자 조합마다 이진 분류 훈련 -> OvO전략(ex. 분류기 전부 통과시켜서 양성으로 가장 많이 분류된 것 선택)"
      ],
      "metadata": {
        "id": "DLxU5QZDSD9Q"
      }
    },
    {
      "cell_type": "markdown",
      "source": [
        "훈련세트 작은 것 -> OvO 선호\n",
        "<br>\n",
        "대부분 이진 분류에서는 OvR 사용."
      ],
      "metadata": {
        "id": "wSnDwZ_2TEJT"
      }
    },
    {
      "cell_type": "code",
      "source": [
        "from sklearn.svm import SVC\n",
        "svm_clf = SVC()\n",
        "svm_clf.fit(X_train, y_train)\n",
        "svm_clf.predict([some_digit])"
      ],
      "metadata": {
        "id": "V09LzjABsac5",
        "colab": {
          "base_uri": "https://localhost:8080/"
        },
        "outputId": "c26dc6a4-aa8f-4ca6-afcc-203a60e9385c"
      },
      "execution_count": null,
      "outputs": [
        {
          "output_type": "execute_result",
          "data": {
            "text/plain": [
              "array([5], dtype=uint8)"
            ]
          },
          "metadata": {},
          "execution_count": 42
        }
      ]
    },
    {
      "cell_type": "markdown",
      "source": [
        "일부로 y_train_5로 해준 것이 아닌, 원래 타깃 데이터로 훈련. -> 'OvR'전략."
      ],
      "metadata": {
        "id": "GqMZf2sjTnR6"
      }
    },
    {
      "cell_type": "code",
      "source": [
        "some_digit_scores = svm_clf.decision_function([some_digit])\n",
        "some_digit_scores"
      ],
      "metadata": {
        "colab": {
          "base_uri": "https://localhost:8080/"
        },
        "id": "2fKSVi-LTiqa",
        "outputId": "6d67f763-6385-4af6-813d-5f9477180b62"
      },
      "execution_count": null,
      "outputs": [
        {
          "output_type": "execute_result",
          "data": {
            "text/plain": [
              "array([[ 1.72501977,  2.72809088,  7.2510018 ,  8.3076379 , -0.31087254,\n",
              "         9.3132482 ,  1.70975103,  2.76765202,  6.23049537,  4.84771048]])"
            ]
          },
          "metadata": {},
          "execution_count": 43
        }
      ]
    },
    {
      "cell_type": "markdown",
      "source": [
        "실제로 10개(0~9) 다 넣고 돌렸는지 확인.-> OvR로 한것인지 확인."
      ],
      "metadata": {
        "id": "rQfMvGZXVC1P"
      }
    },
    {
      "cell_type": "code",
      "source": [
        "print(np.argmax(some_digit_scores)) #argmax()로 최댓값 위치한 인덱스 반환.\n",
        "\n",
        "print(svm_clf.classes_) #사용된 클래스 확인.\n",
        " \n",
        "print(svm_clf.classes_[5]) #5번 인덱스에 해당하는 클래스.(우연히 5로 정확. 드문 경우.)"
      ],
      "metadata": {
        "colab": {
          "base_uri": "https://localhost:8080/"
        },
        "id": "m3QXluZ-U39_",
        "outputId": "0ffc409e-4643-45f0-a49e-1ddf47cf0052"
      },
      "execution_count": null,
      "outputs": [
        {
          "output_type": "stream",
          "name": "stdout",
          "text": [
            "5\n",
            "[0 1 2 3 4 5 6 7 8 9]\n",
            "5\n"
          ]
        }
      ]
    },
    {
      "cell_type": "markdown",
      "source": [
        "OvO, OvR 사용 강제 위해서는, OneVsRestClassifier사용. "
      ],
      "metadata": {
        "id": "hNV6BcJCdore"
      }
    },
    {
      "cell_type": "code",
      "source": [
        "from sklearn.multiclass import OneVsRestClassifier\n",
        "ovr_clf = OneVsRestClassifier(SVC())\n",
        "ovr_clf.fit(X_train, y_train)\n",
        "ovr_clf.predict([some_digit])\n"
      ],
      "metadata": {
        "colab": {
          "base_uri": "https://localhost:8080/"
        },
        "id": "Bw3GJYcwVZ2_",
        "outputId": "16b51559-8bfa-49a1-d77b-6775474b5ec4"
      },
      "execution_count": null,
      "outputs": [
        {
          "output_type": "execute_result",
          "data": {
            "text/plain": [
              "10"
            ]
          },
          "metadata": {},
          "execution_count": 49
        }
      ]
    },
    {
      "cell_type": "code",
      "source": [
        "sgd_clf.fit(X_train, y_train)\n",
        "sgd_clf.predict([some_digit])"
      ],
      "metadata": {
        "colab": {
          "base_uri": "https://localhost:8080/"
        },
        "id": "JtHpVK5mcKag",
        "outputId": "f39dd8fd-409a-4e4e-d991-cf4d0118406f"
      },
      "execution_count": null,
      "outputs": [
        {
          "output_type": "execute_result",
          "data": {
            "text/plain": [
              "array([3], dtype=uint8)"
            ]
          },
          "metadata": {},
          "execution_count": 51
        }
      ]
    },
    {
      "cell_type": "code",
      "source": [
        "sgd_clf.decision_function([some_digit])"
      ],
      "metadata": {
        "colab": {
          "base_uri": "https://localhost:8080/"
        },
        "id": "rfGcUlXieRA-",
        "outputId": "2bb27302-b399-4d93-cab5-a5418fc9ca31"
      },
      "execution_count": null,
      "outputs": [
        {
          "output_type": "execute_result",
          "data": {
            "text/plain": [
              "array([[-31893.03095419, -34419.69069632,  -9530.63950739,\n",
              "          1823.73154031, -22320.14822878,  -1385.80478895,\n",
              "        -26188.91070951, -16147.51323997,  -4604.35491274,\n",
              "        -12050.767298  ]])"
            ]
          },
          "metadata": {},
          "execution_count": 52
        }
      ]
    },
    {
      "cell_type": "markdown",
      "source": [
        "훈련 후, decision_function()메서드 사용하여 클래스 별 하나의 값 반환.\n",
        "<br>\n",
        "점수 확인 결과,대부분의 점수 음수,3을 의심.(5 이외에 양수)"
      ],
      "metadata": {
        "id": "zum7ONOeecBw"
      }
    },
    {
      "cell_type": "code",
      "source": [
        "cross_val_score(sgd_clf, X_train, y_train, cv = 3, scoring = 'accuracy') #교차검증 사용, 정확도 평가"
      ],
      "metadata": {
        "colab": {
          "base_uri": "https://localhost:8080/"
        },
        "id": "Ca72vUi6fQX0",
        "outputId": "a3e706fb-8633-40b9-db16-63b841395411"
      },
      "execution_count": null,
      "outputs": [
        {
          "output_type": "execute_result",
          "data": {
            "text/plain": [
              "array([0.87365, 0.85835, 0.8689 ])"
            ]
          },
          "metadata": {},
          "execution_count": 53
        }
      ]
    },
    {
      "cell_type": "code",
      "source": [
        "from sklearn.preprocessing import StandardScaler\n",
        "\n",
        "scaler = StandardScaler()\n",
        "X_train_scaled = scaler.fit_transform(X_train.astype(np.float64))\n",
        "cross_val_score(sgd_clf, X_train_scaled, y_train, cv = 3, scoring = 'accuracy')"
      ],
      "metadata": {
        "colab": {
          "base_uri": "https://localhost:8080/"
        },
        "id": "FGNJDdV4fYOE",
        "outputId": "c052eefb-c71c-4e85-db14-590b4f1f8372"
      },
      "execution_count": null,
      "outputs": [
        {
          "output_type": "execute_result",
          "data": {
            "text/plain": [
              "array([0.8983, 0.891 , 0.9018])"
            ]
          },
          "metadata": {},
          "execution_count": 54
        }
      ]
    },
    {
      "cell_type": "markdown",
      "source": [
        "첫 교차검증 시행 후, 정확도 높이려고 입력 스케일 조정."
      ],
      "metadata": {
        "id": "HePkmg1PgDSG"
      }
    }
  ]
}