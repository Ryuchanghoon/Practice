{
  "nbformat": 4,
  "nbformat_minor": 0,
  "metadata": {
    "colab": {
      "provenance": []
    },
    "kernelspec": {
      "name": "python3",
      "display_name": "Python 3"
    },
    "language_info": {
      "name": "python"
    }
  },
  "cells": [
    {
      "cell_type": "code",
      "execution_count": 1,
      "metadata": {
        "colab": {
          "base_uri": "https://localhost:8080/"
        },
        "id": "SN0e3IU9ES-V",
        "outputId": "ccdf59a8-fb78-40c5-e0e6-4a3853ff34db"
      },
      "outputs": [
        {
          "output_type": "stream",
          "name": "stdout",
          "text": [
            "\u001b[2K     \u001b[90m━━━━━━━━━━━━━━━━━━━━━━━━━━━━━━━━━━━━━━━━\u001b[0m \u001b[32m33.9/33.9 MB\u001b[0m \u001b[31m28.0 MB/s\u001b[0m eta \u001b[36m0:00:00\u001b[0m\n",
            "\u001b[?25h"
          ]
        }
      ],
      "source": [
        "!pip install -q mediapipe"
      ]
    },
    {
      "cell_type": "code",
      "source": [
        "import cv2\n",
        "import mediapipe as mp\n",
        "import numpy as np\n",
        "mp_drawing = mp.solutions.drawing_utils\n",
        "mp_drawing_styles = mp.solutions.drawing_styles\n",
        "mp_pose = mp.solutions.pose"
      ],
      "metadata": {
        "id": "07ing7z3Eyhs"
      },
      "execution_count": 5,
      "outputs": []
    },
    {
      "cell_type": "code",
      "source": [
        "input_video_path = \"/content/drive/MyDrive/테니스쿨/my_pose_brush.mp4\"\n",
        "save_video_path = 'tennischool_output_brush.mp4'"
      ],
      "metadata": {
        "id": "Wonn-HMHFOfN"
      },
      "execution_count": 15,
      "outputs": []
    },
    {
      "cell_type": "code",
      "source": [
        "cap = cv2.VideoCapture(input_video_path)"
      ],
      "metadata": {
        "id": "W0wzFFVwFT_r"
      },
      "execution_count": 16,
      "outputs": []
    },
    {
      "cell_type": "code",
      "source": [
        "width = cap.get(cv2.CAP_PROP_FRAME_WIDTH)\n",
        "height = cap.get(cv2.CAP_PROP_FRAME_HEIGHT)\n",
        "#video controller\n",
        "fourcc = cv2.VideoWriter_fourcc(*'DIVX')\n",
        "out = cv2.VideoWriter(save_video_path, fourcc, 30.0, (int(width), int(height)))"
      ],
      "metadata": {
        "id": "NZMtP_DJGga2"
      },
      "execution_count": 17,
      "outputs": []
    },
    {
      "cell_type": "code",
      "source": [
        "with mp_pose.Pose(\n",
        "        min_detection_confidence=0.7,\n",
        "        min_tracking_confidence=0.7) as pose:\n",
        "    while cap.isOpened():\n",
        "        success, image = cap.read()\n",
        "        if not success:\n",
        "            print(\"카메라를 찾을 수 없습니다.\")\n",
        "            # 웹캠을 불러올 경우는 'continue', 동영상을 불러올 경우 'break'를 사용합니다.\n",
        "            break\n",
        "\n",
        "        # 필요에 따라 성능 향상을 위해 이미지 작성을 불가능함으로 기본 설정합니다.\n",
        "        image.flags.writeable = False\n",
        "        image = cv2.cvtColor(image, cv2.COLOR_BGR2RGB)\n",
        "        results = pose.process(image)\n",
        "\n",
        "        # 포즈 주석을 이미지 위에 그립니다.\n",
        "        image.flags.writeable = True\n",
        "        image = cv2.cvtColor(image, cv2.COLOR_RGB2BGR)\n",
        "        mp_drawing.draw_landmarks(\n",
        "            image,\n",
        "            results.pose_landmarks,\n",
        "            mp_pose.POSE_CONNECTIONS,\n",
        "            landmark_drawing_spec=mp_drawing_styles.get_default_pose_landmarks_style())\n",
        "        # 보기 편하게 이미지를 좌우 반전합니다.\n",
        "        #cv2.imshow('MediaPipe Pose', image) #코랩에서 돌릴거면 imshow()문은 주석처리할 것.\n",
        "        out.write(image)\n",
        "        if cv2.waitKey(5) & 0xFF == 27:\n",
        "            break\n",
        "cap.release()\n",
        "out.release()\n",
        "cv2.destroyAllWindows()"
      ],
      "metadata": {
        "colab": {
          "base_uri": "https://localhost:8080/"
        },
        "id": "gCgcZ0bgGg7R",
        "outputId": "e8e7ed8e-bcb5-4c55-b38f-864b81a47242"
      },
      "execution_count": 18,
      "outputs": [
        {
          "output_type": "stream",
          "name": "stdout",
          "text": [
            "카메라를 찾을 수 없습니다.\n"
          ]
        }
      ]
    },
    {
      "cell_type": "code",
      "source": [
        "### mediapipe hands 코드\n",
        "\n",
        "import cv2\n",
        "import mediapipe as mp\n",
        "\n",
        "# 모델 로드\n",
        "mp_hands = mp.solutions.hands\n",
        "hands = mp_hands.Hands()\n",
        "\n",
        "# 비디오 캡처 객체 생성\n",
        "cap = cv2.VideoCapture(\"/content/tennischool_output_brush.mp4\")\n",
        "\n",
        "# 비디오 쓰기 객체 생성\n",
        "fourcc = cv2.VideoWriter_fourcc(*'mp4v')\n",
        "out = cv2.VideoWriter('tennis_brush.mp4', fourcc, 30.0, (640, 480))\n",
        "\n",
        "while cap.isOpened():\n",
        "    ret, frame = cap.read()\n",
        "\n",
        "    if not ret:\n",
        "        print(\"비디오를 불러올 수 없습니다.\")\n",
        "        break\n",
        "\n",
        "    # 이미지 뒤집기\n",
        "    frame = cv2.flip(frame, 1)\n",
        "\n",
        "    # RGB로 변환\n",
        "    frame_rgb = cv2.cvtColor(frame, cv2.COLOR_BGR2RGB)\n",
        "\n",
        "    # 손 탐지\n",
        "    results = hands.process(frame_rgb)\n",
        "\n",
        "    # 손이 감지되면 물체 좌표 출력\n",
        "    if results.multi_hand_landmarks:\n",
        "        for hand_landmarks in results.multi_hand_landmarks:\n",
        "            # 손목 좌표\n",
        "            wrist_x = int(hand_landmarks.landmark[0].x * frame.shape[1])\n",
        "            wrist_y = int(hand_landmarks.landmark[0].y * frame.shape[0])\n",
        "\n",
        "            # 중지 끝 좌표\n",
        "            thumb_tip_x = int(hand_landmarks.landmark[4].x * frame.shape[1])\n",
        "            thumb_tip_y = int(hand_landmarks.landmark[4].y * frame.shape[0])\n",
        "\n",
        "            # 물체 위치 계산\n",
        "            obj_x = (wrist_x + thumb_tip_x) // 2\n",
        "            obj_y = (wrist_y + thumb_tip_y) // 2\n",
        "\n",
        "            # 물체 좌표 출력\n",
        "            print(f\"Object position: ({obj_x}, {obj_y})\")\n",
        "\n",
        "            # 손의 랜드마크 그리기\n",
        "            mp_drawing.draw_landmarks(frame, hand_landmarks, mp_hands.HAND_CONNECTIONS)\n",
        "\n",
        "    # 비디오 쓰기\n",
        "    out.write(frame)\n",
        "\n",
        "    # 영상 출력\n",
        "   #cv2.imshow(\"Hand detection\", frame)\n",
        "\n",
        "    # 종료\n",
        "    if cv2.waitKey(1) & 0xFF == ord(\"q\"):\n",
        "        break\n",
        "\n",
        "# 객체 해제\n",
        "hands.close()\n",
        "cap.release()\n",
        "out.release()\n",
        "cv2.destroyAllWindows()"
      ],
      "metadata": {
        "colab": {
          "base_uri": "https://localhost:8080/"
        },
        "id": "5muUYfWvGhFE",
        "outputId": "19499ee2-dc86-4da3-d9fb-deb4365ed9c0"
      },
      "execution_count": 23,
      "outputs": [
        {
          "output_type": "stream",
          "name": "stdout",
          "text": [
            "Object position: (606, 906)\n",
            "Object position: (590, 892)\n",
            "Object position: (565, 865)\n",
            "Object position: (578, 853)\n",
            "Object position: (561, 839)\n",
            "Object position: (559, 825)\n",
            "Object position: (555, 820)\n",
            "Object position: (552, 814)\n",
            "Object position: (557, 803)\n",
            "Object position: (557, 796)\n",
            "Object position: (561, 794)\n",
            "Object position: (563, 789)\n",
            "Object position: (564, 788)\n",
            "Object position: (563, 787)\n",
            "Object position: (562, 788)\n",
            "Object position: (570, 795)\n",
            "Object position: (566, 792)\n",
            "Object position: (575, 804)\n",
            "Object position: (571, 807)\n",
            "Object position: (528, 787)\n",
            "Object position: (555, 794)\n",
            "Object position: (545, 800)\n",
            "Object position: (507, 778)\n",
            "Object position: (303, 738)\n",
            "Object position: (289, 741)\n",
            "Object position: (287, 733)\n",
            "Object position: (281, 729)\n",
            "Object position: (272, 728)\n",
            "Object position: (277, 729)\n",
            "Object position: (280, 729)\n",
            "Object position: (268, 723)\n",
            "Object position: (269, 722)\n",
            "Object position: (270, 720)\n",
            "Object position: (269, 720)\n",
            "Object position: (274, 718)\n",
            "Object position: (281, 717)\n",
            "Object position: (271, 718)\n",
            "Object position: (270, 718)\n",
            "Object position: (271, 717)\n",
            "Object position: (273, 718)\n",
            "Object position: (275, 720)\n",
            "Object position: (298, 723)\n",
            "Object position: (291, 730)\n",
            "Object position: (302, 730)\n",
            "Object position: (550, 904)\n",
            "Object position: (563, 904)\n",
            "Object position: (601, 908)\n",
            "Object position: (543, 876)\n",
            "Object position: (566, 889)\n",
            "Object position: (539, 875)\n",
            "Object position: (483, 878)\n",
            "Object position: (528, 876)\n",
            "Object position: (481, 875)\n",
            "Object position: (481, 875)\n",
            "Object position: (485, 872)\n",
            "Object position: (494, 871)\n",
            "Object position: (500, 866)\n",
            "Object position: (497, 865)\n",
            "Object position: (495, 866)\n",
            "Object position: (487, 863)\n",
            "Object position: (485, 865)\n",
            "Object position: (472, 856)\n",
            "Object position: (466, 859)\n",
            "Object position: (459, 858)\n",
            "Object position: (461, 858)\n",
            "Object position: (456, 858)\n",
            "Object position: (455, 862)\n",
            "Object position: (457, 860)\n",
            "Object position: (463, 861)\n",
            "Object position: (467, 867)\n",
            "Object position: (470, 874)\n",
            "Object position: (473, 881)\n",
            "Object position: (481, 884)\n",
            "Object position: (484, 882)\n",
            "Object position: (489, 882)\n",
            "Object position: (496, 880)\n",
            "Object position: (502, 877)\n",
            "Object position: (510, 879)\n",
            "Object position: (500, 875)\n",
            "Object position: (499, 870)\n",
            "Object position: (488, 865)\n",
            "Object position: (480, 866)\n",
            "Object position: (457, 878)\n",
            "Object position: (442, 877)\n",
            "Object position: (426, 871)\n",
            "Object position: (361, 859)\n",
            "Object position: (352, 850)\n",
            "Object position: (352, 847)\n",
            "Object position: (357, 845)\n",
            "Object position: (361, 842)\n",
            "Object position: (363, 841)\n",
            "Object position: (363, 844)\n",
            "Object position: (363, 844)\n",
            "Object position: (617, 960)\n",
            "Object position: (363, 846)\n",
            "Object position: (363, 848)\n",
            "Object position: (362, 852)\n",
            "Object position: (366, 862)\n",
            "Object position: (357, 857)\n",
            "Object position: (357, 861)\n",
            "Object position: (364, 882)\n",
            "Object position: (369, 891)\n",
            "Object position: (374, 904)\n",
            "Object position: (380, 923)\n",
            "Object position: (573, 947)\n",
            "Object position: (430, 940)\n",
            "비디오를 불러올 수 없습니다.\n"
          ]
        }
      ]
    },
    {
      "cell_type": "code",
      "source": [
        "####잡 것.\n",
        "\n",
        "\n",
        "import cv2\n",
        "import mediapipe as mp\n",
        "\n",
        "# 모델 로드\n",
        "mp_hands = mp.solutions.hands\n",
        "hands = mp_hands.Hands()\n",
        "\n",
        "# mp_drawing 모듈 임포트\n",
        "mp_drawing = mp.solutions.drawing_utils\n",
        "\n",
        "# 비디오 캡처 객체 생성\n",
        "cap = cv2.VideoCapture(\"/content/tennischool_output_brush.mp4\")\n",
        "\n",
        "# 비디오 쓰기 객체 생성\n",
        "fourcc = cv2.VideoWriter_fourcc(*'mp4v')\n",
        "out = cv2.VideoWriter('tennis_brush.mp4', fourcc, 30.0, (640, 480))\n",
        "\n",
        "while cap.isOpened():\n",
        "    ret, frame = cap.read()\n",
        "\n",
        "    if not ret:\n",
        "        print(\"비디오를 불러올 수 없습니다.\")\n",
        "        break\n",
        "\n",
        "    # 이미지 뒤집기\n",
        "    frame = cv2.flip(frame, 1)\n",
        "\n",
        "    # RGB로 변환\n",
        "    frame_rgb = cv2.cvtColor(frame, cv2.COLOR_BGR2RGB)\n",
        "\n",
        "    # 손 탐지\n",
        "    results = hands.process(frame_rgb)\n",
        "\n",
        "    # 손이 감지되면 물체 좌표 출력\n",
        "    if results.multi_hand_landmarks:\n",
        "        for hand_landmarks in results.multi_hand_landmarks:\n",
        "            # 손목 좌표\n",
        "            wrist_x = int(hand_landmarks.landmark[0].x * frame.shape[1])\n",
        "            wrist_y = int(hand_landmarks.landmark[0].y * frame.shape[0])\n",
        "\n",
        "            # 중지 끝 좌표\n",
        "            thumb_tip_x = int(hand_landmarks.landmark[4].x * frame.shape[1])\n",
        "            thumb_tip_y = int(hand_landmarks.landmark[4].y * frame.shape[0])\n",
        "\n",
        "            # 물체 위치 계산\n",
        "            obj_x = (wrist_x + thumb_tip_x) // 2\n",
        "            obj_y = (wrist_y + thumb_tip_y) // 2\n",
        "\n",
        "            # 물체 좌표 출력\n",
        "            print(f\"Object position: ({obj_x}, {obj_y})\")\n",
        "\n",
        "            # 손의 랜드마크 그리기\n",
        "            mp_drawing.draw_landmarks(frame, hand_landmarks, mp_hands.HAND_CONNECTIONS)\n",
        "\n",
        "    # 비디오 쓰기\n",
        "    out.write(frame)\n",
        "\n",
        "    # 영상 출력\n",
        "   #cv2.imshow(\"Hand detection\", frame)\n",
        "\n",
        "    # 종료\n",
        "    if cv2.waitKey(1) & 0xFF == ord(\"q\"):\n",
        "        break\n",
        "\n",
        "# 객체 해제\n",
        "hands.close()\n",
        "cap.release()\n",
        "out.release()\n",
        "cv2.destroyAllWindows()"
      ],
      "metadata": {
        "id": "ZtiqaD1RMUcp"
      },
      "execution_count": null,
      "outputs": []
    }
  ]
}